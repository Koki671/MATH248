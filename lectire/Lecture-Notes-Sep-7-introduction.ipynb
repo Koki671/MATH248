{
 "cells": [
  {
   "cell_type": "markdown",
   "metadata": {},
   "source": [
    "# MATH 248\n",
    "\n",
    "## Instructor\n",
    "Junling Ma, (junlingm@uvic.ca)\n",
    "\n",
    "## Course information\n",
    "The BrightSpace site: https://bright.uvic.ca/d2l/home/221195\n",
    "\n",
    "## Python\n",
    "We use Python in this course, as this is what you learned from CSC 110 (or 111). \n",
    "\n",
    "# Jupyter\n",
    "We will use this Jupyter server: https://uvic.syzygy.ca, where you can login with your UVic Netlink ID.\n",
    "This is an web based interactive Python shell (it also supports R but we do not use it in this course).\n",
    "\n",
    "## Start a new notebook\n",
    "Click on New -> Python 3 on the top right corner of the Jypyter homepage\n",
    "\n",
    "## Rename a new notebook\n",
    "Upon start up, your notebook is untitled (or has \"Untitle\" as the name). You can rename it using one of the two methods:\n",
    "* Use the File -> Save as... menu just under the JupyterHub icon\n",
    "  * next level\n",
    "* click on the title of the notebook (most likely \"Untitled\" now) immediately following the JupyterHub logo\n",
    "\n",
    "## Save your changes\n",
    "You can save the changes using one of the two methods\n",
    "\n",
    "* Use the File -> Save and Checkpoint, which saves and marks a checkpoint that you can later revert to\n",
    "* Use the (left most) floppy disk icon on the toolbar immediately below the menu bar"
   ]
  },
  {
   "cell_type": "markdown",
   "metadata": {},
   "source": [
    "# The Notebook\n",
    "You will see that a notebook is organized into cells. There are four cell types, which you can change with the drop down menu in the tool bar. We really only use the first two types:\n",
    "* Code: the cell contains Python code\n",
    "* Markdown: the cell that you are reading is a Markdown cell. Markdown is a markup language, like Wiki or HTML, but simpler. It is mainly used to document your notebooks. The use of such cells are not required But it is a good practice to document your code well. If you plan to use it, please see https://www.markdownguide.org/getting-started/ for a quick guide.\n",
    "\n",
    "The following two types are not relavent to this course.\n",
    "* Raw NBconvert: we do not use it in this course. For those who are curious, these cells are sometimes used when converting a notebook to other types of documents, such as a PDF.\n",
    "* Heading: this type has been deprecated. It was to mark a section in the notebook. But now the Markdown cell serves that purpose.\n",
    "\n",
    "## Run a cell\n",
    "* If you run a Markdown cell, the contents are typeset; if you run a Code cell, the Python codes are executed \n",
    "* Activate a cell to make it the current cell if it is already activated (by clicking on the cell)\n",
    "* Click the **Run** buttom in the toolbar"
   ]
  },
  {
   "cell_type": "code",
   "execution_count": 1,
   "metadata": {},
   "outputs": [
    {
     "name": "stdout",
     "output_type": "stream",
     "text": [
      "1\n"
     ]
    },
    {
     "data": {
      "text/plain": [
       "1"
      ]
     },
     "execution_count": 1,
     "metadata": {},
     "output_type": "execute_result"
    }
   ],
   "source": [
    "# This is a Code cell\n",
    "# Anything following a leading # is a comment line, i.e., Python ignores this line. \n",
    "# These lines are mainly used for documenting the code. \n",
    "# Some times we also use them to prevent a line from being executed for example, the following line\n",
    "# a = 1\n",
    "# the above line does not assign 1 to the variable a\n",
    "\n",
    "a = 1\n",
    "# Now a is 1, \n",
    "# lets print out the value\n",
    "print(a)\n",
    "\n",
    "# or, as the last line of the cell\n",
    "a"
   ]
  },
  {
   "cell_type": "markdown",
   "metadata": {},
   "source": [
    "# Variable\n",
    "\n",
    "A placeholder (a block of computer memory) that stores a value. It is called a variable because its value may change (through value assignment).\n",
    "\n",
    "## Name\n",
    "Variables are referred to by their names, like the variable a in teh above code. The names are case sensitive, i.e., a and A are two different variables. The names are letters (a-z and A-Z) followed by other letters or digits or the underscore _\n",
    "\n",
    "## Value\n",
    "A variable holds a single value. They can be one of the following types\n",
    "* **an interger**, like 1, 2, 1000 etc. There is effectively no limit on how large the integer can be, as long as the computer has enough memory to hold it.\n",
    "* **a float-point number**, like 1.3, -10/3, etc, or in scientific notation $-5.3\\times10^{-8}$ can be written as -5.3e-8 or 5.3E-8, i.e., a value followed by **e** or **E** followed by an exponent of 10. "
   ]
  },
  {
   "cell_type": "code",
   "execution_count": 2,
   "metadata": {},
   "outputs": [
    {
     "data": {
      "text/plain": [
       "5000000.0"
      ]
     },
     "execution_count": 2,
     "metadata": {},
     "output_type": "execute_result"
    }
   ],
   "source": [
    "# example what is 5e6 equal to? \n",
    "5e6"
   ]
  },
  {
   "cell_type": "markdown",
   "metadata": {},
   "source": [
    "* **a string** is a string of characters, either single quoted, like 'this is a string', or double quoted \"this is another string\". Single or double quoted strings are the same as long as the strong of characters are the same."
   ]
  },
  {
   "cell_type": "code",
   "execution_count": 3,
   "metadata": {},
   "outputs": [
    {
     "data": {
      "text/plain": [
       "True"
      ]
     },
     "execution_count": 3,
     "metadata": {},
     "output_type": "execute_result"
    }
   ],
   "source": [
    "s = \"it's correct\"\n",
    "# the operator == compares two values\n",
    "'test 1' == \"test 1\""
   ]
  },
  {
   "cell_type": "markdown",
   "metadata": {},
   "source": [
    "* **a complex number**, such as 1+2j (which is commonly known as $1+2i$) where 1 is the real part and 2 is the imaginary part.\n",
    "  * We can use complex(1, 2) to construct it, or simply 1+2J\n",
    "  * We can use arithmatic operations such as +, -, *, /, **."
   ]
  },
  {
   "cell_type": "code",
   "execution_count": 18,
   "metadata": {},
   "outputs": [
    {
     "data": {
      "text/plain": [
       "True"
      ]
     },
     "execution_count": 18,
     "metadata": {},
     "output_type": "execute_result"
    }
   ],
   "source": [
    "# complex number example\n",
    "# set the value of the value C to 1+2j\n",
    "C = 1+2j\n",
    "C == complex(1, 2)"
   ]
  },
  {
   "cell_type": "code",
   "execution_count": 17,
   "metadata": {},
   "outputs": [
    {
     "name": "stdout",
     "output_type": "stream",
     "text": [
      "The real part of C = 1.0\n",
      "The imaginary part of C = 2.0\n",
      "(1+2j)*(2+1j)/(3-1j)= (-0.49999999999999994+1.5j)\n"
     ]
    }
   ],
   "source": [
    "# the real part and imaginary part of C can be accessed as C.real and C.imag\n",
    "print(\"The real part of C =\", C.real)\n",
    "print(\"The imaginary part of C =\", C.imag)\n",
    "print(\"(1+2j)*(2+1j)/(3-1j)=\", (1+2j)*(2+1j)/(3-1j))"
   ]
  },
  {
   "cell_type": "markdown",
   "metadata": {},
   "source": [
    "* **a boolean**, which only takes two values, TRUE or FALSE"
   ]
  },
  {
   "cell_type": "code",
   "execution_count": 6,
   "metadata": {},
   "outputs": [
    {
     "name": "stdout",
     "output_type": "stream",
     "text": [
      "True\n"
     ]
    }
   ],
   "source": [
    "# boolean example\n",
    "a = 2 > 1\n",
    "print(a)"
   ]
  },
  {
   "cell_type": "markdown",
   "metadata": {},
   "source": [
    "* Other types, such as functions (e.g., print as we have used), lists, dictionaries or classes. We will see them later in this course.\n",
    "\n",
    "## Assign a value to a variable\n",
    "* We have seen a few assignments in previous examples, they all have the form of **name=value**\n",
    "* subsequent assignments to the same variable overwrites the previous value (which is then lost).\n",
    "* you can add arbitrary number of whitespaces around the equal sign"
   ]
  },
  {
   "cell_type": "code",
   "execution_count": 7,
   "metadata": {},
   "outputs": [
    {
     "name": "stdout",
     "output_type": "stream",
     "text": [
      "1\n",
      "0.021\n",
      "a = this is a string\n",
      "b = this is a string\n"
     ]
    }
   ],
   "source": [
    "a=1\n",
    "print(a)\n",
    "a =2.1e-2\n",
    "print(a)\n",
    "a   = \"this is a string\"\n",
    "b = a\n",
    "print(\"a =\", a)\n",
    "print(\"b =\", b)"
   ]
  },
  {
   "cell_type": "markdown",
   "metadata": {},
   "source": [
    "# Operators\n",
    "\n",
    "* Math operators\n",
    "  * **parantheses**: ( and ) to change the order of calculation \n",
    "  * **add**: `+`\n",
    "  * **subtraction**: `-`\n",
    "  * **multiplication**: `*`\n",
    "  * **division**: `/` (also, **floor division** //)\n",
    "  * **power**: `**`, e.g., `2 ** 3` (which is $2^3$)\n",
    "  * **modulus**: `%`\n",
    "  * **bitwise operators** (most likely we do not use them in this course, but they are useful in other contexts)\n",
    "\n",
    "* Boolean operators\n",
    "  * Comparisons: \n",
    "    * **equal to** `==`\n",
    "    * **not equal to** `!=`\n",
    "    * **greater than** `>`\n",
    "    * **greater then or equal to** `>=`\n",
    "    * **less than**: `<`\n",
    "    * **less than or equal to**: `<=`\n",
    "  * Boolean operations:\n",
    "    * **and**: `and`\n",
    "    * **or**: `or`\n",
    "    \n",
    "* String operations\n",
    "  * **concatenation**: `+`\n",
    "  * **format**: `%` (we will introduce later)"
   ]
  },
  {
   "cell_type": "markdown",
   "metadata": {},
   "source": [
    "# A Simple Example: Free Falling Object\n",
    "For a free falling object, given an initial positive $x_0$ and an initial velocity $v_0$ at time $0$, what is its position $x(t)$ at time $t$?\n",
    "$$ x(t) = \\frac{1}{2}gt^2 + v_0t + x_0 $$"
   ]
  },
  {
   "cell_type": "code",
   "execution_count": 10,
   "metadata": {},
   "outputs": [
    {
     "name": "stdout",
     "output_type": "stream",
     "text": [
      "t = 2, x = 24.6133\n",
      "t = 3, x = 24.6133 what?\n"
     ]
    }
   ],
   "source": [
    "# Inputs:\n",
    "# the gravitational constant g\n",
    "# Python functions are organized in to modules\n",
    "\n",
    "# the constant g is defined the scipy model, constants subpackage\n",
    "from scipy.constants import g\n",
    "\n",
    "# time t\n",
    "t = 2\n",
    "\n",
    "# initial velocity\n",
    "v0 = 2\n",
    "\n",
    "# initial positive\n",
    "x0 = 1\n",
    "\n",
    "# positive\n",
    "x = g/2 * t**2 + v0 * t + x0\n",
    "print(\"t = 2, x =\", x)\n",
    "\n",
    "# at a different time 3\n",
    "t = 3\n",
    "print(\"t = 3, x =\", x, \"what?\")\n",
    "# Why does the value of x does not change?\n",
    "# how to we compute x(3)?\n"
   ]
  },
  {
   "cell_type": "code",
   "execution_count": 9,
   "metadata": {},
   "outputs": [
    {
     "name": "stdout",
     "output_type": "stream",
     "text": [
      "t = 3, x = 51.129925 correct!\n"
     ]
    }
   ],
   "source": [
    "x = g/2 * t**2 + v0 * t + x0\n",
    "print(\"t = 3, x =\", x, \"correct!\")"
   ]
  },
  {
   "cell_type": "code",
   "execution_count": null,
   "metadata": {},
   "outputs": [],
   "source": []
  }
 ],
 "metadata": {
  "kernelspec": {
   "display_name": "Python 3 (ipykernel)",
   "language": "python",
   "name": "python3"
  },
  "language_info": {
   "codemirror_mode": {
    "name": "ipython",
    "version": 3
   },
   "file_extension": ".py",
   "mimetype": "text/x-python",
   "name": "python",
   "nbconvert_exporter": "python",
   "pygments_lexer": "ipython3",
   "version": "3.8.9"
  }
 },
 "nbformat": 4,
 "nbformat_minor": 4
}
