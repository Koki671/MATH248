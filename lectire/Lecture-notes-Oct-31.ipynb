{
 "cells": [
  {
   "cell_type": "markdown",
   "metadata": {},
   "source": [
    "# Symbolic Calculation with Sympy\n",
    "\n",
    "The numerical methods that we have learned so far give numerical approximations to a true value.\n",
    "* We cannot use them to derive analytic formula or find exact solutions\n",
    "* we cannot handle problems with unknown parameters\n",
    "\n",
    "## Example\n",
    "Solve $x^2-\\alpha=0$. \n",
    "* This cannot be solved numerically without assigning $\\alpha$ a specific value.\n",
    "* Yet, we know there are two solutions $x=\\pm\\sqrt\\alpha$\n",
    "* These solutions are found without assigning a value for $\\alpha$\n",
    "* This is an example of symbolic calculation\n",
    "  * $\\alpha$ and $x$ are treated as symbols.\n",
    "\n",
    "Not all problems have analytic solutions, so not all problems can be solved symbolically.\n",
    "* However, for the limited set of problems that we can be solved, we get exact solutions and analytic formula\n",
    "\n",
    "The `sympy` module provides facilities to conduct symbolic calculations\n",
    "\n",
    "## Symbols \n",
    "The key concept for symbolic calculations using the `sympy` module is a symbol.\n",
    "* Symbol is a python object that have a name and some properties. The name is useful for distinguishing symbols, and for printing.\n",
    "* A symbol does not have a specific numerical value\n",
    "\n",
    "There are three commonly used approaches to create a symbol:\n",
    "### `Symbol` class\n",
    "A symbol is an object of `Symbol` class\n",
    " * So we can construct a symbol using its constructor\n",
    " * `Symbol(name)` creates a symbol with the given name\n",
    " * it can take muptiple optional arguments about the assumption of the symbol, such as `integer=True` or `real=True` or `positive=True`\n",
    " \n",
    "To use the symbol, we assign the object to a variable. The variable names may be different from symbol name.\n",
    "\n",
    "### pretty-display a symbol\n",
    "The `display` function in `IPython.display` displays a symbol (or expression) nicely, using subscripts, supperscripts, and greek letters"
   ]
  },
  {
   "cell_type": "code",
   "execution_count": 2,
   "metadata": {},
   "outputs": [
    {
     "name": "stdout",
     "output_type": "stream",
     "text": [
      "x1 alpha\n"
     ]
    },
    {
     "data": {
      "text/latex": [
       "$\\displaystyle x_{1}$"
      ],
      "text/plain": [
       "x1"
      ]
     },
     "metadata": {},
     "output_type": "display_data"
    },
    {
     "data": {
      "text/latex": [
       "$\\displaystyle \\alpha$"
      ],
      "text/plain": [
       "alpha"
      ]
     },
     "metadata": {},
     "output_type": "display_data"
    }
   ],
   "source": [
    "from sympy import *\n",
    "from IPython.display import display\n",
    "\n",
    "# an integer x1\n",
    "x1 = Symbol(\"x1\", integer=True)\n",
    "# a symbol alpha without assumptions\n",
    "a = Symbol(\"alpha\")\n",
    "print(x1, a)\n",
    "display(x1, a)"
   ]
  },
  {
   "cell_type": "code",
   "execution_count": 3,
   "metadata": {},
   "outputs": [
    {
     "name": "stdout",
     "output_type": "stream",
     "text": [
      "x = y  and y = x\n"
     ]
    }
   ],
   "source": [
    "# this is correct, but confusing\n",
    "x = Symbol(\"y\")\n",
    "y = Symbol(\"x\")\n",
    "print(\"x =\", x, \" and y =\", y)"
   ]
  },
  {
   "cell_type": "markdown",
   "metadata": {},
   "source": [
    "### `symbols` function\n",
    "The `symbols` function creates multiple symbols, and return them as a tuple\n",
    "* `symbols(names)` where names is a string with space or comma separated names\n",
    "* Optional arguments can be used to specify assumptions of these symbols \n",
    "* slice notations can be used to declare a sequence of symbols"
   ]
  },
  {
   "cell_type": "code",
   "execution_count": 4,
   "metadata": {},
   "outputs": [
    {
     "name": "stdout",
     "output_type": "stream",
     "text": [
      "d0 d1 d2\n"
     ]
    },
    {
     "data": {
      "text/latex": [
       "$\\displaystyle d_{0}$"
      ],
      "text/plain": [
       "d0"
      ]
     },
     "metadata": {},
     "output_type": "display_data"
    },
    {
     "data": {
      "text/latex": [
       "$\\displaystyle d_{1}$"
      ],
      "text/plain": [
       "d1"
      ]
     },
     "metadata": {},
     "output_type": "display_data"
    },
    {
     "data": {
      "text/latex": [
       "$\\displaystyle d_{2}$"
      ],
      "text/plain": [
       "d2"
      ]
     },
     "metadata": {},
     "output_type": "display_data"
    }
   ],
   "source": [
    "x, y, z =symbols(\"x y z\")\n",
    "a, b = symbols(\"a, b\")\n",
    "c = symbols(\"c\", real=True)\n",
    "d0, d1, d2=symbols(\"d:3\") # same as \"d0:3\"\n",
    "print(d0, d1, d2)\n",
    "display(d0, d1, d2)\n"
   ]
  },
  {
   "cell_type": "markdown",
   "metadata": {},
   "source": [
    "### `sympy.abc` package\n",
    "The `sympy.abc` package defines all single-character (both upper and lower case letters) and greek variable name"
   ]
  },
  {
   "cell_type": "code",
   "execution_count": 5,
   "metadata": {},
   "outputs": [
    {
     "data": {
      "text/latex": [
       "$\\displaystyle \\alpha$"
      ],
      "text/plain": [
       "alpha"
      ]
     },
     "metadata": {},
     "output_type": "display_data"
    },
    {
     "data": {
      "text/latex": [
       "$\\displaystyle \\beta$"
      ],
      "text/plain": [
       "beta"
      ]
     },
     "metadata": {},
     "output_type": "display_data"
    },
    {
     "data": {
      "text/latex": [
       "$\\displaystyle \\gamma$"
      ],
      "text/plain": [
       "gamma"
      ]
     },
     "metadata": {},
     "output_type": "display_data"
    }
   ],
   "source": [
    "from sympy.abc import alpha, beta, gamma\n",
    "display(alpha, beta, gamma)"
   ]
  },
  {
   "cell_type": "markdown",
   "metadata": {},
   "source": [
    "## expressions\n",
    "\n",
    "A symbolic expression do not evaluate to a value, instead, they represent the specified mathmatical operations.\n",
    "\n",
    "An expression is also an object"
   ]
  },
  {
   "cell_type": "code",
   "execution_count": 13,
   "metadata": {},
   "outputs": [
    {
     "name": "stdout",
     "output_type": "stream",
     "text": [
      "cos(1)\n",
      "a + b\n"
     ]
    },
    {
     "data": {
      "text/plain": [
       "(a + 1, a*b, a/b, sin(a + b), exp(a/b))"
      ]
     },
     "execution_count": 13,
     "metadata": {},
     "output_type": "execute_result"
    }
   ],
   "source": [
    "# here cos(1) is not evaluated as a number\n",
    "print(cos(1))\n",
    "\n",
    "e=a+b\n",
    "print(e)\n",
    "a+1, a*b, a/b, sin(a+b), exp(a/b)"
   ]
  },
  {
   "cell_type": "markdown",
   "metadata": {},
   "source": [
    "## Commonly used mathematical functions\n",
    "Commonly used mathematical functions are defined in `sympy`\n",
    "* They do not evaluate a value, instead rthey represent a mathematical function\n"
   ]
  },
  {
   "cell_type": "code",
   "execution_count": 14,
   "metadata": {},
   "outputs": [
    {
     "data": {
      "text/latex": [
       "$\\displaystyle \\log{\\left(y \\right)} + \\cos{\\left(x \\right)}$"
      ],
      "text/plain": [
       "log(y) + cos(x)"
      ]
     },
     "execution_count": 14,
     "metadata": {},
     "output_type": "execute_result"
    }
   ],
   "source": [
    "cos(x)+log(y)"
   ]
  },
  {
   "cell_type": "markdown",
   "metadata": {},
   "source": [
    "## Simplifying an expression\n",
    "The `simplify` function trys to simplify an expression using some heuristics\n",
    "  * Not all expressions are simplifiable"
   ]
  },
  {
   "cell_type": "code",
   "execution_count": 156,
   "metadata": {},
   "outputs": [
    {
     "data": {
      "text/latex": [
       "$\\displaystyle \\sin^{2}{\\left(x \\right)} + \\cos^{2}{\\left(x \\right)}$"
      ],
      "text/plain": [
       "sin(x)**2 + cos(x)**2"
      ]
     },
     "metadata": {},
     "output_type": "display_data"
    },
    {
     "data": {
      "text/latex": [
       "$\\displaystyle 1$"
      ],
      "text/plain": [
       "1"
      ]
     },
     "metadata": {},
     "output_type": "display_data"
    }
   ],
   "source": [
    "display(cos(x)**2 +sin(x)**2)\n",
    "display(simplify(cos(x)**2 +sin(x)**2))"
   ]
  },
  {
   "cell_type": "markdown",
   "metadata": {},
   "source": [
    "## Solving an equation\n",
    "The `solve` function solves an equation symbolically\n",
    "\n",
    "* `solve(eq, var)` where eq is either an equation or an expression\n",
    "  * Eq(a, y) function represents $\\alpha=y$ \n",
    "  * If `eq` is an expression, then it is the same as Eq(eq, 0)\n",
    "  * `var` is the variable to solve\n",
    "  * it returns a list of solutions\n",
    "  "
   ]
  },
  {
   "cell_type": "code",
   "execution_count": 157,
   "metadata": {},
   "outputs": [
    {
     "data": {
      "text/plain": [
       "[-sqrt(alpha), sqrt(alpha)]"
      ]
     },
     "metadata": {},
     "output_type": "display_data"
    },
    {
     "data": {
      "text/latex": [
       "$\\displaystyle - \\sqrt{\\alpha}$"
      ],
      "text/plain": [
       "-sqrt(alpha)"
      ]
     },
     "metadata": {},
     "output_type": "display_data"
    },
    {
     "data": {
      "text/latex": [
       "$\\displaystyle \\sqrt{\\alpha}$"
      ],
      "text/plain": [
       "sqrt(alpha)"
      ]
     },
     "metadata": {},
     "output_type": "display_data"
    }
   ],
   "source": [
    "roots = solve(x**2-alpha, x)\n",
    "display(roots)\n",
    "display(roots[0], roots[1])"
   ]
  },
  {
   "cell_type": "code",
   "execution_count": 158,
   "metadata": {},
   "outputs": [
    {
     "data": {
      "text/latex": [
       "$\\displaystyle x^{2}$"
      ],
      "text/plain": [
       "x**2"
      ]
     },
     "metadata": {},
     "output_type": "display_data"
    }
   ],
   "source": [
    "display(solve(x**2-alpha, alpha)[0])"
   ]
  },
  {
   "cell_type": "markdown",
   "metadata": {},
   "source": [
    "Note that not all equations are solvable. \n",
    "\n",
    "For example, $x=\\sin x$ cannot be solved symbolically"
   ]
  },
  {
   "cell_type": "code",
   "execution_count": 159,
   "metadata": {},
   "outputs": [
    {
     "ename": "NotImplementedError",
     "evalue": "multiple generators [x, sin(x)]\nNo algorithms are implemented to solve equation -x + sin(x)",
     "output_type": "error",
     "traceback": [
      "\u001b[0;31m---------------------------------------------------------------------------\u001b[0m",
      "\u001b[0;31mNotImplementedError\u001b[0m                       Traceback (most recent call last)",
      "\u001b[0;32m<ipython-input-159-fd3cdf848dbe>\u001b[0m in \u001b[0;36m<module>\u001b[0;34m\u001b[0m\n\u001b[0;32m----> 1\u001b[0;31m \u001b[0msolve\u001b[0m\u001b[0;34m(\u001b[0m\u001b[0msin\u001b[0m\u001b[0;34m(\u001b[0m\u001b[0mx\u001b[0m\u001b[0;34m)\u001b[0m\u001b[0;34m-\u001b[0m\u001b[0mx\u001b[0m\u001b[0;34m,\u001b[0m \u001b[0mx\u001b[0m\u001b[0;34m)\u001b[0m\u001b[0;34m\u001b[0m\u001b[0;34m\u001b[0m\u001b[0m\n\u001b[0m",
      "\u001b[0;32m/opt/conda/lib/python3.7/site-packages/sympy/solvers/solvers.py\u001b[0m in \u001b[0;36msolve\u001b[0;34m(f, *symbols, **flags)\u001b[0m\n\u001b[1;32m   1172\u001b[0m     \u001b[0;31m###########################################################################\u001b[0m\u001b[0;34m\u001b[0m\u001b[0;34m\u001b[0m\u001b[0;34m\u001b[0m\u001b[0m\n\u001b[1;32m   1173\u001b[0m     \u001b[0;32mif\u001b[0m \u001b[0mbare_f\u001b[0m\u001b[0;34m:\u001b[0m\u001b[0;34m\u001b[0m\u001b[0;34m\u001b[0m\u001b[0m\n\u001b[0;32m-> 1174\u001b[0;31m         \u001b[0msolution\u001b[0m \u001b[0;34m=\u001b[0m \u001b[0m_solve\u001b[0m\u001b[0;34m(\u001b[0m\u001b[0mf\u001b[0m\u001b[0;34m[\u001b[0m\u001b[0;36m0\u001b[0m\u001b[0;34m]\u001b[0m\u001b[0;34m,\u001b[0m \u001b[0;34m*\u001b[0m\u001b[0msymbols\u001b[0m\u001b[0;34m,\u001b[0m \u001b[0;34m**\u001b[0m\u001b[0mflags\u001b[0m\u001b[0;34m)\u001b[0m\u001b[0;34m\u001b[0m\u001b[0;34m\u001b[0m\u001b[0m\n\u001b[0m\u001b[1;32m   1175\u001b[0m     \u001b[0;32melse\u001b[0m\u001b[0;34m:\u001b[0m\u001b[0;34m\u001b[0m\u001b[0;34m\u001b[0m\u001b[0m\n\u001b[1;32m   1176\u001b[0m         \u001b[0msolution\u001b[0m \u001b[0;34m=\u001b[0m \u001b[0m_solve_system\u001b[0m\u001b[0;34m(\u001b[0m\u001b[0mf\u001b[0m\u001b[0;34m,\u001b[0m \u001b[0msymbols\u001b[0m\u001b[0;34m,\u001b[0m \u001b[0;34m**\u001b[0m\u001b[0mflags\u001b[0m\u001b[0;34m)\u001b[0m\u001b[0;34m\u001b[0m\u001b[0;34m\u001b[0m\u001b[0m\n",
      "\u001b[0;32m/opt/conda/lib/python3.7/site-packages/sympy/solvers/solvers.py\u001b[0m in \u001b[0;36m_solve\u001b[0;34m(f, *symbols, **flags)\u001b[0m\n\u001b[1;32m   1746\u001b[0m \u001b[0;34m\u001b[0m\u001b[0m\n\u001b[1;32m   1747\u001b[0m     \u001b[0;32mif\u001b[0m \u001b[0mresult\u001b[0m \u001b[0;32mis\u001b[0m \u001b[0;32mFalse\u001b[0m\u001b[0;34m:\u001b[0m\u001b[0;34m\u001b[0m\u001b[0;34m\u001b[0m\u001b[0m\n\u001b[0;32m-> 1748\u001b[0;31m         \u001b[0;32mraise\u001b[0m \u001b[0mNotImplementedError\u001b[0m\u001b[0;34m(\u001b[0m\u001b[0;34m'\\n'\u001b[0m\u001b[0;34m.\u001b[0m\u001b[0mjoin\u001b[0m\u001b[0;34m(\u001b[0m\u001b[0;34m[\u001b[0m\u001b[0mmsg\u001b[0m\u001b[0;34m,\u001b[0m \u001b[0mnot_impl_msg\u001b[0m \u001b[0;34m%\u001b[0m \u001b[0mf\u001b[0m\u001b[0;34m]\u001b[0m\u001b[0;34m)\u001b[0m\u001b[0;34m)\u001b[0m\u001b[0;34m\u001b[0m\u001b[0;34m\u001b[0m\u001b[0m\n\u001b[0m\u001b[1;32m   1749\u001b[0m \u001b[0;34m\u001b[0m\u001b[0m\n\u001b[1;32m   1750\u001b[0m     \u001b[0;32mif\u001b[0m \u001b[0mflags\u001b[0m\u001b[0;34m.\u001b[0m\u001b[0mget\u001b[0m\u001b[0;34m(\u001b[0m\u001b[0;34m'simplify'\u001b[0m\u001b[0;34m,\u001b[0m \u001b[0;32mTrue\u001b[0m\u001b[0;34m)\u001b[0m\u001b[0;34m:\u001b[0m\u001b[0;34m\u001b[0m\u001b[0;34m\u001b[0m\u001b[0m\n",
      "\u001b[0;31mNotImplementedError\u001b[0m: multiple generators [x, sin(x)]\nNo algorithms are implemented to solve equation -x + sin(x)"
     ]
    }
   ],
   "source": [
    "solve(sin(x)-x, x)"
   ]
  },
  {
   "cell_type": "markdown",
   "metadata": {},
   "source": [
    "## Solve a linear system\n",
    "`linsolve` solves a system of linear equations\n",
    "* `linsolve(equations, variables)` solves the system of linear equations\n",
    "  * `equations` is a list equations\n",
    "  * variable is a tuple (or list) or variables to solve\n"
   ]
  },
  {
   "cell_type": "code",
   "execution_count": 161,
   "metadata": {},
   "outputs": [
    {
     "data": {
      "text/latex": [
       "$\\displaystyle \\left\\{\\left( \\frac{\\beta - 3 \\gamma}{\\alpha + \\beta - 2 \\gamma}, \\  - \\frac{\\alpha + \\gamma}{\\alpha + \\beta - 2 \\gamma}, \\  \\frac{3 \\alpha + \\beta}{\\alpha + \\beta - 2 \\gamma}\\right)\\right\\}$"
      ],
      "text/plain": [
       "FiniteSet(((beta - 3*gamma)/(alpha + beta - 2*gamma), -(alpha + gamma)/(alpha + beta - 2*gamma), (3*alpha + beta)/(alpha + beta - 2*gamma)))"
      ]
     },
     "metadata": {},
     "output_type": "display_data"
    },
    {
     "name": "stdout",
     "output_type": "stream",
     "text": [
      "FiniteSet(((beta - 3*gamma)/(alpha + beta - 2*gamma), -(alpha + gamma)/(alpha + beta - 2*gamma), (3*alpha + beta)/(alpha + beta - 2*gamma)))\n"
     ]
    }
   ],
   "source": [
    "r=linsolve([alpha*x+beta*y+gamma*z, Eq(x+y+z,2), Eq(x-y,1)], [x,y,z])\n",
    "display(r)\n",
    "print(r)"
   ]
  },
  {
   "cell_type": "markdown",
   "metadata": {},
   "source": [
    "The pair of {} represent that the solution is a set.\n",
    "  * The above example is an object of FiniteSet\n",
    "    * You may use its args instance variable to access the elements as a list"
   ]
  },
  {
   "cell_type": "code",
   "execution_count": 162,
   "metadata": {},
   "outputs": [
    {
     "data": {
      "text/latex": [
       "$\\displaystyle \\left( \\frac{\\beta - 3 \\gamma}{\\alpha + \\beta - 2 \\gamma}, \\  - \\frac{\\alpha + \\gamma}{\\alpha + \\beta - 2 \\gamma}, \\  \\frac{3 \\alpha + \\beta}{\\alpha + \\beta - 2 \\gamma}\\right)$"
      ],
      "text/plain": [
       "((beta - 3*gamma)/(alpha + beta - 2*gamma), -(alpha + gamma)/(alpha + beta - 2*gamma), (3*alpha + beta)/(alpha + beta - 2*gamma))"
      ]
     },
     "metadata": {},
     "output_type": "display_data"
    }
   ],
   "source": [
    "display(r.args[0])"
   ]
  },
  {
   "cell_type": "markdown",
   "metadata": {},
   "source": [
    "Each root is a tuple"
   ]
  },
  {
   "cell_type": "code",
   "execution_count": 163,
   "metadata": {},
   "outputs": [
    {
     "data": {
      "text/latex": [
       "$\\displaystyle \\frac{\\beta - 3 \\gamma}{\\alpha + \\beta - 2 \\gamma}$"
      ],
      "text/plain": [
       "(beta - 3*gamma)/(alpha + beta - 2*gamma)"
      ]
     },
     "metadata": {},
     "output_type": "display_data"
    },
    {
     "data": {
      "text/latex": [
       "$\\displaystyle - \\frac{\\alpha + \\gamma}{\\alpha + \\beta - 2 \\gamma}$"
      ],
      "text/plain": [
       "-(alpha + gamma)/(alpha + beta - 2*gamma)"
      ]
     },
     "metadata": {},
     "output_type": "display_data"
    },
    {
     "data": {
      "text/latex": [
       "$\\displaystyle \\frac{3 \\alpha + \\beta}{\\alpha + \\beta - 2 \\gamma}$"
      ],
      "text/plain": [
       "(3*alpha + beta)/(alpha + beta - 2*gamma)"
      ]
     },
     "metadata": {},
     "output_type": "display_data"
    }
   ],
   "source": [
    "display(r.args[0][0],r.args[0][1], r.args[0][2])"
   ]
  },
  {
   "cell_type": "code",
   "execution_count": 164,
   "metadata": {},
   "outputs": [
    {
     "data": {
      "text/latex": [
       "$\\displaystyle \\emptyset$"
      ],
      "text/plain": [
       "EmptySet"
      ]
     },
     "execution_count": 164,
     "metadata": {},
     "output_type": "execute_result"
    }
   ],
   "source": [
    "linsolve([alpha*x+beta*y+gamma*z, Eq(x+y+z,2), Eq(x-y,1)], [x,y])"
   ]
  },
  {
   "cell_type": "markdown",
   "metadata": {},
   "source": [
    "The above $\\emptyset$ means the empty set, i.e., no solutions"
   ]
  },
  {
   "cell_type": "markdown",
   "metadata": {},
   "source": [
    "## Solving nonlinear systems\n",
    "The `nonlinsolve` function solves a nonlinear system. Note that not all systems are solvable.\n",
    "\n",
    "### Example\n",
    "Solve \n",
    "\\begin{align}\n",
    "x^2+y^2&=1\\\\\n",
    "xy&=\\alpha\n",
    "\\end{align}\n"
   ]
  },
  {
   "cell_type": "code",
   "execution_count": 165,
   "metadata": {},
   "outputs": [
    {
     "data": {
      "text/latex": [
       "$\\displaystyle \\left\\{\\left( \\frac{\\sqrt{\\frac{1}{2} - \\frac{\\sqrt{1 - 4 \\alpha^{2}}}{2}} \\left(1 - \\sqrt{\\frac{1}{2} - \\frac{\\sqrt{1 - 4 \\alpha^{2}}}{2}}\\right) \\left(- \\sqrt{\\frac{1}{2} - \\frac{\\sqrt{1 - 4 \\alpha^{2}}}{2}} - 1\\right)}{\\alpha}, \\  - \\sqrt{\\frac{1}{2} - \\frac{\\sqrt{1 - 4 \\alpha^{2}}}{2}}\\right), \\left( - \\frac{\\sqrt{\\frac{1}{2} - \\frac{\\sqrt{1 - 4 \\alpha^{2}}}{2}} \\left(\\sqrt{\\frac{1}{2} - \\frac{\\sqrt{1 - 4 \\alpha^{2}}}{2}} - 1\\right) \\left(\\sqrt{\\frac{1}{2} - \\frac{\\sqrt{1 - 4 \\alpha^{2}}}{2}} + 1\\right)}{\\alpha}, \\  \\sqrt{\\frac{1}{2} - \\frac{\\sqrt{1 - 4 \\alpha^{2}}}{2}}\\right), \\left( \\frac{\\left(1 - \\sqrt{\\frac{\\sqrt{1 - 4 \\alpha^{2}}}{2} + \\frac{1}{2}}\\right) \\sqrt{\\frac{\\sqrt{1 - 4 \\alpha^{2}}}{2} + \\frac{1}{2}} \\left(- \\sqrt{\\frac{\\sqrt{1 - 4 \\alpha^{2}}}{2} + \\frac{1}{2}} - 1\\right)}{\\alpha}, \\  - \\sqrt{\\frac{\\sqrt{1 - 4 \\alpha^{2}}}{2} + \\frac{1}{2}}\\right), \\left( - \\frac{\\sqrt{\\frac{\\sqrt{1 - 4 \\alpha^{2}}}{2} + \\frac{1}{2}} \\left(\\sqrt{\\frac{\\sqrt{1 - 4 \\alpha^{2}}}{2} + \\frac{1}{2}} - 1\\right) \\left(\\sqrt{\\frac{\\sqrt{1 - 4 \\alpha^{2}}}{2} + \\frac{1}{2}} + 1\\right)}{\\alpha}, \\  \\sqrt{\\frac{\\sqrt{1 - 4 \\alpha^{2}}}{2} + \\frac{1}{2}}\\right)\\right\\}$"
      ],
      "text/plain": [
       "FiniteSet((-sqrt(1/2 - sqrt(1 - 4*alpha**2)/2)*(sqrt(1/2 - sqrt(1 - 4*alpha**2)/2) - 1)*(sqrt(1/2 - sqrt(1 - 4*alpha**2)/2) + 1)/alpha, sqrt(1/2 - sqrt(1 - 4*alpha**2)/2)), (-sqrt(sqrt(1 - 4*alpha**2)/2 + 1/2)*(sqrt(sqrt(1 - 4*alpha**2)/2 + 1/2) - 1)*(sqrt(sqrt(1 - 4*alpha**2)/2 + 1/2) + 1)/alpha, sqrt(sqrt(1 - 4*alpha**2)/2 + 1/2)), (sqrt(1/2 - sqrt(1 - 4*alpha**2)/2)*(1 - sqrt(1/2 - sqrt(1 - 4*alpha**2)/2))*(-sqrt(1/2 - sqrt(1 - 4*alpha**2)/2) - 1)/alpha, -sqrt(1/2 - sqrt(1 - 4*alpha**2)/2)), ((1 - sqrt(sqrt(1 - 4*alpha**2)/2 + 1/2))*sqrt(sqrt(1 - 4*alpha**2)/2 + 1/2)*(-sqrt(sqrt(1 - 4*alpha**2)/2 + 1/2) - 1)/alpha, -sqrt(sqrt(1 - 4*alpha**2)/2 + 1/2)))"
      ]
     },
     "execution_count": 165,
     "metadata": {},
     "output_type": "execute_result"
    }
   ],
   "source": [
    "nonlinsolve([x**2+y**2-1, Eq(x*y, alpha)], [x,y])"
   ]
  },
  {
   "cell_type": "markdown",
   "metadata": {},
   "source": [
    "## Substitution\n",
    "The `subs` method substitutes a symbol with a value (an expression)\n",
    "* it takes a dictionary as input\n",
    "  * A key is a variable to replace\n",
    "  * the corresponding value is the value to substitute\n",
    "  "
   ]
  },
  {
   "cell_type": "code",
   "execution_count": 166,
   "metadata": {},
   "outputs": [
    {
     "data": {
      "text/latex": [
       "$\\displaystyle a + b$"
      ],
      "text/plain": [
       "a + b"
      ]
     },
     "metadata": {},
     "output_type": "display_data"
    },
    {
     "data": {
      "text/latex": [
       "$\\displaystyle x^{2} + y^{2}$"
      ],
      "text/plain": [
       "x**2 + y**2"
      ]
     },
     "execution_count": 166,
     "metadata": {},
     "output_type": "execute_result"
    }
   ],
   "source": [
    "display(e)\n",
    "e.subs({a:x**2, b:y**2})"
   ]
  },
  {
   "cell_type": "markdown",
   "metadata": {},
   "source": [
    "## Numerical evaluation\n",
    "There are two approachs to evaluate an expression numerically\n",
    "* Use the `subs` method to substitute a float value to a symbol"
   ]
  },
  {
   "cell_type": "code",
   "execution_count": 167,
   "metadata": {},
   "outputs": [
    {
     "data": {
      "text/latex": [
       "$\\displaystyle a + b$"
      ],
      "text/plain": [
       "a + b"
      ]
     },
     "metadata": {},
     "output_type": "display_data"
    },
    {
     "data": {
      "text/latex": [
       "$\\displaystyle 3$"
      ],
      "text/plain": [
       "3"
      ]
     },
     "execution_count": 167,
     "metadata": {},
     "output_type": "execute_result"
    }
   ],
   "source": [
    "display(e)\n",
    "e.subs({a:1, b:2})"
   ]
  },
  {
   "cell_type": "markdown",
   "metadata": {},
   "source": [
    "### lambdify\n",
    "`lambdify(vars, e)` creates a lambda function from an expression\n",
    "*  vars are the arugments, and e is the expression\n"
   ]
  },
  {
   "cell_type": "code",
   "execution_count": 168,
   "metadata": {},
   "outputs": [
    {
     "data": {
      "text/plain": [
       "2.8284271247461903"
      ]
     },
     "execution_count": 168,
     "metadata": {},
     "output_type": "execute_result"
    }
   ],
   "source": [
    "f = lambdify([x, y], sqrt(x**2+y**2))\n",
    "f(2, 2)"
   ]
  },
  {
   "cell_type": "code",
   "execution_count": 169,
   "metadata": {},
   "outputs": [
    {
     "ename": "TypeError",
     "evalue": "loop of ufunc does not support argument 0 of type Add which has no callable sqrt method",
     "output_type": "error",
     "traceback": [
      "\u001b[0;31m---------------------------------------------------------------------------\u001b[0m",
      "\u001b[0;31mAttributeError\u001b[0m                            Traceback (most recent call last)",
      "\u001b[0;31mAttributeError\u001b[0m: 'Add' object has no attribute 'sqrt'",
      "\nThe above exception was the direct cause of the following exception:\n",
      "\u001b[0;31mTypeError\u001b[0m                                 Traceback (most recent call last)",
      "\u001b[0;32m<ipython-input-169-3be17c72901d>\u001b[0m in \u001b[0;36m<module>\u001b[0;34m\u001b[0m\n\u001b[1;32m      1\u001b[0m \u001b[0;31m# this does not work because alpha is a free symbol\u001b[0m\u001b[0;34m\u001b[0m\u001b[0;34m\u001b[0m\u001b[0;34m\u001b[0m\u001b[0m\n\u001b[1;32m      2\u001b[0m \u001b[0mf\u001b[0m \u001b[0;34m=\u001b[0m \u001b[0mlambdify\u001b[0m\u001b[0;34m(\u001b[0m\u001b[0;34m[\u001b[0m\u001b[0mx\u001b[0m\u001b[0;34m,\u001b[0m \u001b[0my\u001b[0m\u001b[0;34m]\u001b[0m\u001b[0;34m,\u001b[0m \u001b[0msqrt\u001b[0m\u001b[0;34m(\u001b[0m\u001b[0mx\u001b[0m\u001b[0;34m**\u001b[0m\u001b[0;36m2\u001b[0m\u001b[0;34m+\u001b[0m\u001b[0my\u001b[0m\u001b[0;34m**\u001b[0m\u001b[0;36m2\u001b[0m\u001b[0;34m-\u001b[0m\u001b[0malpha\u001b[0m\u001b[0;34m)\u001b[0m\u001b[0;34m)\u001b[0m\u001b[0;34m\u001b[0m\u001b[0;34m\u001b[0m\u001b[0m\n\u001b[0;32m----> 3\u001b[0;31m \u001b[0mf\u001b[0m\u001b[0;34m(\u001b[0m\u001b[0;36m2\u001b[0m\u001b[0;34m,\u001b[0m \u001b[0;36m2\u001b[0m\u001b[0;34m)\u001b[0m\u001b[0;34m\u001b[0m\u001b[0;34m\u001b[0m\u001b[0m\n\u001b[0m",
      "\u001b[0;32m<lambdifygenerated-18>\u001b[0m in \u001b[0;36m_lambdifygenerated\u001b[0;34m(x, y)\u001b[0m\n\u001b[1;32m      1\u001b[0m \u001b[0;32mdef\u001b[0m \u001b[0m_lambdifygenerated\u001b[0m\u001b[0;34m(\u001b[0m\u001b[0mx\u001b[0m\u001b[0;34m,\u001b[0m \u001b[0my\u001b[0m\u001b[0;34m)\u001b[0m\u001b[0;34m:\u001b[0m\u001b[0;34m\u001b[0m\u001b[0;34m\u001b[0m\u001b[0m\n\u001b[0;32m----> 2\u001b[0;31m     \u001b[0;32mreturn\u001b[0m \u001b[0;34m(\u001b[0m\u001b[0msqrt\u001b[0m\u001b[0;34m(\u001b[0m\u001b[0;34m-\u001b[0m\u001b[0malpha\u001b[0m \u001b[0;34m+\u001b[0m \u001b[0mx\u001b[0m\u001b[0;34m**\u001b[0m\u001b[0;36m2\u001b[0m \u001b[0;34m+\u001b[0m \u001b[0my\u001b[0m\u001b[0;34m**\u001b[0m\u001b[0;36m2\u001b[0m\u001b[0;34m)\u001b[0m\u001b[0;34m)\u001b[0m\u001b[0;34m\u001b[0m\u001b[0;34m\u001b[0m\u001b[0m\n\u001b[0m",
      "\u001b[0;31mTypeError\u001b[0m: loop of ufunc does not support argument 0 of type Add which has no callable sqrt method"
     ]
    }
   ],
   "source": [
    "# this does not work because alpha is a free symbol\n",
    "f = lambdify([x, y], sqrt(x**2+y**2-alpha))\n",
    "f(2, 2)"
   ]
  },
  {
   "cell_type": "markdown",
   "metadata": {},
   "source": [
    "# Example\n",
    "An equilibrium $x^*$ of a difference equation $x_{t+1}=f(x_t)$ is a constant solution $x_t=x^*$, i.e., $x^*=f(x^*)$\n",
    "\n",
    "Consider the SIR model with births and deaths\n",
    "\\begin{align}\n",
    "S_{t+1}-S_t & = -\\beta S_tI_t+\\mu-\\mu S_t\\\\\n",
    "I_{t+1} -I_t & = \\beta S_tI_t - \\gamma I - \\mu I\n",
    "\\end{align}\n",
    "Thus, a fixed point satisfies\n",
    "\\begin{align}\n",
    "0 & = -\\beta SI+\\mu-\\mu S\\\\\n",
    "0 & = \\beta SI - \\gamma I - \\mu I\n",
    "\\end{align}\n"
   ]
  },
  {
   "cell_type": "code",
   "execution_count": 30,
   "metadata": {
    "scrolled": true
   },
   "outputs": [
    {
     "data": {
      "text/latex": [
       "$\\displaystyle \\left\\{\\left( 1, \\  0\\right), \\left( - \\frac{- \\mu + \\frac{\\mu \\left(\\beta - \\gamma - \\mu\\right)}{\\beta}}{\\mu}, \\  \\frac{\\mu \\left(\\beta - \\gamma - \\mu\\right)}{\\beta \\left(\\gamma + \\mu\\right)}\\right)\\right\\}$"
      ],
      "text/plain": [
       "{(1, 0), (-(-mu + mu*(beta - gamma - mu)/beta)/mu, mu*(beta - gamma - mu)/(beta*(gamma + mu)))}"
      ]
     },
     "metadata": {},
     "output_type": "display_data"
    }
   ],
   "source": [
    "from sympy.abc import mu, S, I, beta\n",
    "from sympy import exp\n",
    "eqS = -beta*S*I+mu-mu*S\n",
    "eqI = beta*S*I - gamma*I - mu*I\n",
    "E=nonlinsolve([eqS, eqI], [S, I])\n",
    "display(E)"
   ]
  },
  {
   "cell_type": "markdown",
   "metadata": {},
   "source": [
    "This system has two equilibria,\n",
    "$$E_1=(1,0)$$\n",
    "\n",
    "and $E_2=(E_S, E_I)$:"
   ]
  },
  {
   "cell_type": "code",
   "execution_count": 31,
   "metadata": {},
   "outputs": [
    {
     "data": {
      "text/latex": [
       "$\\displaystyle \\frac{\\gamma + \\mu}{\\beta}$"
      ],
      "text/plain": [
       "(gamma + mu)/beta"
      ]
     },
     "metadata": {},
     "output_type": "display_data"
    },
    {
     "data": {
      "text/latex": [
       "$\\displaystyle \\frac{\\mu \\left(\\beta - \\gamma - \\mu\\right)}{\\beta \\left(\\gamma + \\mu\\right)}$"
      ],
      "text/plain": [
       "mu*(beta - gamma - mu)/(beta*(gamma + mu))"
      ]
     },
     "metadata": {},
     "output_type": "display_data"
    }
   ],
   "source": [
    "ES, EI = E.args[1]\n",
    "ES = simplify(ES)\n",
    "EI = simplify(EI)\n",
    "display(ES, EI)"
   ]
  },
  {
   "cell_type": "markdown",
   "metadata": {},
   "source": [
    "Given $\\displaystyle\\mu=\\frac{1}{80\\times 365}$ and $\\gamma=0.25$, how does $E_I$ change with $\\beta$?"
   ]
  },
  {
   "cell_type": "code",
   "execution_count": 33,
   "metadata": {},
   "outputs": [
    {
     "data": {
      "text/plain": [
       "[<matplotlib.lines.Line2D at 0x7fdc3597bbe0>,\n",
       " <matplotlib.lines.Line2D at 0x7fdc3597bc40>]"
      ]
     },
     "execution_count": 33,
     "metadata": {},
     "output_type": "execute_result"
    },
    {
     "data": {
      "image/png": "[encoded data removed]",
      "text/plain": [
       "<Figure size 432x288 with 1 Axes>"
      ]
     },
     "metadata": {
      "needs_background": "light"
     },
     "output_type": "display_data"
    }
   ],
   "source": [
    "f=lambdify(beta, EI.subs({gamma:0.25, mu:1.0/80/365}))\n",
    "from numpy import linspace, zeros\n",
    "b = linspace(0.1, 0.5, 51)\n",
    "\n",
    "from matplotlib.pyplot import plot\n",
    "plot(b, f(b), b, zeros(len(b)), \"--r\")"
   ]
  },
  {
   "cell_type": "markdown",
   "metadata": {},
   "source": [
    "The the equilibrium value of $I$ increases with $\\beta$. There is a critical value of $\\beta$ that makes $I>0$. \n",
    "\n",
    "What is this critical value? we need to solve $E_I(\\beta)=0$"
   ]
  },
  {
   "cell_type": "code",
   "execution_count": null,
   "metadata": {},
   "outputs": [],
   "source": [
    "solve(EI, beta)"
   ]
  },
  {
   "cell_type": "markdown",
   "metadata": {},
   "source": [
    "That is, $\\beta>\\mu+\\gamma$ guarantees that $I>0$"
   ]
  },
  {
   "cell_type": "code",
   "execution_count": null,
   "metadata": {},
   "outputs": [],
   "source": []
  }
 ],
 "metadata": {
  "kernelspec": {
   "display_name": "Python 3 (ipykernel)",
   "language": "python",
   "name": "python3"
  },
  "language_info": {
   "codemirror_mode": {
    "name": "ipython",
    "version": 3
   },
   "file_extension": ".py",
   "mimetype": "text/x-python",
   "name": "python",
   "nbconvert_exporter": "python",
   "pygments_lexer": "ipython3",
   "version": "3.9.7"
  }
 },
 "nbformat": 4,
 "nbformat_minor": 4
}
