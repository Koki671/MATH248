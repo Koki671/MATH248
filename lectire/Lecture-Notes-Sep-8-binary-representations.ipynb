{
 "cells": [
  {
   "cell_type": "markdown",
   "metadata": {
    "tags": []
   },
   "source": [
    "# Lecture 2\n",
    "\n",
    "* A breif review of Python variables\n",
    "* Float point real numbers and round-off errors"
   ]
  },
  {
   "cell_type": "markdown",
   "metadata": {
    "tags": []
   },
   "source": [
    "# Variable\n",
    "\n",
    "A placeholder (a block of computer memory) that stores a value. It is called a variable because its value may change (through value assignment).\n",
    "\n",
    "## Name\n",
    "Variables are referred to by their names. The names are letters (a-z and A-Z) followed by other letters or digits or the underscore _. They are case sensitive, i.e., a and A are two different variables.\n",
    "\n",
    "## Value\n",
    "A variable holds a single value. They can be one of the following types\n",
    "* **a number**\n",
    "  * **an interger**, like 1, 2, 1000 etc. There is effectively no limit on how large the integer can be, as long as the computer has enough memory to hold it.\n",
    "  * **a float-point number**, like 1.3, -10/3, etc, or in scientific notation $-5.3\\times10^{-8}$ can be written as -5.3e-8 or 5.3E-8, i.e., a value followed by **e** or **E** followed by an exponent of 10. \n",
    "  * **a complex number**, such as 1+2j (which is commonly known as $1+2i$) where 1 is the real part and 2 is the imaginary part.\n",
    "    * We can use complex(1, 2) to construct it, or simply 1+2J\n",
    "    * We can use arithmatic operations such as +, -, *, /, **."
   ]
  },
  {
   "cell_type": "code",
   "execution_count": 1,
   "metadata": {},
   "outputs": [
    {
     "name": "stdout",
     "output_type": "stream",
     "text": [
      "5e6= 5000000.0\n",
      "C= (1+2j)\n",
      "C == complex(1, 2)? True\n",
      "The real part of C = 1.0\n",
      "The imaginary part of C = 2.0\n",
      "(1+2j)*(2+1j)/(3-1j)= (-0.49999999999999994+1.5j)\n"
     ]
    }
   ],
   "source": [
    "# example what is 5e6 equal to? \n",
    "print(\"5e6=\", 5e6)\n",
    "# complex number example\n",
    "# set the value of the value C to 1+2j\n",
    "C = 1+2j\n",
    "print(\"C=\", C)\n",
    "print(\"C == complex(1, 2)?\", C == complex(1, 2))\n",
    "# the real part and imaginary part of C can be accessed as C.real and C.imag\n",
    "print(\"The real part of C =\", C.real)\n",
    "print(\"The imaginary part of C =\", C.imag)\n",
    "print(\"(1+2j)*(2+1j)/(3-1j)=\", (1+2j)*(2+1j)/(3-1j))\n"
   ]
  },
  {
   "cell_type": "markdown",
   "metadata": {},
   "source": [
    "The last answer is peculiar. If we calculate by hand, we can verify that the true answer is $-0.5+1.5j$. Why is it a tiny bit off? This is the rounding error, that we will cover later in this lecture\n",
    "\n",
    "* **a string** is a string of characters, either single quoted, like 'this is a string', or double quoted \"this is another string\". Single or double quoted strings are the same as long as the strong of characters are the same.\n",
    "  * We can compare them, using ==, >, <, >= or <=\n",
    "  * We can concatenate them using +"
   ]
  },
  {
   "cell_type": "code",
   "execution_count": 2,
   "metadata": {},
   "outputs": [
    {
     "name": "stdout",
     "output_type": "stream",
     "text": [
      "s= it's correct\n",
      "s == 'test'? False\n",
      "s + '!' = it's correct!\n"
     ]
    }
   ],
   "source": [
    "s = \"it's correct\"\n",
    "print(\"s=\", s)\n",
    "# the operator == compares two values\n",
    "print(\"s == 'test'?\", s == 'test')\n",
    "print(\"s + '!' =\", s + '!')\n",
    "\n"
   ]
  },
  {
   "cell_type": "markdown",
   "metadata": {},
   "source": [
    "* **a boolean**, a logical value being either True or False\n",
    "  * we can compare them using ==, !=\n",
    "  * we can perform boolean operations and, or, not"
   ]
  },
  {
   "cell_type": "code",
   "execution_count": 3,
   "metadata": {},
   "outputs": [
    {
     "name": "stdout",
     "output_type": "stream",
     "text": [
      "2 > 1 =  True\n",
      "a != True:  False\n",
      "x>0 and x < 10 = True\n"
     ]
    }
   ],
   "source": [
    "# boolean example\n",
    "a = 2 > 1\n",
    "print(\"2 > 1 = \", a)\n",
    "print(\"a != True: \", a != True)\n",
    "x = 3\n",
    "print(\"x>0 and x < 10 =\", x>0 and x<10)"
   ]
  },
  {
   "cell_type": "markdown",
   "metadata": {},
   "source": [
    "* Other types, such as functions (e.g., print as we have used), lists, dictionaries or classes. We will see them later in this course.\n",
    "\n",
    "**Unlike typed languages**, Python variables can hold any type of values."
   ]
  },
  {
   "cell_type": "code",
   "execution_count": 1,
   "metadata": {},
   "outputs": [
    {
     "name": "stdout",
     "output_type": "stream",
     "text": [
      "s= 12\n",
      "s= a\n"
     ]
    }
   ],
   "source": [
    "s=12 # a number\n",
    "print(\"s=\", s)\n",
    "s=\"a\" # the same variable, now holds a string\n",
    "print(\"s=\",s)"
   ]
  },
  {
   "cell_type": "markdown",
   "metadata": {},
   "source": [
    "# A Simple Example: Free Falling Object\n",
    "For a free falling object, given an initial positive $x_0$ and an initial velocity $v_0$ at time $0$, what is its position $x(t)$ at time $t$?\n",
    "$$ x(t) = \\frac{1}{2}gt^2 + v_0t + x_0 $$"
   ]
  },
  {
   "cell_type": "code",
   "execution_count": 4,
   "metadata": {},
   "outputs": [
    {
     "name": "stdout",
     "output_type": "stream",
     "text": [
      "t = 2 x = 24.6133\n",
      "t = 3 x = 24.6133 what?\n"
     ]
    }
   ],
   "source": [
    "# Inputs:\n",
    "# the gravitational constant g\n",
    "# Python functions are organized in to modules\n",
    "\n",
    "# the constant g is defined the scipy model, constants subpackage\n",
    "from scipy.constants import g\n",
    "\n",
    "# time t\n",
    "t = 2\n",
    "\n",
    "# initial velocity\n",
    "v0 = 2\n",
    "\n",
    "# initial positive\n",
    "x0 = 1\n",
    "\n",
    "# positive\n",
    "x = g/2 * t**2 + v0 * t + x0\n",
    "print(\"t =\", t, \"x =\", x)\n",
    "\n",
    "# at a different time 3\n",
    "t = 3\n",
    "print(\"t =\", t, \"x =\", x, \"what?\")\n",
    "# Why does the value of x does not change?\n",
    "# how to we compute x(3)?\n"
   ]
  },
  {
   "cell_type": "code",
   "execution_count": 5,
   "metadata": {},
   "outputs": [
    {
     "name": "stdout",
     "output_type": "stream",
     "text": [
      "t = 3, x = 51.129925 correct!\n"
     ]
    }
   ],
   "source": [
    "x = g/2 * t**2 + v0 * t + x0\n",
    "print(\"t = 3, x =\", x, \"correct!\")"
   ]
  },
  {
   "cell_type": "markdown",
   "metadata": {},
   "source": [
    "# Based of  Numbers\n",
    "\n",
    "\n",
    "## Base 10\n",
    "\n",
    "For example, $$321 = 3\\times10^2+2\\times10+1$$\n",
    "\n",
    "## Other bases\n",
    "We can extend this idea to any base:\n",
    "\n",
    "A number $N$ in base $B$, with digits $0\\leq d_i<B$ for $i = 0,\\dots, m$, is\n",
    "$$ N = \\sum_{i=0}^m d_i B^i$$\n",
    "\n",
    "We typically write is as $(d_md_{m-1}\\dots d_2d_1)_B$\n",
    "\n",
    "**Example** How do we express $(321)_{10}$ in base 8?\n",
    "\n",
    "* Let us start with the lowest digit, which is the remainder of $321/8$?\n",
    "  * the remainer is calculated by the modulus operator `%`"
   ]
  },
  {
   "cell_type": "code",
   "execution_count": 6,
   "metadata": {},
   "outputs": [
    {
     "name": "stdout",
     "output_type": "stream",
     "text": [
      "d0 = 1\n"
     ]
    }
   ],
   "source": [
    "# 321 in base 8\n",
    "N = 321\n",
    "B = 8\n",
    "# The last digit\n",
    "d0 = N % B\n",
    "print(\"d0 =\", d0)"
   ]
  },
  {
   "cell_type": "markdown",
   "metadata": {},
   "source": [
    "* For the second last digit, please note that, \n",
    "$$ 321 = 40 \\times8 + 1$$\n",
    "  * After we divide 321 by 8, we shift the digits to the right by one position\n",
    "  * Here the quotient 40 (without the remainder) is composed of the remaining digits.\n",
    "  * The second digit is thus the lowest digit of the quotient\n",
    "  * Thus, we can get the last digit of the remainder 40, which is the second last digit of 321"
   ]
  },
  {
   "cell_type": "code",
   "execution_count": 7,
   "metadata": {},
   "outputs": [
    {
     "name": "stdout",
     "output_type": "stream",
     "text": [
      "q= 40\n",
      "d1 = 0\n"
     ]
    }
   ],
   "source": [
    "# second last digit\n",
    "# we get the quotient first, here we use the floor division `//`, which ignores the fractional part.\n",
    "q = N // B\n",
    "print(\"q=\", q)\n",
    "\n",
    "# then d1 is the last digit of q\n",
    "d1 = q % B\n",
    "print(\"d1 =\", d1)"
   ]
  },
  {
   "cell_type": "markdown",
   "metadata": {},
   "source": [
    "* We then repeat to get the remaining digits one by one"
   ]
  },
  {
   "cell_type": "code",
   "execution_count": 8,
   "metadata": {},
   "outputs": [
    {
     "name": "stdout",
     "output_type": "stream",
     "text": [
      "q= 5\n",
      "d2 = 5\n",
      "q= 0\n",
      "d3 = 0\n"
     ]
    }
   ],
   "source": [
    "# the thrid last digit\n",
    "# we get the quotient first\n",
    "q = q // B\n",
    "print(\"q=\", q)\n",
    "# then d2 is the last digit of q\n",
    "d2 = q % B\n",
    "print(\"d2 =\", d2)\n",
    "\n",
    "# the fourth last digit\n",
    "# we get the quotient first\n",
    "q = q // B\n",
    "print(\"q=\", q)\n",
    "# then d3 is the last digit of q\n",
    "d3 = q % B\n",
    "print(\"d3 =\", d3)"
   ]
  },
  {
   "cell_type": "markdown",
   "metadata": {},
   "source": [
    "* When do we stop?\n",
    "\n",
    "$$ (321)_{10} = 5\\times 8^2 + 0\\times 8 + 1 = (501)_8$$\n",
    "\n",
    "* This is a tedious process. But each step is repetitive. It is a good candidate for using loops, which we will learn next week!"
   ]
  },
  {
   "cell_type": "markdown",
   "metadata": {},
   "source": [
    "# Fractions\n",
    "\n",
    "The same idea can be extended to fractions, a real number\n",
    "$$ R = \\sum_{i=-\\infty}^m d_i B^i$$\n",
    "\n",
    "For example, in base 8,\n",
    "$$(9.3)_{10} =  1 \\times 8 + 1 + 2\\times 8^{-1} + 3\\times8^{-2} + 1\\times8^{-3} + 4\\times8^{-4}+6\\times8^{-5} + \\dots = (11.2\\overline{3146})_8 $$\n",
    "\n",
    "**A finite  digit fraction in base 10 may have infinite digits in other bases**\n",
    "\n",
    "## How do we convert a fraction to other bases?\n",
    "* We have already dealt with the integer part. Lets just consider $0<R<1$\n",
    "$$ R = \\sum_{i=-\\infty}^{-1} d_i B^i$$\n",
    "* Lets start with a example: $(0.12345)_{10}\\times10=(1.2345)_{10}$\n",
    "  * we multiply the number by the base\n",
    "  * the integer part of the product is the first digit\n",
    "  * the other digits are shifted to the left\n",
    "* In general, multiply $R$ by $B$, then\n",
    "$$ BR = d_{-1} + \\sum_{i=-\\infty}^{-1} d_i B^{i+1}= d_{-1} + \\sum_{i=-\\infty}^{-1} d_{i-1} B^{i}$$\n",
    "  * So, the integer part of $BR$ is $d_{-1}$\n",
    "  * The second digit of $R$ becomes the first digit of $BR$"
   ]
  },
  {
   "cell_type": "code",
   "execution_count": 9,
   "metadata": {},
   "outputs": [
    {
     "name": "stdout",
     "output_type": "stream",
     "text": [
      "d_1 = 2\n",
      "R = 0.3999999999999999 not equal to 4!\n"
     ]
    }
   ],
   "source": [
    "# How do we convert \n",
    "R = 0.3\n",
    "B = 8\n",
    "\n",
    "d_1 = int(B*R) # here we convert B*R into an integer, i.e., ignore the fraction part.\n",
    "print(\"d_1 =\", d_1)\n",
    "R = (B*R) % 1 # modulus 1 (i.e., % 1) take the fraction part.\n",
    "print(\"R =\", R, \"not equal to 4!\") # here , R = 0.3999999999999999, the true value should be 0.4\n",
    "# this is our first taste of numerical errors. We will see why in a moment"
   ]
  },
  {
   "cell_type": "markdown",
   "metadata": {},
   "source": [
    "* We repeat the above step to get the first digit of $BR$, which is $d_{-2}$, the second digit of $R$"
   ]
  },
  {
   "cell_type": "code",
   "execution_count": 10,
   "metadata": {},
   "outputs": [
    {
     "name": "stdout",
     "output_type": "stream",
     "text": [
      "d_2 = 3\n",
      "R = 0.1999999999999993\n"
     ]
    }
   ],
   "source": [
    "d_2 = int(B*R)\n",
    "print(\"d_2 =\", d_2)\n",
    "R = (B*R) % 1 # modulus 1 (i.e., % 1) take the fraction part.\n",
    "print(\"R =\", R) # here , R = 0.3999999999999999, the true value should be 0.4"
   ]
  },
  {
   "cell_type": "markdown",
   "metadata": {},
   "source": [
    "* We repeat this process until either $R=0$ or enough digits is obtained\n",
    "\n",
    "**This is a tedious process** This is why we need loops to automate the repetition."
   ]
  },
  {
   "cell_type": "code",
   "execution_count": 11,
   "metadata": {},
   "outputs": [
    {
     "name": "stdout",
     "output_type": "stream",
     "text": [
      "R = 0.5999999999999943\n",
      "d_3 = 4\n",
      "R = 0.7999999999999545\n",
      "d_4 = 6\n",
      "R = 0.3999999999996362\n",
      "d_5 = 3\n"
     ]
    }
   ],
   "source": [
    "R = (B*R) % 1 # modulus 1 (i.e., % 1) take the fraction part.\n",
    "print(\"R =\", R) \n",
    "d_3 = int(B*R)\n",
    "print(\"d_3 =\", d_3)\n",
    "\n",
    "R = (B*R) % 1 # modulus 1 (i.e., % 1) take the fraction part.\n",
    "print(\"R =\", R) \n",
    "d_4 = int(B*R)\n",
    "print(\"d_4 =\", d_4)\n",
    "\n",
    "R = (B*R) % 1 # modulus 1 (i.e., % 1) take the fraction part.\n",
    "print(\"R =\", R) \n",
    "d_5 = int(B*R)\n",
    "print(\"d_5 =\", d_5)"
   ]
  },
  {
   "cell_type": "markdown",
   "metadata": {},
   "source": [
    "# Binary Numbers\n",
    "\n",
    "* Binary numbers are numbers expressed in base 2\n",
    "* All modern digital computers use binary numbers internally\n",
    "\n",
    "# A fixed point real numbers\n",
    "\n",
    "* A computer stores real number with a fixed number of binary bits\n",
    "* How do we express a real number with these digits?\n",
    "* One choice is to fix the number of digits in both the integer part and the fraction part. This is called the **fixed point format**\n",
    "* For example, The so called **Q1.14** format uses 1 bit for the integer part and 14 bits for the fractional part, with 1 bit for the sign (+/-). The maximum value it can express is $2-2^{-14}$, the minimum value it can express is $-1+2^{-14}$. The precision is $2^{-14}$.\n",
    "* Of course it cannot express $R=0.3$ precisely,\n",
    "$$ (0.3)_{10} = (0.010\\overline{011001100110})_2 $$\n",
    "  * In **Q1.14** format, $$(0.3)_{10} \\approx (0.01001100110011)_2$$\n",
    "And the error is\n",
    "$$(0.3)_{10} - (0.01001100110011)_2 = (0.000000000000000\\overline{011001100110})_2 $$\n",
    "This may be a small error, but it may be amplified during subsequent calculations. \n",
    "* The main limitation of fixed point numbers is the very limited range of numbers it can express.\n",
    "\n",
    "# A float point number (simply called a float)\n",
    "* A float point number has one sign bit $S$ (S=1 is negative), $q$ exponent bits $Q$, and $p$ precision bits $P$:\n",
    "$$ S\\cdot Q_1 Q_2 \\dots Q_q \\cdot P_1 P_2\\dots P_{p-1}$$\n",
    "**Note that the leading bits of P is implicit (not stored, but implied from the value of Q)**\n",
    "  * $Q=0$: the leading bit is 0\n",
    "  * $Q\\neq0$: the leading bit is 1\n",
    "* To express positive or negative exponents, the exponent bits as an unsigned binary integer $Q$ is subtracted by a bias $b$.\n",
    "* **If every bit of Q is 1**, i.e., $Q=(111\\dots1)_2=2^q-1$, then **Q does not represent an exponent**, the number is either $\\pm\\infty$ or NaN (not a number).\n",
    "* **The maximum exponent Q is** $2^q-2$. For none zero $Q$, the precision bits are always in the form of \n",
    "$$P=1.P_1P_2\\cdots P_{p-1}$$\n",
    "The leading 1 is implicit, i.e., not stored. So we always have at most $p$ significant bits.\n",
    "$$ R = \\pm P\\times 2^{Q-b}$$\n",
    "* **The minimum exponent Q is 0**, in this case, $$P=0.P_1P_2\\dots P_{p-1}$$, \n",
    "$$ R = \\pm P\\times 2^{-b+1}$$\n",
    "In this case, to get to smaller numbers, we trade off the number of significant bits.\n",
    " * The smallest positive number it can express is thus $2^{-b+1-(p-1)}=2^{-b-p+2}$. However, in this case, there is a single significant bit.\n",
    " * The smallest positive number it can express that keeps $p$ significant bits is $2^{-b+1}$.\n",
    " * The largest positive number it can express is $(1-2^{-p+1})\\times2^{2^q-2-b}$.\n",
    "\n",
    "\n",
    "\n",
    "## A double precision float \n",
    "* In the IEEE 754 standard: $p=53$, $q=11$, $b=1023$. \n",
    "* The smallest positive number it can express is $2^{-1023-53+2}=2^{-1074}\\approx5\\times10^{-324}$. However, in this case, there is a single significant bit.\n",
    "  * Thus, in Python, $2^{-1075}=0$! This is an example of **rounding error**, see below\n",
    "* The smallest positive number to keep 53 significant bits is $2^{-1022}$\n",
    "* The largest positive number it can express is $(2-2^{-52})\\times2^{1023}\\approx 1.7976931348623157\\times 10^{308}$\n",
    "  * Any number larger that that is $\\infty$.\n",
    "  \n",
    "### Example\n",
    "What is the value of the double precision float $R$ where the sign bit $S=1$ the exponent $Q=(100\\dots0)_2=2^{10}$, and $P=(100\\dots0)_2=2^{51}$\n",
    "  \n",
    "## Rounding error\n",
    "* A rounding error is an error introduced in the finite-digit representation of real numbers. any number with more than the maximum significant bits that a float point number can represent is rounded. \n",
    "  * the above example of $2^{-1075}=0$ is a manifestation.\n",
    "  * the largest integer with 52 bits of significant bits is $2^{52}-1=4,503,599,627,370,495$\n",
    "    * if $a/b>(2^{52}-1)/2\\approx 2.251\\times 10^{15}$ (the /2 is to account for rounding up) then, in Python, $a-b$ has a rounding error\n",
    "    * if $a/b>(2^{52}-1)/4\\approx1.126\\times 10^{15}$, then $b$ is rounded to $0$ when computing $a-b$, i.e., $a-b=a$\n",
    "  * This only depends on the relative magnitude of $a$ and $b$"
   ]
  },
  {
   "cell_type": "code",
   "execution_count": 12,
   "metadata": {
    "scrolled": true
   },
   "outputs": [
    {
     "name": "stdout",
     "output_type": "stream",
     "text": [
      "a-(a-b)= 0.0\n",
      "a-b = a is True\n",
      "a-a+b= 200.0\n",
      "a-a+b==a-(a-b) is False\n"
     ]
    }
   ],
   "source": [
    "# another example of rounding error\n",
    "a=(2.0**52-1)*1000\n",
    "b = 0.2*1000\n",
    "print(\"a-(a-b)=\",a-(a-b))\n",
    "print(\"a-b = a is\", a-b == a)\n",
    "print(\"a-a+b=\",a-a+b)\n",
    "print(\"a-a+b==a-(a-b) is\",(a-a+b)==(a-(a-b)))\n"
   ]
  },
  {
   "cell_type": "markdown",
   "metadata": {},
   "source": [
    "The above example shows that, due to rounding errors, in Python (actually, in all computer languages with float point numbers), the association rule may not hold for float numbers!\n",
    "\n",
    "## The important of Rounding errors\n",
    "\n",
    "Rounding errors are typically small. It is curious why we worry about such a small error. Some algorithms intrinsically magnifies errors. So affter many iterations, the rounding error may be magnified to an unacceptable large value. We will see such examples in future lectures."
   ]
  }
 ],
 "metadata": {
  "kernelspec": {
   "display_name": "Python 3 (ipykernel)",
   "language": "python",
   "name": "python3"
  },
  "language_info": {
   "codemirror_mode": {
    "name": "ipython",
    "version": 3
   },
   "file_extension": ".py",
   "mimetype": "text/x-python",
   "name": "python",
   "nbconvert_exporter": "python",
   "pygments_lexer": "ipython3",
   "version": "3.8.9"
  }
 },
 "nbformat": 4,
 "nbformat_minor": 4
}
