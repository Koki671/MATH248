{
 "cells": [
  {
   "cell_type": "markdown",
   "metadata": {},
   "source": [
    "## Root finding\n",
    "* A **root** is a solution of an algebraic equation\n",
    "* We can solve any quadratic function using the quadratic formula\n",
    "* There are even formulas on cubic functions and quartic functions, although they are not easy to remember or use.\n",
    "* But for the roots of fiveth or higher order polynomials, there is no formula. \n",
    "* Generally, there is also no formula for transcendental equations.\n",
    "* How are we going to solve these equations?\n",
    "\n",
    "## Example: the final size of an epidemic\n",
    "* Consider a disease spreading in a population. A patient becomes infectious for a period of time, then recovers and obtain immunity, so he/she will not be sick again after recovery\n",
    "* Suppose, if everyone around the patietn is susceptible, a patient infects $\\mathcal R_0$ others on average while he/she is infectious\n",
    "  * This $\\mathcal R_0$ is called the basic reproduction number\n",
    "* What is the fraction $Z$ of the population eventually infected? This $Z$ is called the final epidemic size\n",
    "  * For a large population of $N$ individuals, what is the probability that a random individual evades the infection a specific patient?\n",
    "    * The patient infects $\\mathcal R_0$ others in the population\n",
    "    * not counting the patient, there are $N-1$ individuals\n",
    "    * the probability that the individual is not among the $\\mathcal R_0$ infected is thus\n",
    "    $$ 1-\\frac {\\mathcal R_0}{N-1}$$\n",
    "    * This probability is also $1-Z$ \n",
    "  * The probability that he/she evades all patients ($ZN$ of them, on average) is thus\n",
    "$$ 1 - Z = \\left(1 -\\frac {\\mathcal R_0}{N-1}\\right)^{ZN}$$\n",
    "  * As $N\\to\\infty$,\n",
    "  $$ 1-Z = e^{-\\mathcal R_0 Z}$$\n",
    "* This simple transcendental equation is called the final size relationship, which links the basic reproduction number $\\mathcal R_0$ to the final epidemic size $Z$\n",
    "* The derivation of this relationship is not relavent to the course, but how to numerically solve the equation is\n",
    "* If no one is infected in a population, (ignoring imported cases) then the disease will never appear in the population.\n",
    "  * So, $Z=0$ is always a solutuon.\n",
    "* Is there a positive solution? If there is, can we find it?\n",
    "  * Lets plot both sides of the final size relationship\n",
    "  * We will not go into details of the plotting now, which we will learn later in the course"
   ]
  },
  {
   "cell_type": "code",
   "execution_count": 6,
   "metadata": {},
   "outputs": [
    {
     "data": {
      "text/plain": [
       "[<matplotlib.lines.Line2D at 0x7f8c2096ea00>,\n",
       " <matplotlib.lines.Line2D at 0x7f8c2096eb20>]"
      ]
     },
     "execution_count": 6,
     "metadata": {},
     "output_type": "execute_result"
    },
    {
     "data": {
      "image/png": "[encoded data removed]",
      "text/plain": [
       "<Figure size 432x288 with 1 Axes>"
      ]
     },
     "metadata": {
      "needs_background": "light"
     },
     "output_type": "display_data"
    }
   ],
   "source": [
    "# plotting is provided by the matplotlib package\n",
    "from matplotlib.pyplot import plot\n",
    "# range only works for integers we need arange from the numpy module\n",
    "from numpy import arange\n",
    "# we also need the exponential function\n",
    "from math import exp\n",
    "R0=2\n",
    "#Z ranges from 0 to (not including 1) step by 0.01\n",
    "Z = arange(0,1,0.01) # Z = 0, 0.01, 0.02, ..., 0.99\n",
    "# get the value of the RHS for each Z \n",
    "# here we use a for loop, which will be explained later in the course\n",
    "rhs = [exp(-R0*z) for z in Z]\n",
    "# this is a MATLAB style plot function, x-coords, y-coords, line style (- and --) and color (r and b)\n",
    "plot(Z, 1-Z, '-r', Z, rhs, '--b')\n"
   ]
  },
  {
   "cell_type": "markdown",
   "metadata": {},
   "source": [
    "* If $\\mathcal R_0>1$, there is one unique positive root in the interval $(0,1)$. \n",
    "* If $\\mathcal R_0\\leq 1$, there is no positive root. \n",
    "\n",
    "For a specific $\\mathcal R_0 >1$, how do we find the root?\n",
    "\n",
    "## More on the import statement\n",
    "\n",
    "* Python organizes functionality into modules, both `math` and `scipy` are modules\n",
    "* Some modules have subpackages, like `constants` in `scipy`\n",
    "* Python can only use the functionality provided by a module after importing the module\n",
    "  * After importation, the functions, variables, and other machinaries provided by the module, becomes visible to Python\n",
    "  * For example, without importing `math`, the math functions such as the aqure root (`sqrt`), `log`, exponential function `exp`, trig functions such as `sin` `cos` etc, are not available.\n",
    "\n",
    "### Import the whole module\n",
    "We can import everything from a package, for example, \n",
    "```Python\n",
    "import math\n",
    "```\n",
    "Then everything provided my the `math` module is available.\n",
    "* We can use the functions, constant, variables, and other things by `math`.NAME, where name is the function, variable, or other machinary that we want to use.\n",
    "* For example, `math.sqrt` gives us the square root function\n"
   ]
  },
  {
   "cell_type": "code",
   "execution_count": 8,
   "metadata": {},
   "outputs": [
    {
     "name": "stdout",
     "output_type": "stream",
     "text": [
      "2.0\n"
     ]
    }
   ],
   "source": [
    "import math\n",
    "print(math.sqrt(4))"
   ]
  },
  {
   "cell_type": "markdown",
   "metadata": {},
   "source": [
    "The subpackages can also be accessed as `MODULE.SUBPACKAGE`, they can be individually imported as well, for example\n",
    "```Python\n",
    "import scipy.constants \n",
    "```\n",
    "\n",
    "### Import a specific name\n",
    "If we only need a few things from the package, we do not need to import the whole package, we can cherry-pick the things we want to import, using `from PACKAGE import NAME` statement, \n",
    "\n",
    "* for example, if we only need the square root function from the `math` module,\n",
    "```Python\n",
    "from math import sqrt\n",
    "```\n",
    "* We can also give the `sqrt` function another name (possibly to avoid clashing another variable or function named sqrt that we imported or defined earlier\n",
    "* For example,"
   ]
  },
  {
   "cell_type": "code",
   "execution_count": 9,
   "metadata": {},
   "outputs": [
    {
     "name": "stdout",
     "output_type": "stream",
     "text": [
      "2.0\n"
     ]
    }
   ],
   "source": [
    "from math import sqrt as mysqrt\n",
    "# now mysqrt is really math.sqrt\n",
    "print(mysqrt(4))"
   ]
  },
  {
   "cell_type": "markdown",
   "metadata": {},
   "source": [
    "### Helps\n",
    "\n",
    "After importation, you can view what machinaries are provided by the package using the help function."
   ]
  },
  {
   "cell_type": "code",
   "execution_count": 10,
   "metadata": {},
   "outputs": [
    {
     "name": "stdout",
     "output_type": "stream",
     "text": [
      "Help on module math:\n",
      "\n",
      "NAME\n",
      "    math\n",
      "\n",
      "MODULE REFERENCE\n",
      "    https://docs.python.org/3.7/library/math\n",
      "    \n",
      "    The following documentation is automatically generated from the Python\n",
      "    source files.  It may be incomplete, incorrect or include features that\n",
      "    are considered implementation detail and may vary between Python\n",
      "    implementations.  When in doubt, consult the module reference at the\n",
      "    location listed above.\n",
      "\n",
      "DESCRIPTION\n",
      "    This module provides access to the mathematical functions\n",
      "    defined by the C standard.\n",
      "\n",
      "FUNCTIONS\n",
      "    acos(x, /)\n",
      "        Return the arc cosine (measured in radians) of x.\n",
      "    \n",
      "    acosh(x, /)\n",
      "        Return the inverse hyperbolic cosine of x.\n",
      "    \n",
      "    asin(x, /)\n",
      "        Return the arc sine (measured in radians) of x.\n",
      "    \n",
      "    asinh(x, /)\n",
      "        Return the inverse hyperbolic sine of x.\n",
      "    \n",
      "    atan(x, /)\n",
      "        Return the arc tangent (measured in radians) of x.\n",
      "    \n",
      "    atan2(y, x, /)\n",
      "        Return the arc tangent (measured in radians) of y/x.\n",
      "        \n",
      "        Unlike atan(y/x), the signs of both x and y are considered.\n",
      "    \n",
      "    atanh(x, /)\n",
      "        Return the inverse hyperbolic tangent of x.\n",
      "    \n",
      "    ceil(x, /)\n",
      "        Return the ceiling of x as an Integral.\n",
      "        \n",
      "        This is the smallest integer >= x.\n",
      "    \n",
      "    copysign(x, y, /)\n",
      "        Return a float with the magnitude (absolute value) of x but the sign of y.\n",
      "        \n",
      "        On platforms that support signed zeros, copysign(1.0, -0.0)\n",
      "        returns -1.0.\n",
      "    \n",
      "    cos(x, /)\n",
      "        Return the cosine of x (measured in radians).\n",
      "    \n",
      "    cosh(x, /)\n",
      "        Return the hyperbolic cosine of x.\n",
      "    \n",
      "    degrees(x, /)\n",
      "        Convert angle x from radians to degrees.\n",
      "    \n",
      "    erf(x, /)\n",
      "        Error function at x.\n",
      "    \n",
      "    erfc(x, /)\n",
      "        Complementary error function at x.\n",
      "    \n",
      "    exp(x, /)\n",
      "        Return e raised to the power of x.\n",
      "    \n",
      "    expm1(x, /)\n",
      "        Return exp(x)-1.\n",
      "        \n",
      "        This function avoids the loss of precision involved in the direct evaluation of exp(x)-1 for small x.\n",
      "    \n",
      "    fabs(x, /)\n",
      "        Return the absolute value of the float x.\n",
      "    \n",
      "    factorial(x, /)\n",
      "        Find x!.\n",
      "        \n",
      "        Raise a ValueError if x is negative or non-integral.\n",
      "    \n",
      "    floor(x, /)\n",
      "        Return the floor of x as an Integral.\n",
      "        \n",
      "        This is the largest integer <= x.\n",
      "    \n",
      "    fmod(x, y, /)\n",
      "        Return fmod(x, y), according to platform C.\n",
      "        \n",
      "        x % y may differ.\n",
      "    \n",
      "    frexp(x, /)\n",
      "        Return the mantissa and exponent of x, as pair (m, e).\n",
      "        \n",
      "        m is a float and e is an int, such that x = m * 2.**e.\n",
      "        If x is 0, m and e are both 0.  Else 0.5 <= abs(m) < 1.0.\n",
      "    \n",
      "    fsum(seq, /)\n",
      "        Return an accurate floating point sum of values in the iterable seq.\n",
      "        \n",
      "        Assumes IEEE-754 floating point arithmetic.\n",
      "    \n",
      "    gamma(x, /)\n",
      "        Gamma function at x.\n",
      "    \n",
      "    gcd(x, y, /)\n",
      "        greatest common divisor of x and y\n",
      "    \n",
      "    hypot(x, y, /)\n",
      "        Return the Euclidean distance, sqrt(x*x + y*y).\n",
      "    \n",
      "    isclose(a, b, *, rel_tol=1e-09, abs_tol=0.0)\n",
      "        Determine whether two floating point numbers are close in value.\n",
      "        \n",
      "          rel_tol\n",
      "            maximum difference for being considered \"close\", relative to the\n",
      "            magnitude of the input values\n",
      "          abs_tol\n",
      "            maximum difference for being considered \"close\", regardless of the\n",
      "            magnitude of the input values\n",
      "        \n",
      "        Return True if a is close in value to b, and False otherwise.\n",
      "        \n",
      "        For the values to be considered close, the difference between them\n",
      "        must be smaller than at least one of the tolerances.\n",
      "        \n",
      "        -inf, inf and NaN behave similarly to the IEEE 754 Standard.  That\n",
      "        is, NaN is not close to anything, even itself.  inf and -inf are\n",
      "        only close to themselves.\n",
      "    \n",
      "    isfinite(x, /)\n",
      "        Return True if x is neither an infinity nor a NaN, and False otherwise.\n",
      "    \n",
      "    isinf(x, /)\n",
      "        Return True if x is a positive or negative infinity, and False otherwise.\n",
      "    \n",
      "    isnan(x, /)\n",
      "        Return True if x is a NaN (not a number), and False otherwise.\n",
      "    \n",
      "    ldexp(x, i, /)\n",
      "        Return x * (2**i).\n",
      "        \n",
      "        This is essentially the inverse of frexp().\n",
      "    \n",
      "    lgamma(x, /)\n",
      "        Natural logarithm of absolute value of Gamma function at x.\n",
      "    \n",
      "    log(...)\n",
      "        log(x, [base=math.e])\n",
      "        Return the logarithm of x to the given base.\n",
      "        \n",
      "        If the base not specified, returns the natural logarithm (base e) of x.\n",
      "    \n",
      "    log10(x, /)\n",
      "        Return the base 10 logarithm of x.\n",
      "    \n",
      "    log1p(x, /)\n",
      "        Return the natural logarithm of 1+x (base e).\n",
      "        \n",
      "        The result is computed in a way which is accurate for x near zero.\n",
      "    \n",
      "    log2(x, /)\n",
      "        Return the base 2 logarithm of x.\n",
      "    \n",
      "    modf(x, /)\n",
      "        Return the fractional and integer parts of x.\n",
      "        \n",
      "        Both results carry the sign of x and are floats.\n",
      "    \n",
      "    pow(x, y, /)\n",
      "        Return x**y (x to the power of y).\n",
      "    \n",
      "    radians(x, /)\n",
      "        Convert angle x from degrees to radians.\n",
      "    \n",
      "    remainder(x, y, /)\n",
      "        Difference between x and the closest integer multiple of y.\n",
      "        \n",
      "        Return x - n*y where n*y is the closest integer multiple of y.\n",
      "        In the case where x is exactly halfway between two multiples of\n",
      "        y, the nearest even value of n is used. The result is always exact.\n",
      "    \n",
      "    sin(x, /)\n",
      "        Return the sine of x (measured in radians).\n",
      "    \n",
      "    sinh(x, /)\n",
      "        Return the hyperbolic sine of x.\n",
      "    \n",
      "    sqrt(x, /)\n",
      "        Return the square root of x.\n",
      "    \n",
      "    tan(x, /)\n",
      "        Return the tangent of x (measured in radians).\n",
      "    \n",
      "    tanh(x, /)\n",
      "        Return the hyperbolic tangent of x.\n",
      "    \n",
      "    trunc(x, /)\n",
      "        Truncates the Real x to the nearest Integral toward 0.\n",
      "        \n",
      "        Uses the __trunc__ magic method.\n",
      "\n",
      "DATA\n",
      "    e = 2.718281828459045\n",
      "    inf = inf\n",
      "    nan = nan\n",
      "    pi = 3.141592653589793\n",
      "    tau = 6.283185307179586\n",
      "\n",
      "FILE\n",
      "    /opt/conda/lib/python3.7/lib-dynload/math.cpython-37m-x86_64-linux-gnu.so\n",
      "\n",
      "\n"
     ]
    }
   ],
   "source": [
    "# help on the math module\n",
    "# note that we have imported math above\n",
    "help(math)"
   ]
  },
  {
   "cell_type": "code",
   "execution_count": 11,
   "metadata": {},
   "outputs": [
    {
     "name": "stdout",
     "output_type": "stream",
     "text": [
      "Help on built-in function floor in module math:\n",
      "\n",
      "floor(x, /)\n",
      "    Return the floor of x as an Integral.\n",
      "    \n",
      "    This is the largest integer <= x.\n",
      "\n"
     ]
    }
   ],
   "source": [
    "# or help on a specific function\n",
    "help(math.floor)"
   ]
  },
  {
   "cell_type": "markdown",
   "metadata": {},
   "source": [
    "# Root finding in general\n",
    "We look for the root of a function, $f(x)$, i.e., $f(x)=0$\n",
    "\n",
    "## The Newton's method\n",
    "We use the tangent line as an approximation to $f(x)$\n",
    "  * we pick an initial guess $x_0$\n",
    "  * at a point $(x_0, f(x_0))$ on the graph of $f(x)$, the tangent line is\n",
    "  $$ y-f(x_0) = f'(x_0)(x-x_0)$$\n",
    "  * This tangent line has a root\n",
    "  $$ x_1 = x_0 - \\frac {f(x_0)}{f'(x_0)}$$\n",
    "  * We hope that this $x_1$ is a better approximation of the true root than $x_0$\n",
    "\n",
    "## Final size revisited\n",
    "Lets find the root for the final size relationship for $\\mathcal R_0=2$\n",
    "* We rearrange the final size relationship to the form of $f(Z)=0$:\n",
    "$$f(Z)=e^{-\\mathcal R_0 Z} - 1 + Z$$\n",
    "* We also need its derivative\n",
    "$$ f'(Z) = -\\mathcal R_0 e^{-\\mathcal R_0 Z} + 1$$\n",
    "* The root is in the interval $(0,1)$, let's pick an initial gues $Z_0=0.5$"
   ]
  },
  {
   "cell_type": "code",
   "execution_count": 7,
   "metadata": {},
   "outputs": [
    {
     "name": "stdout",
     "output_type": "stream",
     "text": [
      "f( 0.5 )= -0.13212055882855767\n",
      "Z1 = 1.0 f( 1.0 )= 0.1353352832366127\n"
     ]
    }
   ],
   "source": [
    "# we need the exp function from the math module\n",
    "from math import exp\n",
    "\n",
    "# model parameter\n",
    "R0 = 2\n",
    "# an initial guess of the root\n",
    "Z0 = 0.5\n",
    "# the derivative at Z0\n",
    "df = -R0*exp(-R0*Z0)+1\n",
    "# the function value at Z0\n",
    "f0 = exp(-R0*Z0)-1+Z0\n",
    "print(\"f(\", Z0, \")=\", f0)\n",
    "Z1 = Z0 - f0/df\n",
    "f1 = exp(-R0*Z1)-1+Z1\n",
    "print(\"Z1 =\", Z1, \"f(\", Z1, \")=\", f1)"
   ]
  },
  {
   "cell_type": "markdown",
   "metadata": {},
   "source": [
    "### Successive approximations\n",
    "* Here $Z_1=1.0$ is certainly not the root (see the graph) \n",
    "* But it is closer to the true root than $Z_0=0.5$\n",
    "* Can we get a better approximation?\n",
    "* We start with $Z_1$ as the initial guess, and repeat the process"
   ]
  },
  {
   "cell_type": "code",
   "execution_count": 18,
   "metadata": {
    "scrolled": true
   },
   "outputs": [
    {
     "name": "stdout",
     "output_type": "stream",
     "text": [
      "Z2 = 0.8144387474091372 , f( 0.8144387474091372 )= 0.8144387474091372\n"
     ]
    }
   ],
   "source": [
    "# the derivative at Z1\n",
    "df = -R0*exp(-R0*Z1)+1\n",
    "Z2 = Z1 - f1/df\n",
    "# the function value at Z2\n",
    "f2 = exp(-R0*Z2)-1+Z2\n",
    "print(\"Z2 =\", Z2, \",\", \"f(\", Z2, \")=\", Z2)"
   ]
  },
  {
   "cell_type": "markdown",
   "metadata": {},
   "source": [
    "* This $Z_2$ is a much better approximation.\n",
    "* We can repeat again"
   ]
  },
  {
   "cell_type": "code",
   "execution_count": 22,
   "metadata": {},
   "outputs": [
    {
     "name": "stdout",
     "output_type": "stream",
     "text": [
      "Z3 = 0.7970150777144943 f( 0.7970150777144943 )= 0.00012049141040393341\n"
     ]
    }
   ],
   "source": [
    "# the derivative at Z0\n",
    "df2 = -R0*exp(-R0*Z2)+1\n",
    "# the function value at Z0\n",
    "Z3 = Z2 - f2/df2\n",
    "f3 = exp(-R0*Z3)-1+Z3\n",
    "print(\"Z3 =\", Z3, \"f(\", Z3, \")=\", f3)"
   ]
  },
  {
   "cell_type": "markdown",
   "metadata": {},
   "source": [
    "### Termination condition\n",
    "* When should we stop the iterative process? We can use **one** of the following conditions\n",
    "  * when successive approximations do not change much, i.e., $|Z_n-Z_{n-1}|\\leq\\varepsilon$ for some predetermined precision $\\varepsilon$\n",
    "  * when the function value $f(Z_n)$ is close enough to 0, i.e., $|f(Z_n)|<\\varepsilon$ for some predetermined precision $\\varepsilon$\n",
    "\n",
    "If we set $\\varepsilon=10^{-3}$, then we can stop at $Z_3$.\n",
    "  \n",
    "# The while loop\n",
    "* Like finding the octal representation of decimal numbers, this iterative process is repetitive, until some condition is met\n",
    "* Such a repetitive process can be simplified (without writing the process again and again as we did above), using the `while` loop\n",
    "\n",
    "a while loop has the form\n",
    "```Python\n",
    "while condition:\n",
    "    block\n",
    "```\n",
    "where condition is a boolean expression, and block is a list of statements. \n",
    "  * Please note the extra space (called the **indentation** infront of the block, to distinguish which statements will be repeated. The statements in the same block must have the same indentation\n",
    "  * **the colon (:) trailing hte while statement is important**\n",
    "\n",
    "A while loop execute the block repetitively while the condition is true. If the condition is false, it skips (without executing) the block.\n",
    "\n",
    "## Example\n",
    "The following example prints the geometric sequence $a_{n+1}=2a_n$ until $a_n\\geq10$ (but including such an $a_n), with $a_0=1$"
   ]
  },
  {
   "cell_type": "code",
   "execution_count": 24,
   "metadata": {},
   "outputs": [
    {
     "name": "stdout",
     "output_type": "stream",
     "text": [
      "1\n",
      "2\n",
      "4\n",
      "8\n",
      "stopped\n"
     ]
    }
   ],
   "source": [
    "a=1\n",
    "while a < 10:\n",
    "    print(a)\n",
    "    a = 2 * a\n",
    "print(\"stopped\")"
   ]
  },
  {
   "cell_type": "markdown",
   "metadata": {},
   "source": [
    "### Use a while loop to solve the final size relationship\n",
    "* Let's solve the final size relationship using the while loop, with a termination condition $|f(Z_n)|\\leq\\varepsilon$, with $\\varepsilon = 0.001$\n",
    "* The repetitive parts are:\n",
    "  * computing the derivative at $Z_0$\n",
    "  * compute the function value at $Z_0$\n",
    "  * compute the next apprximation\n",
    "    * which will be used as the initial guess again in the next iteration, so we store it in $Z_0$ to replace the original initial guess "
   ]
  },
  {
   "cell_type": "code",
   "execution_count": 25,
   "metadata": {},
   "outputs": [
    {
     "name": "stdout",
     "output_type": "stream",
     "text": [
      "Z= 0.7970150777144943 , f( 0.7970150777144943 )= 0.00012049141040393341\n"
     ]
    }
   ],
   "source": [
    "# we need the absolute value function (fabs) from the math package\n",
    "from math import fabs\n",
    "R0 = 2\n",
    "Z0 = 0.5\n",
    "# the final error in f(Z)\n",
    "epsilon = 1e-3\n",
    "\n",
    "# function value\n",
    "f = exp(-R0*Z0)-1+Z0\n",
    "while abs(f) >= epsilon :\n",
    "    df = -R0 * exp(-R0*Z0) + 1\n",
    "    # the function value is computed before in f\n",
    "    Z0 = Z0 - f / df\n",
    "    # compute the function value at the new estimate\n",
    "    f = exp(-R0*Z0) - 1 + Z0\n",
    "print(\"Z=\", Z0, \", f(\", Z0, \")=\", f)\n"
   ]
  },
  {
   "cell_type": "code",
   "execution_count": null,
   "metadata": {},
   "outputs": [],
   "source": []
  }
 ],
 "metadata": {
  "kernelspec": {
   "display_name": "Python 3 (ipykernel)",
   "language": "python",
   "name": "python3"
  },
  "language_info": {
   "codemirror_mode": {
    "name": "ipython",
    "version": 3
   },
   "file_extension": ".py",
   "mimetype": "text/x-python",
   "name": "python",
   "nbconvert_exporter": "python",
   "pygments_lexer": "ipython3",
   "version": "3.9.7"
  }
 },
 "nbformat": 4,
 "nbformat_minor": 4
}
