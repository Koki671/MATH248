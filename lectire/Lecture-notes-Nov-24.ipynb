{
 "cells": [
  {
   "cell_type": "markdown",
   "metadata": {},
   "source": [
    "# Review\n",
    "\n",
    "## Double integral and triple integal\n",
    "\n",
    "* `I, e = dblquad(f, a, b, l, u)` evaluates $$\\int_a^b\\int_{\\ell(x)}^{u(x)}f(y, x)dydx$$\n",
    "  * $f(y, x)$ is the integrand, the first argument is the dummy variable fo the inner integral\n",
    "  * $\\ell$ and $u$ can be constants, or functions of $x$\n",
    " \n",
    "* `I, e = tplquad(f, a, b, l, u, q, r)` evaluates $$\\int_a^b\\int_{\\ell(x)}^{u(x)}\\int_{q(x,y)}^{r(x,y)}f(z, y, x)dzdydx$$\n",
    "  * $f(z, y, x)$ is the integrand, the first argument is the dummy variable fo the inner integral\n",
    "  * $\\ell$ and $u$ can be constants, or functions of $x$\n",
    "  * $q$ adn $r$ can be constants of functions of $(x,y)$, dummy variable of the outermost integral first.\n",
    " "
   ]
  },
  {
   "cell_type": "markdown",
   "metadata": {},
   "source": [
    "# Multiple integral in general\n",
    "\n",
    "How to evaluate \n",
    "$$\\int_{\\ell_n}^{u_n}\\int_{\\ell_{n-1}}^{u_{n-1}}\\cdots\\int_{\\ell_0}^{u_0}f(x_0,x_1,\\cdots,x_n)dx_0dx_1\\cdots dx_n$$\n",
    "\n",
    "The `scipy.integrate` package provides an `nquad` function to compute n-integrals\n",
    "* `I, e=nquad(f, bounds)` calculates the above integral\n",
    "  * $f(x_0, x_1,\\dots, x_n)$ is an $n$-variable function\n",
    "    * $x_0$ is the dummy variable of the innermost integral\n",
    "  * `bounds` is a list of bounds, each bound is\n",
    "    * either a list of two float numbers, the lower and upper limits\n",
    "    * or a function that returns a list containing the lower and upper limits\n",
    "      * The function takes all the available bounds, in the order from inner to outer dummy variables.\n",
    "    * the list is also ordered from the inner to outer dummy variables\n",
    "  * it returns the approximated integral with an error estimate\n",
    "\n",
    "## Reverse order\n",
    "Note that the variable order fo the bounds, and the order of the bounds** are the opposite of `dblquad`and `tplquad`\n"
   ]
  },
  {
   "cell_type": "markdown",
   "metadata": {},
   "source": [
    "# Example\n",
    "\n",
    "Let $X=(X_1, X_2, X_3)$ be a multivariate normal distribution with mean $0$ and the variance-covariance matrix\n",
    "$$\n",
    "\\Sigma = \\left[\\begin{array}{c}\n",
    "1 & -1 & 0\\\\\n",
    "-1 & 2 & 1\\\\\n",
    "0 & 1 & 3\n",
    "\\end{array}\\right]\n",
    "$$\n",
    "\n",
    "**Multivariance normal**\n",
    "The probability density function is \n",
    "$$\n",
    "f(\\vec x) = \\frac{1}{\\sqrt{(2\\pi)^3|\\Sigma|}}e^{-\\frac{1}{2}\\vec x^T\\Sigma^{-1}\\vec x}\n",
    "$$\n",
    "\n",
    "**Probability**:\n",
    "$$P(X\\in E) = \\int\\int\\int_E f(x_1,x_2,x_3)dx_1dx_1dx_2$$\n",
    "\n",
    "Let $E$ be the ellipsoid which, under the coordinate system \n",
    "$$\n",
    "\\left[\\begin{array}{c}\n",
    "\\frac{1}{\\sqrt3}\\\\\n",
    "\\frac{1}{\\sqrt3}\\\\\n",
    "\\frac{1}{\\sqrt3}\n",
    "\\end{array}\\right],\\;\n",
    "\\left[\\begin{array}{c}\n",
    "\\frac{1}{\\sqrt2}\\\\\n",
    "-\\frac{1}{\\sqrt2}\\\\\n",
    "0\n",
    "\\end{array}\\right],\\;\n",
    "\\left[\\begin{array}{c}\n",
    "\\frac{1}{\\sqrt6}\\\\\n",
    "\\frac{1}{\\sqrt6}\\\\\n",
    "-\\frac{2}{\\sqrt{6}}\n",
    "\\end{array}\\right]\n",
    "$$\n",
    "has the form $$u^2+\\frac{v^2}{4}+\\frac{w^2}{9}\\leq 1$$.\n",
    "\n",
    "What is the probability that it false into $E$?\n",
    "\n",
    "**variable change**:\n",
    "Under the coordinate system\n",
    "$$\n",
    "\\left[\\begin{array}{c}\n",
    "\\frac{1}{\\sqrt3}\\\\\n",
    "\\frac{1}{\\sqrt3}\\\\\n",
    "\\frac{1}{\\sqrt3}\n",
    "\\end{array}\\right],\\;\n",
    "\\left[\\begin{array}{c}\n",
    "\\frac{2}{\\sqrt2}\\\\\n",
    "-\\frac{2}{\\sqrt2}\\\\\n",
    "0\n",
    "\\end{array}\\right],\\;\n",
    "\\left[\\begin{array}{c}\n",
    "\\frac{3}{\\sqrt6}\\\\\n",
    "\\frac{3}{\\sqrt6}\\\\\n",
    "-\\frac{6}{\\sqrt{6}}\n",
    "\\end{array}\\right]\n",
    "$$\n",
    "$E$ is the unit sphere.\n",
    "\n",
    "$$\n",
    "\\left[\\begin{array}{c}\n",
    "x\\\\y\\\\z\n",
    "\\end{array}\\right] =\n",
    "J\n",
    "\\left[\\begin{array}{c}\n",
    "\\alpha\\\\\\beta\\\\\\gamma\n",
    "\\end{array}\\right],\\;\\text{ where }\n",
    "J = \\left[\\begin{array}{c}\n",
    "\\frac{1}{\\sqrt3} & \\frac{2}{\\sqrt2} & \\frac{3}{\\sqrt6}\\\\\n",
    "\\frac{1}{\\sqrt3} & -\\frac{2}{\\sqrt2}& \\frac{3}{\\sqrt6}\\\\\n",
    "\\frac{1}{\\sqrt3} & 0 & -\\frac{6}{\\sqrt6}\n",
    "\\end{array}\\right]\n",
    "$$\n",
    "Then, $\\alpha^2+\\beta^2+\\gamma^2\\leq 1$\n",
    "\n",
    "We use the polar coordinate \n",
    "$$\\alpha = r\\sin\\phi\\cos\\theta,\\;\\beta=r\\sin\\phi\\sin\\theta,\\;\\gamma=r\\cos\\phi,\\;\n",
    "\\theta\\in[0,2\\pi],\\;\\phi\\in[0,\\pi]$$\n",
    "and $$d\\alpha d\\beta d\\gamma = r^2\\sin\\phi$$\n",
    "In addition, $$dxdydz=|J|d\\alpha d\\beta d\\gamma$$\n",
    "\n",
    "Then\n",
    "$$P(X\\in E) = \\int_0^{2\\pi}\\int_0^\\pi\\int_0^1 f(\\vec x(r,\\phi,\\theta))|J|r^2\\sin\\phi drd\\phi d\\theta$$"
   ]
  },
  {
   "cell_type": "code",
   "execution_count": 1,
   "metadata": {},
   "outputs": [
    {
     "name": "stdout",
     "output_type": "stream",
     "text": [
      "(0.34021989613857845, 1.419628212553925e-08)\n",
      "(0.34021989613857845, 1.419628212553925e-08)\n"
     ]
    }
   ],
   "source": [
    "from numpy import array, sqrt, matmul, sin, cos, exp\n",
    "from numpy.linalg import det, inv\n",
    "from scipy.integrate import tplquad, nquad\n",
    "from math import pi\n",
    "\n",
    "J = array([[1/sqrt(3), sqrt(2), sqrt(3/2)], \n",
    "           [1/sqrt(3), -sqrt(2), sqrt(3/2)],\n",
    "           [1/sqrt(3), 0, -sqrt(6)]])\n",
    "DJ = det(J)\n",
    "\n",
    "S = array([[1, -1, 0], [-1, 2, 1], [0, 1, 3]])\n",
    "DS = det(S)\n",
    "S_inv = inv(S)\n",
    "\n",
    "#alpha, beta gamma\n",
    "abg = lambda r, phi, theta: array([r*sin(phi)*cos(theta), \n",
    "                                   r*sin(phi)*sin(theta),\n",
    "                                   r*cos(phi)])\n",
    "xyz = lambda abg: matmul(J, abg)\n",
    "\n",
    "# pdf\n",
    "f = lambda x: 1/sqrt((2*pi)**3*DS)*exp(-matmul(x.T, matmul(S_inv, x))/2)\n",
    "\n",
    "P = tplquad(lambda r, phi, theta: f(xyz(abg(r, phi, theta)))*DJ*r**2*sin(phi), \n",
    "           0, 2*pi, 0, pi, 0, 1)\n",
    "\n",
    "print(P)\n",
    "\n",
    "# please note the order of the limits are the opposite of those in tplquad\n",
    "P = nquad(lambda r, phi, theta: f(xyz(abg(r, phi, theta)))*DJ*r**2*sin(phi), \n",
    "           [(0, 1), (0, pi), (0, 2*pi)])\n",
    "\n",
    "print(P)"
   ]
  },
  {
   "cell_type": "markdown",
   "metadata": {},
   "source": [
    "# Example\n",
    "A wheel with a profile $y^2=(x^4+1)(4-x^2)$ (in the unit of centimeter) is rolling down a inclined slope with an angle $\\pi/6$ to the ground. The wheel traveled a distance of 1 meter from a resting position. What is its final speed?\n"
   ]
  },
  {
   "cell_type": "code",
   "execution_count": 4,
   "metadata": {},
   "outputs": [
    {
     "data": {
      "text/plain": [
       "[<matplotlib.lines.Line2D at 0x7f8e688a38b0>,\n",
       " <matplotlib.lines.Line2D at 0x7f8e688a3910>]"
      ]
     },
     "execution_count": 4,
     "metadata": {},
     "output_type": "execute_result"
    },
    {
     "data": {
      "image/png": "[encoded data removed]",
      "text/plain": [
       "<Figure size 432x288 with 1 Axes>"
      ]
     },
     "metadata": {
      "needs_background": "light"
     },
     "output_type": "display_data"
    }
   ],
   "source": [
    "from matplotlib.pyplot import plot, subplots\n",
    "from numpy import linspace, sqrt\n",
    "\n",
    "x = linspace(-2, 2, 401)\n",
    "f = lambda x: sqrt((x**4+1)*(4-x**2))\n",
    "\n",
    "fig, ax = subplots()\n",
    "ax.set_aspect(1)\n",
    "plot(x, f(x), '-b', x, -f(x), '-b')"
   ]
  },
  {
   "cell_type": "markdown",
   "metadata": {},
   "source": [
    "Note that $-2\\leq x\\leq2$\n",
    "\n",
    "## Radius\n",
    "We first need to know its largest radius $R$, which is the maximum of $y(x)$. \n",
    "* We need to compute the critical point.\n",
    "* We use symbolic calculation to derive the critical number"
   ]
  },
  {
   "cell_type": "code",
   "execution_count": 15,
   "metadata": {},
   "outputs": [
    {
     "data": {
      "text/latex": [
       "$\\displaystyle - \\frac{- 3 x^{5} + 8 x^{3} - x}{\\sqrt{- x^{6} + 4 x^{4} - x^{2} + 4}}$"
      ],
      "text/plain": [
       "-(-3*x**5 + 8*x**3 - x)/sqrt(-x**6 + 4*x**4 - x**2 + 4)"
      ]
     },
     "metadata": {},
     "output_type": "display_data"
    },
    {
     "name": "stdout",
     "output_type": "stream",
     "text": [
      "3.2983965417673935\n"
     ]
    }
   ],
   "source": [
    "from sympy import symbols, solve, diff\n",
    "from numpy import array\n",
    "x, y = symbols(\"x, y\", real=True)\n",
    "F = y**2-(x**4+1)*(4-x**2)\n",
    "Y = solve(F, y)[0]\n",
    "dy = diff(Y, x)\n",
    "display(dy)\n",
    "\n",
    "roots = array([float(r) for r in solve(dy, x)])\n",
    "R = max(f(roots))\n",
    "print(R)"
   ]
  },
  {
   "cell_type": "markdown",
   "metadata": {},
   "source": [
    "## Mass\n",
    "\n",
    "$$m = \\int\\int\\int_Vdzdydx$$\n",
    "\n",
    "We use cylindrical coordiantes (i.e., polar coordinates for $y$ and $z$)\n",
    "\n",
    "$$ y=r\\cos\\theta,\\;z=r\\sin\\theta,\\;\\theta\\in[0,2\\pi]$$\n",
    "and\n",
    "$$dzdydx = rd\\theta drdx$$\n",
    "\n",
    "$$M = \\int_{-2}^2\\int_{0}^{f(x)}\\int_0^{2\\pi}rd\\theta drdx$$\n",
    "\n",
    "## Moment of inertia about the $x$-axis\n",
    "$$I_x = \\int\\int\\int_V(y^2+z^2)dzdydx$$\n",
    "\n",
    "Using cylindrical coordiantes, $y^2+z^2 = r^2$, \n",
    "$$I_x = \\int_{-2}^2\\int_{0}^{f(x)}\\int_0^{2\\pi}(r^2)(r)d\\theta drdx=\\int_{-2}^2\\int_{0}^{f(x)}\\int_0^{2\\pi}r^3drd\\theta drdx$$\n"
   ]
  },
  {
   "cell_type": "code",
   "execution_count": 22,
   "metadata": {},
   "outputs": [
    {
     "name": "stdout",
     "output_type": "stream",
     "text": [
      "m= 79.46733417080468 Ix= 295.2925525544839\n"
     ]
    }
   ],
   "source": [
    "from math import pi\n",
    "from scipy.integrate import nquad\n",
    "\n",
    "# mass\n",
    "m = nquad(lambda theta, r, x:r, [[0, 2*pi], lambda x: [0, f(x)], [-2, 2]])[0]\n",
    "\n",
    "# moment of inertia\n",
    "Ix = nquad(lambda theta, r, x:r**3, [[0, 2*pi], lambda x: [0, f(x)], [-2, 2]])[0]\n",
    "print(\"m=\", m, \"Ix=\", Ix)\n"
   ]
  },
  {
   "cell_type": "markdown",
   "metadata": {},
   "source": [
    "## Rolling motion\n",
    "Let $a(t)$ be the acceleration of the wheel at time $t$, and $\\phi$ be its angular acceleration. Then, $$a=R\\phi$$\n",
    "\n",
    "**the component of gravity pointing down hill**: $\\displaystyle G=mg\\sin\\frac\\pi6$\n",
    "\n",
    "**the component of gravity orthogonal to the slope**: $\\displaystyle mg\\cos\\frac\\pi6$\n",
    "\n",
    "**the friction**: $F$\n",
    "\n",
    "**friction causes rolling**:\n",
    "$$I_x\\phi = RF$$\n",
    "\n",
    "**Newton's second law of motion**:\n",
    "$$ma = G - F$$\n",
    "Note that $F$ is a linear function of $\\phi$, which is a linear function of $a$. So this defines a linear equation for teh acceleration $a$"
   ]
  },
  {
   "cell_type": "code",
   "execution_count": 23,
   "metadata": {},
   "outputs": [
    {
     "name": "stdout",
     "output_type": "stream",
     "text": [
      "a= 3.65496179742198\n"
     ]
    }
   ],
   "source": [
    "from sympy import sin, cos, Eq\n",
    "from scipy.constants import g\n",
    "from sympy.abc import a, F, G, phi\n",
    "t = symbols(\"t\", positive=True)\n",
    "\n",
    "G = m*g*sin(pi/6)\n",
    "\n",
    "# F as a function of a\n",
    "F = solve(Eq(Ix*phi,R*F), F)[0].subs({phi:a/R})\n",
    "\n",
    "a = solve(Eq(m*a, G-F), a)[0]\n",
    "print(\"a=\", a)\n"
   ]
  },
  {
   "cell_type": "code",
   "execution_count": 24,
   "metadata": {},
   "outputs": [
    {
     "name": "stdout",
     "output_type": "stream",
     "text": [
      "T= 7.39730587349881 s\n",
      "terminal velocity= 27.0368703714834 cm/s\n"
     ]
    }
   ],
   "source": [
    "from sympy import integrate,lambdify\n",
    "\n",
    "# velocity\n",
    "v = integrate(a, (t, 0, t))\n",
    "\n",
    "# position\n",
    "x = integrate(v, (t, 0, t))\n",
    "\n",
    "# at what time had it traveled 1 m=100cm?\n",
    "T = solve(Eq(x, 100), t)[0]\n",
    "print(\"T=\", T, \"s\")\n",
    "\n",
    "vt = lambdify(\"t\", v)\n",
    "\n",
    "print(\"terminal velocity=\", vt(T), \"cm/s\")"
   ]
  },
  {
   "cell_type": "code",
   "execution_count": null,
   "metadata": {},
   "outputs": [],
   "source": []
  }
 ],
 "metadata": {
  "kernelspec": {
   "display_name": "Python 3 (ipykernel)",
   "language": "python",
   "name": "python3"
  },
  "language_info": {
   "codemirror_mode": {
    "name": "ipython",
    "version": 3
   },
   "file_extension": ".py",
   "mimetype": "text/x-python",
   "name": "python",
   "nbconvert_exporter": "python",
   "pygments_lexer": "ipython3",
   "version": "3.9.7"
  }
 },
 "nbformat": 4,
 "nbformat_minor": 4
}
