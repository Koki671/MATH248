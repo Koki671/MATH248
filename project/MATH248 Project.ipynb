{
 "cells": [
  {
   "cell_type": "markdown",
   "id": "f0b7a157",
   "metadata": {},
   "source": [
    "# MATH 248 Project\n",
    "\n",
    "## The trajectory of a projectile\n",
    "\n",
    "An airgun shot a pellet with a mass $m$ at an angle $\\theta$ into the air. The speed of the pellet is $v_0$ and the position is $(0, y_0)$ when it leaves the barrel. Assuming the air resistance is proportional to the velocity with a coefficient $r$. Let $x(t)$ and $y(t)$ be the horizontal and vertical position (i.e, the x- and y-coordinates) of the pellet at time $t$.\n",
    "\n",
    "* The horizontal direction: the air resistance is the only force. According to Newton's second law of motion, \n",
    "$$\\ddot x(t) = -\\frac{r}{m}\\dot x(t)$$\n",
    "\n",
    "* The vertical direction: two forces act on the pellet, the air resistance and the gravity. Let $g$ be the gravitational constant, \n",
    "$$\\ddot y(t) = -g -\\frac{r}{m}\\dot y(t)$$\n",
    "\n",
    "The trajectory is the parametric curve $(x(t), y(t))$. Find the solutions $x(t)$ and $y(t)$ using symbolic calculations. \n"
   ]
  },
  {
   "cell_type": "code",
   "execution_count": 1,
   "id": "e3b5b7e0",
   "metadata": {},
   "outputs": [],
   "source": [
    "from sympy import *\n",
    "from scipy.constants import g as G\n",
    "from scipy.optimize import fsolve, minimize\n",
    "from numpy import linspace, arange, zeros, pi, sqrt\n",
    "from matplotlib.pyplot import plot, figure, axis\n",
    "from matplotlib.animation import FuncAnimation\n",
    "from IPython.display import HTML"
   ]
  },
  {
   "cell_type": "code",
   "execution_count": 2,
   "id": "889dac23",
   "metadata": {},
   "outputs": [
    {
     "data": {
      "text/latex": [
       "$\\displaystyle x{\\left(t \\right)} = - \\frac{d_{x} m e^{- \\frac{r t}{m}}}{r} + \\frac{d_{x} m + r x_{0}}{r}$"
      ],
      "text/plain": [
       "Eq(x(t), -d_x*m*exp(-r*t/m)/r + (d_x*m + r*x0)/r)"
      ]
     },
     "metadata": {},
     "output_type": "display_data"
    },
    {
     "data": {
      "text/latex": [
       "$\\displaystyle y{\\left(t \\right)} = - \\frac{g m t}{r} + \\frac{\\left(- d_{y} m r - g m^{2}\\right) e^{- \\frac{r t}{m}}}{r^{2}} + \\frac{d_{y} m r + g m^{2} + r^{2} y_{0}}{r^{2}}$"
      ],
      "text/plain": [
       "Eq(y(t), -g*m*t/r + (-d_y*m*r - g*m**2)*exp(-r*t/m)/r**2 + (d_y*m*r + g*m**2 + r**2*y0)/r**2)"
      ]
     },
     "metadata": {},
     "output_type": "display_data"
    }
   ],
   "source": [
    "r, m, g, t = symbols(\"r, m, g, t\")\n",
    "x0, y0, v0 = symbols(\"x0, y0, v0\")\n",
    "theta, dx0, dy0 = symbols(\"theta, d_x, d_y\")\n",
    "x = Function(\"x\")\n",
    "y = Function(\"y\")\n",
    "\n",
    "hd = Eq(diff(x(t), t, 2)+(r/m)*diff(x(t), t), 0)\n",
    "x_t = dsolve(hd, ics={x(0):x0, x(t).diff(\"t\").subs({t:0}):dx0})\n",
    "display(x_t)\n",
    "\n",
    "vd = Eq(diff(y(t), t, 2)+g+(r/m)*diff(y(t), t), 0)\n",
    "y_t = dsolve(vd, ics={y(0):y0, y(t).diff(\"t\").subs({t:0}):dy0})\n",
    "display(y_t)"
   ]
  },
  {
   "cell_type": "markdown",
   "id": "5781ffd4",
   "metadata": {},
   "source": [
    "## Maximum range\n",
    "\n",
    "Consider the following parameter values: the friction coefficient $r=0.001$, the mass of the pellet is $m=14.3$ grain $\\approx 9.3\\times 10^{-4}$ kilogram, the initial position of the pellet is $x_0=0$, $y_0=2$, the initial velocity is $v_0=274$ meters per second.\n",
    "\n",
    "For any given $\\theta$, numerically find the time $T$ the pellet hitting the ground, i.e., $y(T)=0$. In general, this defines a numerical function $T(\\theta)$. The maximum range is $R_M=x(T)$.\n",
    "\n",
    "Note that, because $T$ is a function of $\\theta$, so is $R_M$. Plot $R_M(\\theta)$ for $0\\leq\\theta\\leq90^\\circ$\n",
    "\n",
    "* Hint: The function $y(t)=0$ cannot be solved symbolically as this is a transcendental function. You need to solve it numerically, e.g., using **fsolve**."
   ]
  },
  {
   "cell_type": "code",
   "execution_count": 3,
   "id": "9daeb7f3",
   "metadata": {},
   "outputs": [
    {
     "data": {
      "text/plain": [
       "[<matplotlib.lines.Line2D at 0x7ff96d957370>]"
      ]
     },
     "execution_count": 3,
     "metadata": {},
     "output_type": "execute_result"
    },
    {
     "data": {
      "image/png": "[encoded data removed]",
      "text/plain": [
       "<Figure size 432x288 with 1 Axes>"
      ]
     },
     "metadata": {
      "needs_background": "light"
     },
     "output_type": "display_data"
    }
   ],
   "source": [
    "def R(theta):\n",
    "    \n",
    "    dy = y_t.rhs\n",
    "    yt = lambdify(t, dy.subs({r:0.001, m:9.3e-4, g:G, y0:2, v0:274, dy0:v0*sin(theta)}))\n",
    "    \n",
    "    T = fsolve(yt, x0=5)\n",
    "    \n",
    "    dx = x_t.rhs\n",
    "    xt = lambdify(t, dx.subs({r:0.001, m:9.3e-4, g:G, x0:0, y0:2, v0:274, dx0:v0*cos(theta), dy0:v0*sin(theta)}))\n",
    "    \n",
    "    return xt(T)\n",
    "\n",
    "tval = linspace(0, pi/2, 100)\n",
    "rg = zeros(100)\n",
    "\n",
    "for i in range(100):\n",
    "    rg[i] = R(tval[i])\n",
    "\n",
    "plot(tval, rg)"
   ]
  },
  {
   "cell_type": "markdown",
   "id": "d801e2cd",
   "metadata": {},
   "source": [
    "## Effective range\n",
    "\n",
    "The speed of a pellet can be computed as\n",
    "$$\n",
    "v(t) = \\sqrt{\\dot x^2(t)+\\dot y^2(t)}\n",
    "$$\n",
    "\n",
    "A pellet can penetrate human skin at a speed about 100 meters/second.  Find the largest time $T_e$ such that\n",
    "$v(T_e)\\geq100$ and $y(T_e)\\geq0$. Then the effective range is\n",
    "\n",
    "$$R_e = \\sqrt{x^2(T_e)+y^2(T_e)}$$\n",
    "\n",
    "Plot $R_e$ as a function of $\\theta$ for $0\\leq\\theta\\leq15^\\circ$\n",
    "\n",
    "* Hint: $T_e$ is the earlier one of the two time $T_{100}$ when $v(T_{100})=100$ and $T_M$ when the pellet hit the ground."
   ]
  },
  {
   "cell_type": "code",
   "execution_count": 6,
   "id": "74c49f88",
   "metadata": {},
   "outputs": [
    {
     "data": {
      "text/plain": [
       "[<matplotlib.lines.Line2D at 0x7ff96572a880>]"
      ]
     },
     "execution_count": 6,
     "metadata": {},
     "output_type": "execute_result"
    },
    {
     "data": {
      "image/png": "[encoded data removed]",
      "text/plain": [
       "<Figure size 432x288 with 1 Axes>"
      ]
     },
     "metadata": {
      "needs_background": "light"
     },
     "output_type": "display_data"
    }
   ],
   "source": [
    "def effrange(theta):\n",
    "    \n",
    "    dy = y_t.rhs\n",
    "    yt = lambdify(t, dy.subs({r:0.001, m:9.3e-4, g:G, y0:2, v0:274, dy0:v0*sin(theta)}))\n",
    "    \n",
    "    dx = x_t.rhs\n",
    "    xt = lambdify(t, dx.subs({r:0.001, m:9.3e-4, g:G, x0:0, y0:2, v0:274, dx0:v0*cos(theta), dy0:v0*sin(theta)}))\n",
    "    \n",
    "    diffy = diff(y_t.rhs, t)\n",
    "    diffx = diff(x_t.rhs, t)\n",
    "    \n",
    "    v_t100 = (diffx**2+diffy**2)**0.5-100\n",
    "    vt = lambdify(t, v_t100.subs({r:0.001, m:9.3e-4, g:G, x0:0, y0:2, v0:274, dx0:v0*cos(theta), dy0:v0*sin(theta)}))\n",
    "    \n",
    "    Te = fsolve(vt, x0=1)[0]\n",
    "    \n",
    "    Re = (xt(Te)**2+yt(Te)**2)**0.5\n",
    "    \n",
    "    return Re\n",
    "\n",
    "tval2 = linspace(0, pi/12, 100)\n",
    "rg2 = zeros(100)\n",
    "\n",
    "for j in range(100):\n",
    "    rg2[j] = effrange(tval2[j])\n",
    "    \n",
    "plot(tval2, rg2)"
   ]
  },
  {
   "cell_type": "markdown",
   "id": "0979f7c6",
   "metadata": {},
   "source": [
    "## Animation\n",
    "\n",
    "Make an animation showing how the trajectory changes with $\\theta$, for $\\theta=0^\\circ, 1^\\circ, ..., 45^\\circ$. For each frame (a $\\theta$ value), plot two curves:\n",
    "* the full trajectory as a blue curve, i.e., parametric curve $(x(t), y(t))$ for $0\\leq t\\leq T$ until the pellet hit the ground at time $T$.\n",
    "* the effective part of the trajectory as a red curve, i.e., $(x(t), y(t))$ for $0\\leq t\\leq T_e$ until the pellet has a velocty equal to 100 meters per second at time $T_e$."
   ]
  },
  {
   "cell_type": "code",
   "execution_count": 9,
   "id": "3bff7519",
   "metadata": {},
   "outputs": [
    {
     "ename": "TypeError",
     "evalue": "loop of ufunc does not support argument 0 of type Symbol which has no callable cos method",
     "output_type": "error",
     "traceback": [
      "\u001b[0;31m---------------------------------------------------------------------------\u001b[0m",
      "\u001b[0;31mAttributeError\u001b[0m                            Traceback (most recent call last)",
      "\u001b[0;31mAttributeError\u001b[0m: 'Symbol' object has no attribute 'cos'",
      "\nThe above exception was the direct cause of the following exception:\n",
      "\u001b[0;31mTypeError\u001b[0m                                 Traceback (most recent call last)",
      "\u001b[0;32m/tmp/ipykernel_62/1978546725.py\u001b[0m in \u001b[0;36m<module>\u001b[0;34m\u001b[0m\n\u001b[1;32m      5\u001b[0m \u001b[0myt\u001b[0m \u001b[0;34m=\u001b[0m \u001b[0mlambdify\u001b[0m\u001b[0;34m(\u001b[0m\u001b[0mt\u001b[0m\u001b[0;34m,\u001b[0m \u001b[0my_t\u001b[0m\u001b[0;34m.\u001b[0m\u001b[0mrhs\u001b[0m\u001b[0;34m.\u001b[0m\u001b[0msubs\u001b[0m\u001b[0;34m(\u001b[0m\u001b[0;34m{\u001b[0m\u001b[0mr\u001b[0m\u001b[0;34m:\u001b[0m\u001b[0;36m0.001\u001b[0m\u001b[0;34m,\u001b[0m \u001b[0mm\u001b[0m\u001b[0;34m:\u001b[0m\u001b[0;36m9.3e-4\u001b[0m\u001b[0;34m,\u001b[0m \u001b[0mg\u001b[0m\u001b[0;34m:\u001b[0m\u001b[0mG\u001b[0m\u001b[0;34m,\u001b[0m \u001b[0my0\u001b[0m\u001b[0;34m:\u001b[0m\u001b[0;36m2\u001b[0m\u001b[0;34m,\u001b[0m \u001b[0mv0\u001b[0m\u001b[0;34m:\u001b[0m\u001b[0;36m274\u001b[0m\u001b[0;34m,\u001b[0m \u001b[0mdy0\u001b[0m\u001b[0;34m:\u001b[0m\u001b[0mv0\u001b[0m\u001b[0;34m*\u001b[0m\u001b[0msin\u001b[0m\u001b[0;34m(\u001b[0m\u001b[0mtheta\u001b[0m\u001b[0;34m)\u001b[0m\u001b[0;34m}\u001b[0m\u001b[0;34m)\u001b[0m\u001b[0;34m)\u001b[0m\u001b[0;34m\u001b[0m\u001b[0;34m\u001b[0m\u001b[0m\n\u001b[1;32m      6\u001b[0m \u001b[0;34m\u001b[0m\u001b[0m\n\u001b[0;32m----> 7\u001b[0;31m \u001b[0maxis\u001b[0m\u001b[0;34m(\u001b[0m\u001b[0;34m[\u001b[0m\u001b[0mxt\u001b[0m\u001b[0;34m(\u001b[0m\u001b[0;36m0\u001b[0m\u001b[0;34m)\u001b[0m\u001b[0;34m,\u001b[0m \u001b[0myt\u001b[0m\u001b[0;34m(\u001b[0m\u001b[0;36m0\u001b[0m\u001b[0;34m)\u001b[0m\u001b[0;34m,\u001b[0m \u001b[0mxt\u001b[0m\u001b[0;34m(\u001b[0m\u001b[0mT\u001b[0m\u001b[0;34m)\u001b[0m\u001b[0;34m,\u001b[0m \u001b[0myt\u001b[0m\u001b[0;34m(\u001b[0m\u001b[0mT\u001b[0m\u001b[0;34m)\u001b[0m\u001b[0;34m]\u001b[0m\u001b[0;34m)\u001b[0m\u001b[0;34m\u001b[0m\u001b[0;34m\u001b[0m\u001b[0m\n\u001b[0m\u001b[1;32m      8\u001b[0m \u001b[0mparacurve\u001b[0m \u001b[0;34m=\u001b[0m \u001b[0mplot\u001b[0m\u001b[0;34m(\u001b[0m\u001b[0mxt\u001b[0m\u001b[0;34m,\u001b[0m \u001b[0myt\u001b[0m\u001b[0;34m,\u001b[0m \u001b[0;34m\"-b\"\u001b[0m\u001b[0;34m,\u001b[0m \u001b[0;34m[\u001b[0m\u001b[0;34m]\u001b[0m\u001b[0;34m,\u001b[0m \u001b[0;34m[\u001b[0m\u001b[0;34m]\u001b[0m\u001b[0;34m,\u001b[0m \u001b[0;34m\"*g\"\u001b[0m\u001b[0;34m)\u001b[0m\u001b[0;34m\u001b[0m\u001b[0;34m\u001b[0m\u001b[0m\n\u001b[1;32m      9\u001b[0m \u001b[0;34m\u001b[0m\u001b[0m\n",
      "\u001b[0;32m<lambdifygenerated-801>\u001b[0m in \u001b[0;36m_lambdifygenerated\u001b[0;34m(t)\u001b[0m\n\u001b[1;32m      1\u001b[0m \u001b[0;32mdef\u001b[0m \u001b[0m_lambdifygenerated\u001b[0m\u001b[0;34m(\u001b[0m\u001b[0mt\u001b[0m\u001b[0;34m)\u001b[0m\u001b[0;34m:\u001b[0m\u001b[0;34m\u001b[0m\u001b[0;34m\u001b[0m\u001b[0m\n\u001b[0;32m----> 2\u001b[0;31m     \u001b[0;32mreturn\u001b[0m \u001b[0;36m254.82\u001b[0m\u001b[0;34m*\u001b[0m\u001b[0mcos\u001b[0m\u001b[0;34m(\u001b[0m\u001b[0mtheta\u001b[0m\u001b[0;34m)\u001b[0m \u001b[0;34m-\u001b[0m \u001b[0;36m254.82\u001b[0m\u001b[0;34m*\u001b[0m\u001b[0mexp\u001b[0m\u001b[0;34m(\u001b[0m\u001b[0;34m-\u001b[0m\u001b[0;36m1.0752688172043\u001b[0m\u001b[0;34m*\u001b[0m\u001b[0mt\u001b[0m\u001b[0;34m)\u001b[0m\u001b[0;34m*\u001b[0m\u001b[0mcos\u001b[0m\u001b[0;34m(\u001b[0m\u001b[0mtheta\u001b[0m\u001b[0;34m)\u001b[0m\u001b[0;34m\u001b[0m\u001b[0;34m\u001b[0m\u001b[0m\n\u001b[0m",
      "\u001b[0;31mTypeError\u001b[0m: loop of ufunc does not support argument 0 of type Symbol which has no callable cos method"
     ]
    },
    {
     "data": {
      "text/plain": [
       "<Figure size 432x288 with 0 Axes>"
      ]
     },
     "metadata": {},
     "output_type": "display_data"
    }
   ],
   "source": [
    "fig = figure()\n",
    "tval3 = linspace(0, pi/4, 100)\n",
    "\n",
    "xt = lambdify(t, x_t.rhs.subs({r:0.001, m:9.3e-4, g:G, x0:0, y0:2, v0:274, dx0:v0*cos(theta), dy0:v0*sin(theta)}))\n",
    "yt = lambdify(t, y_t.rhs.subs({r:0.001, m:9.3e-4, g:G, y0:2, v0:274, dy0:v0*sin(theta)}))\n",
    "\n",
    "axis([xt(0), yt(0), xt(T), yt(T)])\n",
    "paracurve = plot(xt, yt, \"-b\", [], [], \"*g\")\n",
    "\n",
    "def update(tval3):\n",
    "    paracurve[1].set_data([xt(tval3)], [yt(tval3)])\n",
    "\n",
    "anim = FuncAnimation(fig, update, frames=tval3)\n",
    "HTML(anim.to_html5_video())"
   ]
  },
  {
   "cell_type": "code",
   "execution_count": 10,
   "id": "7d751ae1",
   "metadata": {},
   "outputs": [
    {
     "ename": "NameError",
     "evalue": "name 'dx' is not defined",
     "output_type": "error",
     "traceback": [
      "\u001b[0;31m---------------------------------------------------------------------------\u001b[0m",
      "\u001b[0;31mNameError\u001b[0m                                 Traceback (most recent call last)",
      "\u001b[0;32m/tmp/ipykernel_62/3976612535.py\u001b[0m in \u001b[0;36m<module>\u001b[0;34m\u001b[0m\n\u001b[1;32m      2\u001b[0m \u001b[0mtval3\u001b[0m \u001b[0;34m=\u001b[0m \u001b[0mlinspace\u001b[0m\u001b[0;34m(\u001b[0m\u001b[0;36m0\u001b[0m\u001b[0;34m,\u001b[0m \u001b[0mpi\u001b[0m\u001b[0;34m/\u001b[0m\u001b[0;36m4\u001b[0m\u001b[0;34m,\u001b[0m \u001b[0;36m100\u001b[0m\u001b[0;34m)\u001b[0m\u001b[0;34m\u001b[0m\u001b[0;34m\u001b[0m\u001b[0m\n\u001b[1;32m      3\u001b[0m \u001b[0;34m\u001b[0m\u001b[0m\n\u001b[0;32m----> 4\u001b[0;31m \u001b[0mxt\u001b[0m \u001b[0;34m=\u001b[0m \u001b[0mlambdify\u001b[0m\u001b[0;34m(\u001b[0m\u001b[0mt\u001b[0m\u001b[0;34m,\u001b[0m \u001b[0mdx\u001b[0m\u001b[0;34m.\u001b[0m\u001b[0msubs\u001b[0m\u001b[0;34m(\u001b[0m\u001b[0;34m{\u001b[0m\u001b[0mr\u001b[0m\u001b[0;34m:\u001b[0m\u001b[0;36m0.001\u001b[0m\u001b[0;34m,\u001b[0m \u001b[0mm\u001b[0m\u001b[0;34m:\u001b[0m\u001b[0;36m9.3e-4\u001b[0m\u001b[0;34m,\u001b[0m \u001b[0mg\u001b[0m\u001b[0;34m:\u001b[0m\u001b[0mG\u001b[0m\u001b[0;34m,\u001b[0m \u001b[0mx0\u001b[0m\u001b[0;34m:\u001b[0m\u001b[0;36m0\u001b[0m\u001b[0;34m,\u001b[0m \u001b[0my0\u001b[0m\u001b[0;34m:\u001b[0m\u001b[0;36m2\u001b[0m\u001b[0;34m,\u001b[0m \u001b[0mv0\u001b[0m\u001b[0;34m:\u001b[0m\u001b[0;36m274\u001b[0m\u001b[0;34m,\u001b[0m \u001b[0mdx0\u001b[0m\u001b[0;34m:\u001b[0m\u001b[0mv0\u001b[0m\u001b[0;34m*\u001b[0m\u001b[0mcos\u001b[0m\u001b[0;34m(\u001b[0m\u001b[0mtheta\u001b[0m\u001b[0;34m)\u001b[0m\u001b[0;34m,\u001b[0m \u001b[0mdy0\u001b[0m\u001b[0;34m:\u001b[0m\u001b[0mv0\u001b[0m\u001b[0;34m*\u001b[0m\u001b[0msin\u001b[0m\u001b[0;34m(\u001b[0m\u001b[0mtheta\u001b[0m\u001b[0;34m)\u001b[0m\u001b[0;34m}\u001b[0m\u001b[0;34m)\u001b[0m\u001b[0;34m)\u001b[0m\u001b[0;34m\u001b[0m\u001b[0;34m\u001b[0m\u001b[0m\n\u001b[0m\u001b[1;32m      5\u001b[0m \u001b[0myt\u001b[0m \u001b[0;34m=\u001b[0m \u001b[0mlambdify\u001b[0m\u001b[0;34m(\u001b[0m\u001b[0mt\u001b[0m\u001b[0;34m,\u001b[0m \u001b[0mdy\u001b[0m\u001b[0;34m.\u001b[0m\u001b[0msubs\u001b[0m\u001b[0;34m(\u001b[0m\u001b[0;34m{\u001b[0m\u001b[0mr\u001b[0m\u001b[0;34m:\u001b[0m\u001b[0;36m0.001\u001b[0m\u001b[0;34m,\u001b[0m \u001b[0mm\u001b[0m\u001b[0;34m:\u001b[0m\u001b[0;36m9.3e-4\u001b[0m\u001b[0;34m,\u001b[0m \u001b[0mg\u001b[0m\u001b[0;34m:\u001b[0m\u001b[0mG\u001b[0m\u001b[0;34m,\u001b[0m \u001b[0my0\u001b[0m\u001b[0;34m:\u001b[0m\u001b[0;36m2\u001b[0m\u001b[0;34m,\u001b[0m \u001b[0mv0\u001b[0m\u001b[0;34m:\u001b[0m\u001b[0;36m274\u001b[0m\u001b[0;34m,\u001b[0m \u001b[0mdy0\u001b[0m\u001b[0;34m:\u001b[0m\u001b[0mv0\u001b[0m\u001b[0;34m*\u001b[0m\u001b[0msin\u001b[0m\u001b[0;34m(\u001b[0m\u001b[0mtheta\u001b[0m\u001b[0;34m)\u001b[0m\u001b[0;34m}\u001b[0m\u001b[0;34m)\u001b[0m\u001b[0;34m)\u001b[0m\u001b[0;34m\u001b[0m\u001b[0;34m\u001b[0m\u001b[0m\n\u001b[1;32m      6\u001b[0m \u001b[0;34m\u001b[0m\u001b[0m\n",
      "\u001b[0;31mNameError\u001b[0m: name 'dx' is not defined"
     ]
    },
    {
     "data": {
      "text/plain": [
       "<Figure size 432x288 with 0 Axes>"
      ]
     },
     "metadata": {},
     "output_type": "display_data"
    }
   ],
   "source": [
    "fig2 = figure()\n",
    "tval3 = linspace(0, pi/4, 100)\n",
    "\n",
    "xt = lambdify(t, x_t.rhs.subs({r:0.001, m:9.3e-4, g:G, x0:0, y0:2, v0:274, dx0:v0*cos(theta), dy0:v0*sin(theta)}))\n",
    "yt = lambdify(t, y_t.rhs.subs({r:0.001, m:9.3e-4, g:G, y0:2, v0:274, dy0:v0*sin(theta)}))\n",
    "\n",
    "axis = ([xt(0), yt(0), xt(Te), yt(Te)])\n",
    "partialcurve = plot(xt, yt, \"-r\", [], [], \"*y\")\n",
    "\n",
    "def update(tval3):\n",
    "    partialcurve[1].set_data([xt(tval3)], [yt(tval3)])\n",
    "\n",
    "anim = FuncAnimation(fig2, update, frames=tval3)\n",
    "HTML(anim.to_html5_video())"
   ]
  }
 ],
 "metadata": {
  "kernelspec": {
   "display_name": "Python 3 (ipykernel)",
   "language": "python",
   "name": "python3"
  },
  "language_info": {
   "codemirror_mode": {
    "name": "ipython",
    "version": 3
   },
   "file_extension": ".py",
   "mimetype": "text/x-python",
   "name": "python",
   "nbconvert_exporter": "python",
   "pygments_lexer": "ipython3",
   "version": "3.9.7"
  }
 },
 "nbformat": 4,
 "nbformat_minor": 5
}
