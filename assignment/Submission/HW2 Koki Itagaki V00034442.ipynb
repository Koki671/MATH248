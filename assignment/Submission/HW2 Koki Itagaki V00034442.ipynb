{
 "cells": [
  {
   "cell_type": "markdown",
   "metadata": {},
   "source": [
    "# MATH 248 HW #2\n",
    "\n",
    "**Due Monday Oct 3 at midnight on BrightSpace**. Please submit a Jupyter notebook or a Python script.\n",
    "\n",
    "Susceptible-Infectious-Susceptible epidemic mode: consider a disease spread in a population of individuals, without births, deaths, and migrations. Let $S_n$ and $I_n$ be the number of susceptible and infectious individuals on day $n$. The total population $N=S_n+I_n$ remains constant. A susceptible individual has a probability $1-e^{-\\beta I_n/N}$ to be infected and become infectious on day $n$, where $\\beta$ is the transmission rate. An infectious individual recovers with a probability $\\gamma$ on each day, and becomes susceptible upon recovery without gaining immunity. Thus, the change in $I_n$ can be modeled as\n",
    "$$\n",
    "I_{n+1} - I_n = S_n \\left(1-e^{-\\beta I_n/N}\\right) - \\gamma I_n =(N - I_n) \\left(1-e^{-\\beta I_n/N}\\right) - \\gamma I_n\n",
    "$$\n",
    "\n",
    "1. (10 points) Write a function SIS to compute the solution of the above model with an initial condition $I_0$, the parameters values $\\beta$, $\\gamma$ and $N$, for a period of time $T$. \n",
    "  * Arguments:\n",
    "     * T: the last time point\n",
    "     * I0: the initial number of infectious individuals\n",
    "     * beta: the transmission rate\n",
    "     * gamma: the recovery rate\n",
    "     * N: the total population\n",
    "  * Return value: an array of length $T+1$, holding $I_0$, $I_1$, ..., $I_T$.\n",
    "\n",
    "2. (10 points) This model has a unique nonnegative attactor, which is a fixed point. This fixed point changes as the transmission rate $\\beta$ changes. Make a plot showing how the fixed point changes with beta, for $N=2000$, $\\gamma=0.25$, and $\\beta$ values of $0.20$, $0.21$, $0.22$, ..., $1$.\n",
    "\n",
    "\n",
    "3. (10 points) Given an initial condition $I_0=1$, and parameter values $\\gamma=0.25$, $N=2000$, find the $\\beta$ value that maximizes the rate of change of $dI_{10}/d\\beta$.\n",
    "  * Hint: \n",
    "    * This is where $d^2I_{10}/d\\beta^2 = 0$.\n",
    "    * You may use numerical differentiation to approximate the second derivative.\n",
    "    * The answer lies between 1 and 4.\n",
    "  "
   ]
  },
  {
   "cell_type": "code",
   "execution_count": 12,
   "metadata": {},
   "outputs": [
    {
     "data": {
      "text/plain": [
       "range(0, 80)"
      ]
     },
     "execution_count": 12,
     "metadata": {},
     "output_type": "execute_result"
    }
   ],
   "source": [
    "from numpy import zeros\n",
    "from math import exp\n",
    "import numpy as np\n",
    "#from math import epsilon\n",
    "\n",
    "def SIS(times, I0, 𝛽, 𝛾, N):\n",
    "    # create the matrix\n",
    "    V = zeros((len(times), 2))\n",
    "    # the initial condition is the first row \n",
    "    In = I0\n",
    "    V[0] = In \n",
    "\n",
    "    for t in range(1,len(times)+2):\n",
    "        In = I0\n",
    "       \n",
    "        In1= (N-In)(1-exp(-𝛽*In/N)-𝛾*In)\n",
    "        In = In1\n",
    "        V[t] = In\n",
    "        t +=1\n",
    "    return V\n",
    "\n",
    "t# = range(0,80)\n",
    "#V = SIS(t,1,0.58,0.25,2000)\n",
    "#print(V)\n",
    "        \n"
   ]
  },
  {
   "cell_type": "code",
   "execution_count": null,
   "metadata": {},
   "outputs": [],
   "source": [
    "#question 2\n",
    "𝛾 = 0.25\n",
    "N = 2000\n",
    "I0 = 1\n",
    "for 𝛽 in range(0.21,1.01,0.01):  \n",
    "    x1 = (N-I0)(1-exp(-𝛽*I0/N)-𝛾*I0)\n",
    "r = 3.2\n",
    "from numpy import repeat\n",
    "plot(repeat(r, 100), x1[901:1001],'or')"
   ]
  }
 ],
 "metadata": {
  "kernelspec": {
   "display_name": "Python 3 (ipykernel)",
   "language": "python",
   "name": "python3"
  },
  "language_info": {
   "codemirror_mode": {
    "name": "ipython",
    "version": 3
   },
   "file_extension": ".py",
   "mimetype": "text/x-python",
   "name": "python",
   "nbconvert_exporter": "python",
   "pygments_lexer": "ipython3",
   "version": "3.9.7"
  }
 },
 "nbformat": 4,
 "nbformat_minor": 4
}
