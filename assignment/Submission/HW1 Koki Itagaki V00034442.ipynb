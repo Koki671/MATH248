{
 "cells": [
  {
   "cell_type": "markdown",
   "id": "8ff0b843",
   "metadata": {},
   "source": [
    "# Question 1: The Secant Method to Solve a Scalar Equation\n",
    "The Newton's method is an fast method to solve algebraic equations in the form $f(x)=0$. However, it requirs the function $f(x)$ to be differentiable. So, for functions such as $f(x)=|x-e^{-x}|-1$, or functions which dirivative is difficult to calculate, the method cannot be applied. The Secant method can be used instead, as it does not require the derivative information. \n",
    "\n",
    "Unlike the Newton's method using the derivative at an initial guess $x_0$ to approximate the function $f(x)$, the secant method requires two initial guesses $x_0\\neq x_1$, then uses the secant line passing through $(x_0, f(x_0))$ and $(x_1, f(x_1))$ to approximate the function $f(x)$. That is, the zero of the secant line, denoted as $x_2$, is an improved approximation to the root of $f(x)$. The Secant line is\n",
    "$$\n",
    "y-f(x_0) = \\frac{f(x_1)-f(x_0)}{x_1-x_0}(x-x_0),\n",
    "$$\n",
    "The zero is thus (by letting $y=0$)\n",
    "$$\n",
    "x_2 = x_0 - \\frac{f(x_0)}{f(x_1)-f(x_0)}(x_1-x_0)\n",
    "$$\n",
    "\n",
    "Like the Newton's method, this step is repeated by using $x_1$ and $x_2$ as the initial guesses and get $x_3$, etc. We may use one of the following stopping criterions to stop the iterative process.\n",
    "* $|x_1-x_1|<\\varepsilon$ for some predetermined error tolerance $\\varepsilon$\n",
    "* $|f(x_2)|<\\varepsilon$  for some predetermined error tolerance $\\varepsilon$.\n",
    "\n",
    "1. Write an equation solver that solves $f(x)=0$ using the zSecant method. The solver is a function named **secant**, taking the following four arguments\n",
    "  * **f**, which is a function to solve\n",
    "  * **x0**, the first initial guess\n",
    "  * **x1**, the second initial guess\n",
    "  * **epsilon** the error tolerance to stop the iteration if $|f(x_2)|<$epsilon\n",
    "  \n",
    "2. Use the solver that you wrote to solve $f(x)=|x-e^{-x}|-1$, using the initial guesses $x_0=0.5$, $x_1=1$, and $\\varepsilon=10^{-6}$. \n",
    "\n",
    "3. Use the **root_scalar** function provided in **scipy.optimize**, with its **secant** method and the same initial guesses and xtol=1e-6 to solve the same function. Compute the difference between this solution and your solution in part 2."
   ]
  },
  {
   "cell_type": "code",
   "execution_count": 46,
   "id": "355b3edd",
   "metadata": {},
   "outputs": [
    {
     "name": "stdout",
     "output_type": "stream",
     "text": [
      "My answer is for question 2 is  1.3499681422628547\n",
      "My answer for question 3 is 1.2784645427608494\n",
      "the difference between the two solutions is: 0.07150359950200524\n"
     ]
    }
   ],
   "source": [
    "#Import exp function from math library\n",
    "from math import exp\n",
    "\n",
    "#This is method to define f(x)\n",
    "def f(x):\n",
    "    return abs(x-(exp(-x))) -1\n",
    "\n",
    "#Question1\n",
    "#This is a method to use a secant method \n",
    "def secant(f,x0,x1,epsilon):\n",
    "    f_x0 = f(x0)\n",
    "    f_x1 = f(x1)\n",
    "    while abs(f_x1) > epsilon:\n",
    "        deno = float(f_x1 - f_x0)/(x1 - x0)\n",
    "        x2 = x1 - float(f_x1)/ deno\n",
    "        x0 = x1\n",
    "        x1 = x2\n",
    "        f_x0 = f_x1\n",
    "        f_x1 = f(x1)\n",
    "        return x2\n",
    "\n",
    "#Question2\n",
    "solution = secant(f,0.5,1.0,epsilon = 1.0e-6)\n",
    "print(\"My answer is for question 2 is \",solution)\n",
    "\n",
    "#Question 3\n",
    "#import root_scalar function from the scipy.optimaze library\n",
    "from scipy.optimize import root_scalar\n",
    "\n",
    "solution2 = root_scalar(f, x0 = 0.5, x1 = 1, xtol = 1e-6, method = \"secant\")\n",
    "print(\"My answer for question 3 is\", solution2.root)\n",
    "\n",
    "solution3 = float(solution - solution2.root )\n",
    "#Find the difference\n",
    "print(\"the difference between the two solutions is:\", solution3)"
   ]
  },
  {
   "cell_type": "code",
   "execution_count": null,
   "id": "fc2da9fb",
   "metadata": {},
   "outputs": [],
   "source": []
  }
 ],
 "metadata": {
  "kernelspec": {
   "display_name": "Python 3 (ipykernel)",
   "language": "python",
   "name": "python3"
  },
  "language_info": {
   "codemirror_mode": {
    "name": "ipython",
    "version": 3
   },
   "file_extension": ".py",
   "mimetype": "text/x-python",
   "name": "python",
   "nbconvert_exporter": "python",
   "pygments_lexer": "ipython3",
   "version": "3.9.7"
  }
 },
 "nbformat": 4,
 "nbformat_minor": 5
}
