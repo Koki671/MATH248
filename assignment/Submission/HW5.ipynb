{
 "cells": [
  {
   "cell_type": "markdown",
   "metadata": {},
   "source": [
    "# HW #5\n",
    "\n",
    "A rod with a radius profile \n",
    "$$ x^2\\sin^2x+r^2-r^4=0 $$\n",
    "along its axis $x$, for $x\\in[-3,3]$\n",
    "\n",
    "1. (3 points) Symbolically solve the radius $r$ as a function of $x$.\n",
    "  * Hint: Note that you will find two solutions. But one of them is not valid as it is not a real solution for $x\\neq 0$. Rule it out by substituting $x=1$ and check if it is real. A sympy expression has an instance variable named is_real to check if it is real. For example: given $x=\\sqrt{-1}$, then **x.is_real** is **False**.\n",
    "\n",
    "2. (3 points) Define a lambda function for the function $r(x)$ solved in Question 1, and plot the cross section of the rod along the $x$ axis (note this includes four curves, the upper profile $r(x)$, the lower profile $-r(x)$, and the left and right ends as vertical lines)\n",
    "\n",
    "3. (3 points) Calculate the derivative $r'(x)$ symbolically, and numerically find the maximum radius of the rod.\n",
    "  * Hint: Find where $r'(x)=0$. Note that it cannot be solved symbolically. You need to define a lambda function and use **fsolve** or **scalar_root** to solve it. From thge profile, the maximum is near $x=\\pm2$.\n",
    "\n",
    "4. (3 points) Numerically calculate the area of the cross section.\n",
    "\n",
    "5. (3 points) Numerically calculate the momentum of inertia of the rod about the x-axis.\n"
   ]
  },
  {
   "cell_type": "code",
   "execution_count": null,
   "metadata": {},
   "outputs": [],
   "source": []
  }
 ],
 "metadata": {
  "kernelspec": {
   "display_name": "Python 3 (ipykernel)",
   "language": "python",
   "name": "python3"
  },
  "language_info": {
   "codemirror_mode": {
    "name": "ipython",
    "version": 3
   },
   "file_extension": ".py",
   "mimetype": "text/x-python",
   "name": "python",
   "nbconvert_exporter": "python",
   "pygments_lexer": "ipython3",
   "version": "3.9.7"
  }
 },
 "nbformat": 4,
 "nbformat_minor": 4
}
