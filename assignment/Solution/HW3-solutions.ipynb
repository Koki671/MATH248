{
 "cells": [
  {
   "cell_type": "markdown",
   "metadata": {},
   "source": [
    "(10 points) Companian matrix: The polynomial\n",
    "$$\n",
    "a_0+a_1x+a_2x^2+\\dots +a_{n-1}x^{n-1}+x^n\n",
    "$$\n",
    "is the characteristic polynomial of the matrix\n",
    "$$\n",
    "C =\\left[\n",
    "\\begin{array}{c}\n",
    " & 1 & & & \\\\\n",
    " & & 1 & & \\\\\n",
    " & & & \\ddots & \\\\\n",
    " & & & & 1 \\\\\n",
    " -a_0 & -a_1 & -a_2 & \\cdots & -a_{n-1}\n",
    "\\end{array}\n",
    "\\right]\n",
    "$$\n",
    "which is called the companion matrix of the polynomial. Thus, the roots of the polynomials are the eigenvalues of . This allows us to find all roots of a polynomial.\n",
    "\n",
    "1. (15 points) Define a function **roots** that computes all the real roots of a polynomial.  \n",
    "  * this function should take a single argument a, which is an array of the coefficients of the polynomial, a[i] is $a_i$, for $i=0,1,2,\\dots n$.\n",
    "  * This function should return an array of the roots.\n",
    "  * Hint: note that the coefficients $a_n$ is includes, which may not be 1. The companian matrix requires $a_n=1$. So you need to scale the polynomial (by dividing through $a_n$, i.e., $a_i\\gets a_i/a_n$ for $i = 0,1,2,..., n$ \n",
    "\n",
    "2. (5 points) Solve the roots of the polynomial $x^3+2x^2-x-2$.\n",
    "  * Hint: please note the order of the coefficients\n",
    "\n",
    "2. (10 points) Use your function to solve the roots of the cubic funciton that goes through the points $(-1,1)$, $(0,-1)$, $(1,2)$ and $(2,-2)$. \n",
    "\n",
    "### Solution"
   ]
  },
  {
   "cell_type": "code",
   "execution_count": 24,
   "metadata": {},
   "outputs": [],
   "source": [
    "# Q1\n",
    "from numpy.linalg import eig\n",
    "from numpy import zeros, array\n",
    "\n",
    "def roots(a):\n",
    "    n = len(a) - 1\n",
    "    for i in range(n):\n",
    "        a[i] = a[i] / a[n]\n",
    "    C = zeros([n,n])\n",
    "    for i in range(n-1):\n",
    "        C[i, i+1] = 1\n",
    "        C[n-1,i] = -a[i]\n",
    "    C[n-1,n-1] = -a[n-1]\n",
    "    e, P = eig(C)\n",
    "    return e\n"
   ]
  },
  {
   "cell_type": "code",
   "execution_count": 28,
   "metadata": {},
   "outputs": [
    {
     "name": "stdout",
     "output_type": "stream",
     "text": [
      "[-2. -1.  1.]\n"
     ]
    }
   ],
   "source": [
    "# Q2\n",
    "print(roots([-2,-1,2,1]))"
   ]
  },
  {
   "cell_type": "code",
   "execution_count": 29,
   "metadata": {},
   "outputs": [
    {
     "name": "stdout",
     "output_type": "stream",
     "text": [
      "c= [-1.   2.5  2.5 -2. ]\n",
      "x= [ 1.7918706   0.32273459 -0.86460519]\n"
     ]
    }
   ],
   "source": [
    "# Q3\n",
    "\n",
    "from numpy.linalg import solve\n",
    "def poly(x, y):\n",
    "    n = len(x)\n",
    "    A = zeros([n, n])\n",
    "    A[:,0] = 1\n",
    "    for i in range(n):\n",
    "        for j in range(1, n):\n",
    "            A[i, j] = x[i]**j\n",
    "    return solve(A, y)\n",
    "\n",
    "c = poly(array([-1, 0, 1, 2]), array([1, -1, 2, -2]))\n",
    "print(\"c=\", c)\n",
    "x = roots(c)\n",
    "print(\"x=\", x)\n"
   ]
  },
  {
   "cell_type": "code",
   "execution_count": null,
   "metadata": {},
   "outputs": [],
   "source": []
  }
 ],
 "metadata": {
  "kernelspec": {
   "display_name": "Python 3 (ipykernel)",
   "language": "python",
   "name": "python3"
  },
  "language_info": {
   "codemirror_mode": {
    "name": "ipython",
    "version": 3
   },
   "file_extension": ".py",
   "mimetype": "text/x-python",
   "name": "python",
   "nbconvert_exporter": "python",
   "pygments_lexer": "ipython3",
   "version": "3.9.6"
  }
 },
 "nbformat": 4,
 "nbformat_minor": 4
}
