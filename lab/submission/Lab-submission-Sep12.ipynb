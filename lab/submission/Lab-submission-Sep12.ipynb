{
 "cells": [
  {
   "cell_type": "markdown",
   "id": "edc87354",
   "metadata": {},
   "source": [
    "# MATH 248 Lab -- Monday Sep 12\n",
    "\n",
    "Please out the names and student numbers of your group members here: Jie Jin (V00962597)\n",
    "                                                                     Joslyn Zhou (V00929234)\n",
    "                                                                     Koki Itagaki (V00034442)\n"
   ]
  },
  {
   "cell_type": "markdown",
   "id": "eaa4ba10",
   "metadata": {},
   "source": [
    "# Example 1 (variable assignments, quadratic formula)\n",
    "Consider the ellipse\n",
    "\\[\n",
    "x^2+xy+2y^2+2x+2y=1.\n",
    "\\]\n",
    "Find the intersections of the line $y=x$ with the ellipse.\n",
    "\n",
    "**Solution**\n",
    "Since the intersection must satisfy $y=x$, we substitute this into the equation of the ellipse,\n",
    "\\[\n",
    "x^2+x(x)+2(x)^2+2x+2(x)=4x^2+4x=1,\n",
    "\\]\n",
    "i.e., \n",
    "\\[\n",
    "4x^2+4x-1=0\n",
    "\\]\n",
    "\n",
    "The quadratic formula for $ax^2+bx+c=0$ is\n",
    "\\[\n",
    "x = \\frac{-b\\pm\\sqrt{b^2-4ac}{2a}\n",
    "\\]\n",
    "Here $a=4$, $b=4$, and $c=-1$.\n",
    "\n",
    "## The sqrt function\n",
    "This function is in the math package, so we need the following code to import it."
   ]
  },
  {
   "cell_type": "code",
   "execution_count": 2,
   "id": "668e859f",
   "metadata": {},
   "outputs": [],
   "source": [
    "from math import sqrt"
   ]
  },
  {
   "cell_type": "markdown",
   "id": "09fc9964",
   "metadata": {},
   "source": [
    "We first compute $\\delta = \\sqrt{b^2-4ac}$"
   ]
  },
  {
   "cell_type": "code",
   "execution_count": 10,
   "id": "1790155d",
   "metadata": {},
   "outputs": [
    {
     "name": "stdout",
     "output_type": "stream",
     "text": [
      "delta= 8.94427190999916\n"
     ]
    }
   ],
   "source": [
    "# change the Example 1, c = -1 to c = -4\n",
    "a=4\n",
    "b=4\n",
    "c=-4\n",
    "\n",
    "# compute the quadratic\n",
    "delta = sqrt(b**2-4*a*c)\n",
    "print(\"delta=\", delta)"
   ]
  },
  {
   "cell_type": "code",
   "execution_count": 11,
   "id": "fd56aef9",
   "metadata": {},
   "outputs": [
    {
     "name": "stdout",
     "output_type": "stream",
     "text": [
      "x1= 0.6180339887498949 x2= -1.618033988749895\n"
     ]
    }
   ],
   "source": [
    "x1 = (-b+delta)/(2*a)\n",
    "x2 = (-b-delta)/(2*a)\n",
    "print(\"x1=\", x1, \"x2=\", x2)"
   ]
  },
  {
   "cell_type": "markdown",
   "id": "739ea1e7",
   "metadata": {},
   "source": [
    "## Rounding error\n",
    "\n",
    "This simple example exibits an rounding error. Compute $x_1+x_2$ theoretically, and compare it with the numerical sum value.\n",
    "\n",
    "\\[\n",
    "x_1 + x_2 =\\frac{-2b}{2a}=-\\frac{b}{a}=\\frac{4}{4}=-1.\n",
    "\\]"
   ]
  },
  {
   "cell_type": "code",
   "execution_count": 12,
   "id": "52f06ac7",
   "metadata": {},
   "outputs": [
    {
     "name": "stdout",
     "output_type": "stream",
     "text": [
      "x1+x2= -1.0\n"
     ]
    }
   ],
   "source": [
    "print(\"x1+x2=\", x1+x2)"
   ]
  },
  {
   "cell_type": "markdown",
   "id": "bc9becb3",
   "metadata": {},
   "source": [
    "You see that the values of the variables from the previous cells carry over to the following cells.\n",
    "\n",
    "# Group assignment\n",
    "\n",
    "Please finish the following example in a group, and then\n",
    "1. rename it to \"Lab-submission-Sep12\"\n",
    "2. download the notebook, and upload it to BrightSpace. Each group only need a single submission. But please make sure that all group members have their name and student ID on the submission.\n",
    "\n",
    "This assignment is marked by effort, not by correctness.\n",
    "\n",
    "## Problem\n",
    "1. What are the intersections of the horizontal line $y=1$ with the ellipse?\n",
    "2. What are their distance to the origin $(0, 0)$?"
   ]
  },
  {
   "cell_type": "code",
   "execution_count": 19,
   "id": "be562aaf",
   "metadata": {},
   "outputs": [
    {
     "name": "stdout",
     "output_type": "stream",
     "text": [
      "delta= 3.0\n"
     ]
    }
   ],
   "source": [
    "# chage y = x to y = 1\n",
    "a = 1\n",
    "b = 3\n",
    "c = 0\n",
    "\n",
    "# compute the quadratic\n",
    "delta = sqrt(b**2-4*a*c)\n",
    "print(\"delta=\", delta)"
   ]
  },
  {
   "cell_type": "code",
   "execution_count": 20,
   "id": "e9260404",
   "metadata": {},
   "outputs": [
    {
     "name": "stdout",
     "output_type": "stream",
     "text": [
      "x1= 0.0 x2= -3.0\n"
     ]
    }
   ],
   "source": [
    "# Question 1\n",
    "x1 = (-b+delta)/(2*a)\n",
    "x2 = (-b-delta)/(2*a)\n",
    "print(\"x1=\", x1, \"x2=\", x2)"
   ]
  },
  {
   "cell_type": "code",
   "execution_count": 21,
   "id": "e51d7d06",
   "metadata": {},
   "outputs": [
    {
     "name": "stdout",
     "output_type": "stream",
     "text": [
      "3.0\n"
     ]
    }
   ],
   "source": [
    "# Question 2\n",
    "# the vaule of distance to the origin (0,0)\n",
    "dist = sqrt(x1**2+x2**2)\n",
    "print(dist)"
   ]
  },
  {
   "cell_type": "code",
   "execution_count": null,
   "id": "2929dd30",
   "metadata": {},
   "outputs": [],
   "source": []
  }
 ],
 "metadata": {
  "kernelspec": {
   "display_name": "Python 3 (ipykernel)",
   "language": "python",
   "name": "python3"
  },
  "language_info": {
   "codemirror_mode": {
    "name": "ipython",
    "version": 3
   },
   "file_extension": ".py",
   "mimetype": "text/x-python",
   "name": "python",
   "nbconvert_exporter": "python",
   "pygments_lexer": "ipython3",
   "version": "3.9.7"
  }
 },
 "nbformat": 4,
 "nbformat_minor": 5
}
