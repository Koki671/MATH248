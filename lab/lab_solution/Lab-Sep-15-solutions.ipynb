{
 "cells": [
  {
   "cell_type": "markdown",
   "metadata": {},
   "source": [
    "# Review\n",
    "\n",
    "## Functions in Python\n",
    "```Python\n",
    "def function_name(arguments):\n",
    "    body\n",
    "```\n",
    "* **function_name**: follows the same rule as variable names\n",
    "* **Arguments**: comma separated variable anmes\n",
    "* **body**: a list of arguments, with the same indentation\n",
    "  * **return** statement: followed by a value as the function value.\n",
    "    * terminates the execution of the function\n",
    "    * return the value \n",
    "    \n",
    "## Example:\n",
    "Define two functions: $f(x)=\\cos x - x$, and its derivative $d'(x)=-\\sin x-1$"
   ]
  },
  {
   "cell_type": "code",
   "execution_count": null,
   "metadata": {},
   "outputs": [],
   "source": [
    "# we need sin and cos from the math module\n",
    "from math import sin, cos\n",
    "\n",
    "def f(x):\n",
    "    return cos(x) - x\n",
    "\n",
    "# f'(x): but \"'\" is not a valid character in function name, so we used df\n",
    "def df(x):\n",
    "    return -sin(x) - 1\n",
    "\n",
    "print(\"f(1) =\", f(1), \", df(1)=\", df(1))"
   ]
  },
  {
   "cell_type": "markdown",
   "metadata": {},
   "source": [
    "# Equation Solver\n",
    "* We have learned the fsolve function in `scipy.optimize` package. \n",
    "* Today, we look at another solver, `root_scalar`, in teh same package "
   ]
  },
  {
   "cell_type": "code",
   "execution_count": null,
   "metadata": {},
   "outputs": [],
   "source": [
    "from scipy.optimize import root_scalar\n",
    "help(root_scalar)"
   ]
  },
  {
   "cell_type": "markdown",
   "metadata": {},
   "source": [
    "## Important arguments\n",
    "* **f**: the function to find the root\n",
    "* **method**: the method to find the root, we have learned bisect (bisection) and newton.\n",
    "  * bisect: this method also needs\n",
    "    * **bracket**: the end points of an interval, in the form of `[start, end]`\n",
    "  * newton: this method also needs\n",
    "    * **fprime**: the derivative of the function f\n",
    "    * **x0**: the initial guess"
   ]
  },
  {
   "cell_type": "code",
   "execution_count": null,
   "metadata": {},
   "outputs": [],
   "source": [
    "# please note the two methods of passing arguments\n",
    "# f is passed as the positional argument\n",
    "# fprime and x0 are passed as keyward arguments\n",
    "# fprime and x0 must follow all positional arguments, \n",
    "# but the order of fprime and x0 does not matter.\n",
    "x = root_scalar(f, fprime=df, x0=1)\n",
    "print(x)\n",
    "\n",
    "# the root is in x.root\n",
    "print(\"cos(\", x.root, \") = \", cos(x.root))"
   ]
  },
  {
   "cell_type": "markdown",
   "metadata": {},
   "source": [
    "## Group Assignment\n",
    "\n",
    "A spherical container with a  radius $r=10$ centimeters contains one liter water (1000 cubic centimeters) of water. What is the depth $h$ of the water? \n",
    "  1. Solve $h$ using the root_scalar function and the Newton's method\n",
    "  2. Solve $h$ using the root_scalar function and the bisection method\n",
    "  3. Compare the number of iterations needed for these two methods.\n",
    "\n",
    "**hint**: the volume of the water is $\\displaystyle V=\\frac{1}{3}\\pi h^2(3r-h)$\n",
    "\n",
    "## Solution\n",
    "We solve $\\displaystyle V=\\frac{1}{3}\\pi h^2(3r-h)=1000$ with $r=10$, i.e.,\n",
    "$$f(x)=\\frac{1}{3}\\pi h^2(3r-h)-1000=0$$\n",
    "$$f'(x) = 2\\pi hr - \\pi h^2$$\n",
    "\n",
    "To use the bisection methid, note that $0<h<2r$"
   ]
  },
  {
   "cell_type": "code",
   "execution_count": 8,
   "metadata": {},
   "outputs": [
    {
     "name": "stdout",
     "output_type": "stream",
     "text": [
      "Newton's method:       converged: True\n",
      "           flag: 'converged'\n",
      " function_calls: 9\n",
      "     iterations: 4\n",
      "           root: 6.355008062620668\n",
      "bisection's method:       converged: True\n",
      "           flag: 'converged'\n",
      " function_calls: 46\n",
      "     iterations: 44\n",
      "           root: 6.3550080626203\n"
     ]
    }
   ],
   "source": [
    "from math import pi\n",
    "from scipy.optimize import root_scalar\n",
    "r = 10\n",
    "\n",
    "def f(h):\n",
    "    return pi * h**2 * (3*r - h) / 3 - 1000\n",
    "\n",
    "# the derivative\n",
    "def df(h):\n",
    "    return 2*pi*h*r - pi * h**2\n",
    "\n",
    "print(\"Newton's method:\", root_scalar(f, fprime=df, x0=10, method=\"newton\"))\n",
    "print(\"bisection's method:\", root_scalar(f, bracket=[0,2*r], method=\"bisect\"))"
   ]
  },
  {
   "cell_type": "markdown",
   "metadata": {},
   "source": [
    "The Newton's method needs 4 iterations to converge, while the bisection method needs 44 iterations."
   ]
  },
  {
   "cell_type": "code",
   "execution_count": null,
   "metadata": {},
   "outputs": [],
   "source": []
  }
 ],
 "metadata": {
  "kernelspec": {
   "display_name": "Python 3 (ipykernel)",
   "language": "python",
   "name": "python3"
  },
  "language_info": {
   "codemirror_mode": {
    "name": "ipython",
    "version": 3
   },
   "file_extension": ".py",
   "mimetype": "text/x-python",
   "name": "python",
   "nbconvert_exporter": "python",
   "pygments_lexer": "ipython3",
   "version": "3.9.7"
  }
 },
 "nbformat": 4,
 "nbformat_minor": 4
}
