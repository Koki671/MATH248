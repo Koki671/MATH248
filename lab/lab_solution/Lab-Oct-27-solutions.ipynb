{
 "cells": [
  {
   "cell_type": "markdown",
   "metadata": {},
   "source": [
    "# Lab Thursday October 27\n",
    "\n",
    "Please put the name and student ID of each group member here:\n"
   ]
  },
  {
   "cell_type": "markdown",
   "metadata": {},
   "source": [
    "# Review\n",
    "\n",
    "## Generating random functions using numpy.radom package\n",
    "\n",
    "### Uniform random numbers\n",
    "* `random()` generates a single random number in the interval $[0,1)$\n",
    "* `random(n)` generates n random numbers in the interval $[0,1)$\n",
    "* `rand(m,n)` generates an $m\\times n$ matrix of random numbers in $[0,1)$\n",
    "\n",
    "### Normal random numbers\n",
    "* `normal(loc=0, scale=1)` draws a normal random number with a mean **loc** and a standard deviation **scale**\n",
    "* `normal(loc, scale, size=n)` draws an array of n normal random numbers\n",
    "* `normal(loc, scale, size=[m,n])` draws an $m\\times n$ matrix of normal random numbers\n",
    "\n",
    "### Binomial random numbers\n",
    "* `binomial(n, p)` draw a single binomial random number with n trials and a success probability  𝑝 \n",
    "* `binomial(n, p, size)` draws size binomial random numbers and return as an array\n",
    "* `binomial(n, p, [m,n])` fills an  𝑚×𝑛  matrix of with binomial random numbers"
   ]
  },
  {
   "cell_type": "code",
   "execution_count": 12,
   "metadata": {
    "scrolled": true
   },
   "outputs": [
    {
     "name": "stdout",
     "output_type": "stream",
     "text": [
      "0.6094680432554669\n",
      "[0.96279887 0.02132688 0.23950574 0.65104884 0.1968413  0.05149934\n",
      " 0.43037934 0.09915026 0.30739683 0.8362458 ]\n",
      "[[0.15032306 0.69152432]\n",
      " [0.79225532 0.16811758]\n",
      " [0.89364466 0.64379792]]\n",
      "[[-2.36491974 -0.50042285]\n",
      " [-0.29680557 -0.72194533]\n",
      " [-1.81953954 -1.44998089]]\n",
      "[6 6 4 7 5 6 4 6 7 5]\n"
     ]
    }
   ],
   "source": [
    "from numpy.random import random, rand, normal, binomial\n",
    "print(random())\n",
    "\n",
    "# generate 10 random numbers\n",
    "print(random(10))\n",
    "\n",
    "#generate a 10x2 random matrix\n",
    "X = rand(3, 2)\n",
    "print(X)\n",
    "\n",
    "N = normal(0, 1, size=[3,2])\n",
    "print(N)\n",
    "\n",
    "B = binomial(10, 0.5, size=10)\n",
    "print(B)"
   ]
  },
  {
   "cell_type": "markdown",
   "metadata": {},
   "source": [
    "# Brownian motion (diffusion)\n",
    "Let $B_t$ a continuous random variable for each time $t$,\n",
    "$$B_{t_2}-B_{t_1}\\sim\\text{Normal}(0, (t_2-t_1)\\sigma^2):=X_i$$\n",
    "where $\\sigma$ is called the volitility, and $B_0$ is the initial position.\n",
    "\n",
    "This stochastic process is called the Brownnian motion. \n",
    "* It is typilcally used to model random motion of a particle, the diffusion process, or random movement of animals. \n",
    "$$\n",
    "B_t = B_{t_0} + (B_{t_1} - B_{t_0}) + (B_{t_2}-B_{t_1}) + \\dots=B_0 + X_1 + X_2 + \\dots\n",
    "$$\n",
    "\n",
    "\n",
    "## Simulate a Brownian motion\n",
    "We can simulate the Brownian motion at discrete time points $t_0$, $t_1$, ..., $t_n$.\n",
    "  * for simplicity, these time points can be equally spaced, i.e., $t_{i+1}-t_{i}=h$\n",
    "  * By definition, $\\{B_{t_i}\\}_{i=0^n}$ is a cumulative sum of $n$ normal random variables with mean $0$ and variance $h\\sigma^2$\n"
   ]
  },
  {
   "cell_type": "code",
   "execution_count": 2,
   "metadata": {},
   "outputs": [],
   "source": [
    "from numpy import zeros, cumsum, diff, sqrt\n",
    "# t is an array of time points, B0=B(t[0])\n",
    "def Brownian(t, sigma, B0):\n",
    "    n = len(t)\n",
    "    N = zeros(n)\n",
    "    # compute the time steps t[1]-t[0], t[2]-t[1], ...\n",
    "    dt = diff(t)\n",
    "    # initial position\n",
    "    N[0] = B0\n",
    "    # the increments, i.e., the step sizes\n",
    "    N[1:n] = normal(0, sigma*sqrt(dt), n-1)\n",
    "    return cumsum(N)\n"
   ]
  },
  {
   "cell_type": "markdown",
   "metadata": {},
   "source": [
    "# Example 1: Simulate a stock price\n",
    "let $S_t$ be the price of a stock at time $t$, then $\\ln S_t$ can be modeled as a Brownian motion\n",
    "* That is, we can simulation a Brownian motion $B_t$, then $S_t=S_0e^{B_t}$ "
   ]
  },
  {
   "cell_type": "code",
   "execution_count": 3,
   "metadata": {
    "scrolled": true
   },
   "outputs": [
    {
     "data": {
      "text/plain": [
       "[<matplotlib.lines.Line2D at 0x7f074fe60070>]"
      ]
     },
     "execution_count": 3,
     "metadata": {},
     "output_type": "execute_result"
    },
    {
     "data": {
      "image/png": "[encoded data removed]",
      "text/plain": [
       "<Figure size 432x288 with 1 Axes>"
      ]
     },
     "metadata": {
      "needs_background": "light"
     },
     "output_type": "display_data"
    }
   ],
   "source": [
    "from numpy import exp, linspace\n",
    "S0 = 10\n",
    "t = linspace(0, 100, 101)\n",
    "S = exp(Brownian(t, 0.01, 0))*S0\n",
    "from matplotlib.pyplot import plot\n",
    "plot(t, S)"
   ]
  },
  {
   "cell_type": "markdown",
   "metadata": {},
   "source": [
    "# Example 2: Simulate an SIS epidemic\n",
    "\n",
    "Suppose a disease does not convey immunity. An infectious individual becomes susceptible immediately after recovery. Let \n",
    "* $S(t)$ and $I(t)$ be the number of susceptible and infectious individuals\n",
    "* N=S(t)+I(t) is the total population.\n",
    "\n",
    "On each day\n",
    "* a susceptible individual is infected with probability $p=1-e^{-\\beta I(t)/N}$\n",
    "  * Thus the total number of new infections on day $t$ is\n",
    "  $$ X(t) \\sim Binomial(S(t), p)$$\n",
    "* an infectious individual recovers with  probability $\\gamma$ on each day.\n",
    "  * Thus the total number of recovery on day $t$ is\n",
    "  $$ Y(t) \\sim Binomial(I(t), \\gamma)$$\n",
    "\\begin{align*}\n",
    "S(t+1)-S(t) & = - X(t) + Y(t)\\\\\n",
    "I(t+1) - I(t) = X(t)- Y(t)\n",
    "\\end{align*}\n",
    "\n",
    "Because the total population $N$ is a constant, we only need to calculate $I(t)$, and $S(t)=N-I(t)$. We return the new infections X(t) in each day."
   ]
  },
  {
   "cell_type": "code",
   "execution_count": 18,
   "metadata": {},
   "outputs": [
    {
     "data": {
      "text/plain": [
       "[<matplotlib.lines.Line2D at 0x7f0794be5640>]"
      ]
     },
     "execution_count": 18,
     "metadata": {},
     "output_type": "execute_result"
    },
    {
     "data": {
      "image/png": "[encoded data removed]",
      "text/plain": [
       "<Figure size 432x288 with 1 Axes>"
      ]
     },
     "metadata": {
      "needs_background": "light"
     },
     "output_type": "display_data"
    }
   ],
   "source": [
    "# Parameters\n",
    "# T: the number of days to simulate\n",
    "# I0: the initial number of infectious individuals I(0)\n",
    "# beta: transmission rate\n",
    "# gamma: recovery rate\n",
    "# N: total population\n",
    "def SIS(T, I0, beta, gamma, N):\n",
    "    X = zeros(T)\n",
    "    I = I0\n",
    "    S = N - I\n",
    "    for t in range(T):\n",
    "        X[t] = binomial(S, 1-exp(-beta*I/N))\n",
    "        Y = binomial(I, gamma)\n",
    "        I = I + X[t] - Y\n",
    "    return X\n",
    "\n",
    "from numpy import arange\n",
    "X = SIS(100, 10, 0.4, 0.2, 1000)\n",
    "plot(arange(0, 100), X)"
   ]
  },
  {
   "cell_type": "markdown",
   "metadata": {},
   "source": [
    "# Group Assignments\n",
    "\n",
    "## Question 1. Two Dimensional Brownian Motion\n",
    "\n",
    "To simulate a 2-dimensional brownian motion, at time $t_i$, we randomly choose a direction $\\theta\\sim$Uniform$(0,2\\pi)$, and move in that direction with a random step size $r\\sim$Normal$(0,h\\sigma^2)$ "
   ]
  },
  {
   "cell_type": "code",
   "execution_count": 5,
   "metadata": {
    "scrolled": true
   },
   "outputs": [
    {
     "data": {
      "text/plain": [
       "[<matplotlib.lines.Line2D at 0x7f0747d68ac0>]"
      ]
     },
     "execution_count": 5,
     "metadata": {},
     "output_type": "execute_result"
    },
    {
     "data": {
      "image/png": "[encoded data removed]",
      "text/plain": [
       "<Figure size 432x288 with 1 Axes>"
      ]
     },
     "metadata": {
      "needs_background": "light"
     },
     "output_type": "display_data"
    }
   ],
   "source": [
    "from math import pi\n",
    "from numpy import sin, cos, array\n",
    "from numpy.random import random\n",
    "\n",
    "def Brownian2d(t, sigma, B0 = array([0, 0])):\n",
    "    n = len(t)\n",
    "    dt = diff(t)\n",
    "    B = zeros([n,2])\n",
    "    B[0,:] = B0\n",
    "    r = normal(0, sigma*sqrt(dt), n-1)\n",
    "    theta = random(n-1)*2*pi\n",
    "    for i in range(1, n):\n",
    "        B[i,0] = B[i-1,0] + r[i-1]*cos(theta[i-1]) \n",
    "        B[i,1] = B[i-1,1] + r[i-1]*sin(theta[i-1]) \n",
    "    return B\n",
    "\n",
    "B = Brownian2d(t, 1)\n",
    "plot(B[:,0], B[:,1])"
   ]
  },
  {
   "cell_type": "markdown",
   "metadata": {},
   "source": [
    "# Question 2\n",
    "Let $N(t)$ be the size of a bacteria population on day $t$. On each day, an individual divides into two with probability $b$, and survives to the next day with a probability \n",
    "$$ d = se^{-aN(t)}\\right$$\n",
    "\n",
    "Suppose $N(0)=100$, $b=0.5$, $s=0.8$, $a=0.01$. Simulate the population dynamics for 100 days, plot the population size $N(t)$ as a function of time $t$."
   ]
  },
  {
   "cell_type": "code",
   "execution_count": 21,
   "metadata": {},
   "outputs": [
    {
     "data": {
      "text/plain": [
       "[<matplotlib.lines.Line2D at 0x7f0794b4c730>]"
      ]
     },
     "execution_count": 21,
     "metadata": {},
     "output_type": "execute_result"
    },
    {
     "data": {
      "image/png": "[encoded data removed]",
      "text/plain": [
       "<Figure size 432x288 with 1 Axes>"
      ]
     },
     "metadata": {
      "needs_background": "light"
     },
     "output_type": "display_data"
    }
   ],
   "source": [
    "T = 100\n",
    "N0 = 100\n",
    "b = 0.5\n",
    "s = 0.8\n",
    "a = 0.01\n",
    "\n",
    "N = zeros(T+1)\n",
    "N[0] = N0\n",
    "for t in range(T):\n",
    "    d = s * exp(-a*N[t])\n",
    "    N[t+1] = binomial(N[t], b) + binomial(N[t], d)\n",
    "\n",
    "from numpy import arange\n",
    "plot(arange(0, T+1), N)"
   ]
  },
  {
   "cell_type": "code",
   "execution_count": 6,
   "metadata": {
    "scrolled": false
   },
   "outputs": [
    {
     "data": {
      "image/png": "[encoded data removed]",
      "text/plain": [
       "<Figure size 432x288 with 1 Axes>"
      ]
     },
     "metadata": {
      "needs_background": "light"
     },
     "output_type": "display_data"
    }
   ],
   "source": [
    "from matplotlib.animation import FuncAnimation\n",
    "from matplotlib.pyplot import subplots\n",
    "from numpy import linspace, sin, cos\n",
    "from math import pi\n",
    "\n",
    "# create a plot to animate, ax is the axis object\n",
    "fig, ax =subplots()\n",
    "\n",
    "# set the limits of the axes\n",
    "ax.set_xlim([-1,1])\n",
    "ax.set_ylim([-1,1])\n",
    "ax.set_aspect(1)\n",
    "\n",
    "# these two lines define a function circle that produces the xand y coordinates of points on a circle\n",
    "# centered xc and yc, with a radius r\n",
    "theta = linspace(0, 2*pi, 100)\n",
    "circle = lambda xc, yc, r: [r*cos(theta)+xc,r*sin(theta)+yc]\n",
    "\n",
    "def update(frame):\n",
    "    # generate two uniform random numbers between 0 and 1, multiple by two than subtract 1.\n",
    "    # this converts the uniform random numbers to a number between -1 and 1.\n",
    "    xc, yc = 2*random(2)-1\n",
    "    x, y = circle(xc, yc, 0.01)\n",
    "    ax.plot(x, y, '-b')\n",
    "\n",
    "anim = FuncAnimation(fig, update, frames=range(0, 20))\n"
   ]
  },
  {
   "cell_type": "code",
   "execution_count": 7,
   "metadata": {},
   "outputs": [
    {
     "data": {
      "text/html": [
       "<video width=\"432\" height=\"288\" controls autoplay loop>\n",
       "  <source type=\"video/mp4\" src=\"data:video/mp4;base64,AAAAHGZ0eXBNNFYgAAACAGlzb21pc28yYXZjMQAAAAhmcmVlAAAYGW1kYXQAAAKtBgX//6ncRem9\n",
       "5tlIt5Ys2CDZI+7veDI2NCAtIGNvcmUgMTU1IHIyOTE3IDBhODRkOTggLSBILjI2NC9NUEVHLTQg\n",
       "QVZDIGNvZGVjIC0gQ29weWxlZnQgMjAwMy0yMDE4IC0gaHR0cDovL3d3dy52aWRlb2xhbi5vcmcv\n",
       "eDI2NC5odG1sIC0gb3B0aW9uczogY2FiYWM9MSByZWY9MyBkZWJsb2NrPTE6MDowIGFuYWx5c2U9\n",
       "MHgzOjB4MTEzIG1lPWhleCBzdWJtZT03IHBzeT0xIHBzeV9yZD0xLjAwOjAuMDAgbWl4ZWRfcmVm\n",
       "PTEgbWVfcmFuZ2U9MTYgY2hyb21hX21lPTEgdHJlbGxpcz0xIDh4OGRjdD0xIGNxbT0wIGRlYWR6\n",
       "b25lPTIxLDExIGZhc3RfcHNraXA9MSBjaHJvbWFfcXBfb2Zmc2V0PS0yIHRocmVhZHM9OSBsb29r\n",
       "YWhlYWRfdGhyZWFkcz0xIHNsaWNlZF90aHJlYWRzPTAgbnI9MCBkZWNpbWF0ZT0xIGludGVybGFj\n",
       "ZWQ9MCBibHVyYXlfY29tcGF0PTAgY29uc3RyYWluZWRfaW50cmE9MCBiZnJhbWVzPTMgYl9weXJh\n",
       "bWlkPTIgYl9hZGFwdD0xIGJfYmlhcz0wIGRpcmVjdD0xIHdlaWdodGI9MSBvcGVuX2dvcD0wIHdl\n",
       "aWdodHA9MiBrZXlpbnQ9MjUwIGtleWludF9taW49NSBzY2VuZWN1dD00MCBpbnRyYV9yZWZyZXNo\n",
       "PTAgcmNfbG9va2FoZWFkPTQwIHJjPWNyZiBtYnRyZWU9MSBjcmY9MjMuMCBxY29tcD0wLjYwIHFw\n",
       "bWluPTAgcXBtYXg9NjkgcXBzdGVwPTQgaXBfcmF0aW89MS40MCBhcT0xOjEuMDAAgAAADFZliIQA\n",
       "FP/+98dPwKbo+WbLnUU9ITCK2PpIKL1Y7NAydQAAAwAARMDHEXIl/4PB+YA6Alfr4j+y9FeSuliB\n",
       "HHa/OuQf4X8zK5YIsZUqcighxHxyOZTLo3BQ4UMrgGFqv1H1u5/QT1sRDR05O4BVQZAAI8lAQS9m\n",
       "TfeuCDyEPIskyveuYZ57rKAL907goSBxDlnqKq9eAw8Glx8XYmrbX+GxdmT6rqmsm59u14McfJCk\n",
       "NhWJH050hucRue53ZIwJPTAl2f+CuR+ZMnxZhQj2cuJhYw50UnqPOrdmilRErqAEdW7mxU5mZfou\n",
       "iFe3OYOhL1eIXFG5p5apKdfqdifYZ447M19VIbSaREEKilmKUZ/izK2U0AZ73MwpZTsSz2lgkYce\n",
       "fpM1KBors0I0Ga/MA0h0gcUJjiW9y2wE02//8X84jBdEuKyTfE57XyYB+b32rSeoLhgT9Ckwvv9r\n",
       "9hsw7Q2y7+QbimovR102r1wTFekMvaU8HkF5DEj+j52Fqvfs8qJHYTBX1wtAP7FuDnRkS4mxfZ7k\n",
       "hAzsPtIHGAaCw6ag5lA0APaT1yXO6wctiCp91IsMA0mP8/XpzooRGJt/0KKz4N5ej0pIw3T9V25d\n",
       "fonLgFQiKFXdWpQ4WgX1i20WpWnDriWSSO7zDXIRyFax94ACU52yaN68ZQiE+NWyiv4sM8S9oR9+\n",
       "Q21Q7I5ydFQLbS+R4ce8eIeM5o9EJZBW8VP7YjSGJfYyZ2qiODzUPxEmAB8Jep6DGCqZE044a/7O\n",
       "j2yZe2tCiOhmfUYlMxp6crZr14W8DQVTUUwrooCPyfUvessS7svOQgB2zz9O1Wh3sXRVMxvQjzO+\n",
       "6fO1YFW+AX7FxVnBkG23W8p6DVNsONVKAaT8Z41tRm4rpqeV2QKqU+H58zrc6DGvSZ6XdSjPBfPt\n",
       "3QD+fdP3pwX7gEv8z4emAxabQruVK8dOar0v38SaXcg5Sy9b8X0pcCArNMcsZuvxhiKVSYm20ncI\n",
       "EbnrFdx0JUOWd2LK/dwY7N9DdxO4HJN8yX6l8O9+lZaHG3CxSHJTlmbR6uFBqqeFl0SZmi34wFT2\n",
       "QYcGNgD5EkG5hUGgKS3R4t7w4Mtg3+J7ubd7uNTtIHmJ3ZC6lkBjZMWXcOvoZIJPJBzntGGo7EKP\n",
       "dyAXHTpTUBCHN2cQlpOX5nGYzCuZ9eWN3//ZUEwqU6JTvf+o+Y0aDfrrKwn5hZXGM37aVpqfzK0S\n",
       "50EH4u8f0Y47VOXeAXHU6WtkRqXPm7GtsjPawRR6jfyipUVin11XoAuNvh4q4SM8bRFYQsHc5ida\n",
       "u1HEkrkVH32mDcl4WZRm8gbtXc/K64XuMUZpNwQN4tmQrAB2yu+mSldq9BcJDG24vmydAaRDFIGV\n",
       "8Lzl6dGU6RyRoi+t1y/ZdFKSdE3TcGkFCgIyR3m9yiturWQ5cR9m921rCB/zfgi3n7MKWzn3a82G\n",
       "pJ0Ijl8BbDzY+CX+ETTCMh9TiLEDSv/z8KD8M0Iem22Mbs78xLnM9+MKWdSZDt28eM8YmeARj/ac\n",
       "lid5iIKPDzsSLTpkOcNAv0OoV+EX7S++baf2wbnSmhah722PlXWJmWBOOTgD0UJbfo8OU6F/0cMR\n",
       "3GMdzmjJDjl/2ob2HUoEfC5GRf/GRLrBeNoNeBOlKAfOujA1HszyNsrqP3OmIjN8ckJpLpRlc0G7\n",
       "BW4WSxa7egOW+KLyycvIbMFt1L2eGAayz+lEtQ651f7R2xvjz9zQ1euX2Ea3joNrb+tXlTBtIFUA\n",
       "zRO6L9K3v4D6V94vFwLtisK1maXLq7bWBlZACMlRGiw76OTlOclGR/4AAWz2zFaAnopWUmfEfWwJ\n",
       "jv9owgRln8Mh5qw8X2eRyNKVlnd5glPZDNAUMd/XG0CMzwMhtJ9uQiBSyCh8g9gY/g13wa3qnJJ8\n",
       "f0BfZGy55q/ysO+GvpXxlT/JOriO8vlSmeFK15dJi5poQ9Kitw1M6LzoHVMj1W4IWy7QsF6VZ1nR\n",
       "0OagoPs75uBaH+emrFjWHPNwb5SIkZhmS4HwFJHpSRhun7YYFVaLQ99LvAA3TrtPp3gn+DI8AaRg\n",
       "KWA3FBxaoCO1Kh9a7K/5D4tUjm5i1C4pL3IUB9Ko1A1ZwtnS1/ENwn0W8QpL+LsBbTiHbVnM1618\n",
       "1Y7lG0ych/AWq25oTpQ9ydkguPd0I02MBlzvvFI3bMUpJyy6OZsr9Y5L6EWWVdDXbtYxUdC4g7Jw\n",
       "XXDM37Kafjd98544YX39hUW2Q2LTYBS01b19K5yodkM+kb13jGh1FvA6I+m0Km9EhUzGAZt8erBt\n",
       "CvTyvc/2C9xlLOj7BodkaxYin3OyGabUmWUECwwsbePTzyUDKhj54uAadNZ5it4udG1awPochA/Q\n",
       "XeRZP6nINWLY4/I3yJTVymaMR1FxXgJyWpmzNevVfDkxV5Vw82LxzCJWNODKm8D9H0xLsogoJAY7\n",
       "ny/UWTpECMkzgAcekz8SN8NxrLYP9+k+fd1Oi5lu6pGy162G+1iIzSrMMrenK043g4PYgQhlHrm2\n",
       "r9oRjxi6Holdarnqo/Vd80wUaVHsjMcv3uCOnMyv/h1x3+ZmjoO9mj+h9iAMoYnK71DIqDsVd91G\n",
       "fVw7FU6TTdWJsTzr50ZWZSqsIITt4rlnH8H/OF7keGHqZsnU62SjkFJemLKOhLv921xKNU4w7bWC\n",
       "XkniOdSBlvvAOvf7ih+G2pEd427QSvd573kHPDQ0/jmckOcLxtcshqOeG+boZ3TFQ/iQ4cs8VO6E\n",
       "7GHzmEG5MHh+lJ9WGX6N//ztMn2BwObubojLH8xYJcoVW08sJ5f3OJhrA5/wkkqgVOZa8RLAA+gS\n",
       "HVf9NZtiCbgqjr/mBZ/OPDuxW/OkH+mnsrvfON0ONPS+SjctUNNanTBsQwtkQZC9bLIEabQH+ht/\n",
       "sfJyrTMxAA1DdKG36MobQ7vXlHUGeVRKiRFg87vPQyADFXzh6Ba7rEYyUQIu0bi/St7+A+lUSml5\n",
       "ggKhd1v4FI5SoyRuZquRTcW2PbhQXcaYydBbHkSpThj4aB954pQgZIGqQb7JDXPfGPhiAgKHbEMx\n",
       "e2agV6VDhUG1Rhyo9MEsecoReflqdgtp7pg630XWklsvAY93zy5koVRV9tRHx9LLy2oFQjx9pe2b\n",
       "wA684W972gar1qc+uKl5GScQaoT/iLJybJ46g0mw8rKhPsRURay5DuVvSXAe5JfZCgqcSQCJhaQL\n",
       "eYOJkfJmMD+JpaBUdoVcnJlgEDZMBC8ICaz2sGsELOvBmSdlkptqJzx1nexp9svYBfOoRvHf9moN\n",
       "hSB3pMsj+SY3kMG6LTenOomZyIeNa1lawfI3ayNqj8ZtdKW7zaih9Y3f7DrPBOvyZpsEwbrAMPxR\n",
       "dwTw7qida/7CZyzZLUhuypmy4MixPi3teEjdn+Jz/uXIkV/r0LnRLJb+JmnihSjs7wguC41hPgpA\n",
       "g6XyM0yW4JuG+6+TdMAGnCmScteIE25asPfYSQNlkmnQ9k2eY9esq1g98Y8gnVmBiodwrYURB0h5\n",
       "Sdc/dv3RGq9Vm6USmufZe7+059KVWKICU/zsb+eU695NpbzS6zYCUuNP82msiz5OGu5XeA0FiQBM\n",
       "b5UccDGcTrQkm+u1bzJxqdvA4yujWGzpCgEsPdRk9SHUES7jnwnfsef6JhNlczK3qatK+MTQuvba\n",
       "+RyrG3BiR9e2/DWVheVSN+tm1Pdz8dkbOvI6DzZNQGVIsnguY2HImQJ37E8lJXW9C2X2kmaHR0Op\n",
       "YXpYgp18vqDfkODGyDDK0MprDNjOkDK+cPNXzw3SFJgEwN6sjNEBFcRgkWhYxEqfl+jmoUH5EyWF\n",
       "TvdeR6vZJDXobp0YyUFYTQpSA0k/8PUpdX2ntc2WDjUkyTZcOHI8yjhxFk8TjIpHJ3UmZ6wIc0PT\n",
       "+lb+hwknaQCqCvMvef6zAqTunsZ87d6lYjuSsAlidZpQpfNl32fw9MlDCiezPVHA45lnc9oNwMt1\n",
       "q8GqtPQL8nzgaLy1lFrkK79Ymn+7I4POJHlQIzm3vPSYeDzr+dMNOOMM8jBgKS3WZzMCbTgO+dU3\n",
       "TU7Zk4Bh7MUB/nj0okktIlcXzWcss8sH1TJbTTcAlv1VPV1GQkmelMyUKmlyQKL+ENJcq++8ste9\n",
       "v2l0GSSORmQrb/J0ZzDNaHdiI2+JM5nrXKdSNERoIMYBLmqpTE7stYpi1cjS0e3R/L6p+4v5NnlK\n",
       "J9NPKVGSyMFt/1wAAAMABIADYwAAAqRBmiRsQT/+tSqAHIAlnABVuFJkxReGsaDkVklROcsoz9HL\n",
       "iShu4UzxrU+wKT8jOckCgornfAHEyzeKMin5zDDdQFXhTLa0A/VrLs01AYSXx/hYUUx7O40Qq6ao\n",
       "8+rAMjqwV2Yz8AUDx7EXtXp539DJL4cUJ/R23Eojx0yf76P9BAOcrkXi/v+rh1bIn8pYPqdJKcvz\n",
       "8XSHmgp2wR9vuGg6hSeB4h0otOok+L+ffwQ50XfmZ5By4JsywKTJBouq10NTJxvCt2J+nIz4hUpQ\n",
       "bLgX/z5PZVxLmcZWBmSCAV/iJndabklFQ0yCwTgBQS7OraareQa8sud8GG7U+x0PFsIP/QvxMjHB\n",
       "Uve8E+0cNXI33YRHNMZvMBVEruaRE6Guuil9vWTCE/zCkqf+9z4Nd+ZDBDnNOwZcOmI8Ek385BNc\n",
       "WJvMIiWCfT9nMLKghtqg4K7rbFKs6CCzHOGIrwBIt5zCvF8DK8qJov/PZ/9UQ0akOFOWcC0yuW+f\n",
       "fQzn1s8SqtrgQIbssWUtPBg1sxD5g9nyT6UL/vAoQSaHOVikW6O02dAqYRVkEFqPrSfiIool0GR1\n",
       "H2jkLf4feyJKh2fEzVmBRhYVrqgRVYNBGR3/cXc+ZTnIuiN//LMf4rZyobxdPZQT+i5uQRADZh1u\n",
       "C890g1nayE45YUUIPDtW1cF612e4aawA1xgRPXRp9Kp/Jqw30T2dDemQhKePwFj1mwYDBUfsjOqY\n",
       "4kuhAv8Yl0dC+OCeJzz7d1VxdpQxVRWGCsxYwln6mBPV4TxTeF+L48SjFIuQGql+vAt/nkYoIfHt\n",
       "t0p8Q6rd3Bd/XeQ33BKZN3Q8uQ68GLe/i32hZv+HlUV4dVoaLvSpHsh9kYiTUtUHovzlE3rmv9EZ\n",
       "PmaQ3INjdrGIsu4my2pgAAAAM0GeQniCHwAQ1DtTqI7daX8TJVCHRbM9Ib/f/tzZHO44ptsa1RR1\n",
       "J25oA1GjmisrxUVCAwAAACoBnmF0Q/8AJauSZBTxTWdaeUI/TxVwev96gomTQgvYK7kA4/JmYglW\n",
       "xIAAAAAXAZ5jakP/AAfDsfu2HXS67r3o1L6cyQMAAAE2QZpoSahBaJlMCCf//rUqgAAVwsPDACqZ\n",
       "3fLOx4PRbr9rt3rdfak/Aost0tqZwQl9bcdh4IrGT/fR/om/3a9XPB4gBaroFxvWEZHmUyeb/4yz\n",
       "LROpO1OiwQWVdmK+0V/0PPOPZXOHyZw3+RNFYdYW9o2F959QDHy6R1qEsHGZQuhNfMO4zIMKGNdS\n",
       "hsPvZQXrxjPEs2/FAAfA1IfBrIp0B7Zq5skY67z3+IxJNs0XRLj0C7e7oMkITsPupLeSNmfSQX60\n",
       "lX620nwkItyQVbzdCI27VMLywVB9bIhg+yQ8mfgLmiEUW72vzl/rZ/y3zuXoxyimisWP2pHFzy6b\n",
       "zDgfRlLVgJL7xzq1DM80fT2YucNqwyfObUk/PBhuCfd4lz/WsO8StMt68Hd7kiUKu7ncirIScwBn\n",
       "YwAAAB1BnoZFESwQ/wAAGvofusrfi8lcMb1vUcjlITjQQQAAABcBnqV0Q/8AADtfoRLxEedKnchY\n",
       "Cb52YQAAABQBnqdqQ/8AAAR1pEn/ERKL0ta56AAAATtBmqxJqEFsmUwIJ//+tSqAAGW3EuxI/4VA\n",
       "CMU5WD6ekYi8qC3p28GOTOyMfE/1qjXDXwJu8PCMJd4iMiW/4L/yQKVoCT4QAymWGJVcQRNAI9jm\n",
       "P6Sd6zJetAwKo3pMPJTBITRCZc4FimZtsQMw76zvSUKkyXhw7bJ/xkxeQwhq9c3JHyZyl2C+AIBl\n",
       "VMmIV4utuHMGDxzQUZbwm0MHlcjIkp36WqLoLO8DvOA5/pVXrR///K/4XNYNocoajcco7xaenQn4\n",
       "yvh0IUsakUCvM8Ah6/X9ali+bBP1E57fNHNnfxcsqJnwWaIjgSsDfnRBY4aY9vzHZnAM4jPYMV++\n",
       "zkAH8nbDB3e3VDB3j0wojk470nZnCLtSIgHk6W0G+/Sm7waYQwKkJaUUP9A9We7rJEUST2YbrhWN\n",
       "wUI9q64AAAAeQZ7KRRUsEP8AAHwv7xrRqttt7Tne/W/wTWW1uGBBAAAAFQGe6XRD/wAADifmax7T\n",
       "89Ol5zLiiAAAABcBnutqQ/8AARVpAc72JhF7kSlBQ2WLFgAAAUBBmvBJqEFsmUwIJf/+tSqAArvE\n",
       "/8E+PACxKTkgt+GF+o+MaRyacwcXboaL5YrItNpsO9tJLoKYI0mTdbz88v2Y9xuoXzecSR+k4BBo\n",
       "D4PMIv9vSWxFkD3fv+qH49dKW1MxFixvfx94WIX7+fNCvSaVimVtXCqf+uDHmrH9zTNGE12VpjL+\n",
       "khC2HBcXSQ6h1V6R/BLCRnrEv1mTuo74e6wjB+ot7SHqQzo90XnkcHmUY5ZQ+CqA9ctv2PUKSq3U\n",
       "BP0nKq+EGQoO76Aeuurh3+r0K9Xqzhye0ni3tGNWvXkHSdSEwovnE85PWxX40wlJbdCrDbeGf89U\n",
       "30dWejydEgTCEcPkQ6NeM9NYv+miVS37FZ94LCsnBmICeb3qOaFLEJGooFDGdt6W4kQKjpzrfv72\n",
       "FGoUs9EWBeQU0esLV0kFnwAAACNBnw5FFSwQ/wADX39Y1kIKqBeLMtXBfJyLtN9sLVEcWx1cbwAA\n",
       "ABcBny10Q/8AA0v/gmB6lNVLZqkelJ+3uQAAAB4Bny9qQ/8AB2sIUIGQCQnfmdth9e82afk62fy9\n",
       "HhIAAADIQZszSahBbJlMCH///qmWAAlCFSIATTaqY360unlu0X1aTd7EG0ZKejJyjAko69z/iOp5\n",
       "R/NeqYSJryeCXLsCLzQItsRFwjK9zi5ea+uFnhMwJUiGMDlkCSuoaD1Be6sAmkHredx6tNNkr5Wq\n",
       "tk4eqtr2eDQUQHcDtpcPfZaChWuGChjLxYu337kxS4je9TR58jDV/WbXqWl5dIXyUdbqjydNCOqK\n",
       "0y9Evu5r3R5b0YLBqLBS1aq87gHohnHtqq5WAjJ0uAkRYwYAAAAiQZ9RRRUsEP8AAYfVL3Oa8rcI\n",
       "eiCvRIL6QU/LDE6DjIsuoQAAAB0Bn3JqQ/8AA1/jmorNCKITP6KdVrVjiCHZt+vqYAAABBZtb292\n",
       "AAAAbG12aGQAAAAAAAAAAAAAAAAAAAPoAAAPoAABAAABAAAAAAAAAAAAAAAAAQAAAAAAAAAAAAAA\n",
       "AAAAAAEAAAAAAAAAAAAAAAAAAEAAAAAAAAAAAAAAAAAAAAAAAAAAAAAAAAAAAAAAAAACAAADQHRy\n",
       "YWsAAABcdGtoZAAAAAMAAAAAAAAAAAAAAAEAAAAAAAAPoAAAAAAAAAAAAAAAAAAAAAAAAQAAAAAA\n",
       "AAAAAAAAAAAAAAEAAAAAAAAAAAAAAAAAAEAAAAABsAAAASAAAAAAACRlZHRzAAAAHGVsc3QAAAAA\n",
       "AAAAAQAAD6AAABAAAAEAAAAAArhtZGlhAAAAIG1kaGQAAAAAAAAAAAAAAAAAACgAAACgAFXEAAAA\n",
       "AAAtaGRscgAAAAAAAAAAdmlkZQAAAAAAAAAAAAAAAFZpZGVvSGFuZGxlcgAAAAJjbWluZgAAABR2\n",
       "bWhkAAAAAQAAAAAAAAAAAAAAJGRpbmYAAAAcZHJlZgAAAAAAAAABAAAADHVybCAAAAABAAACI3N0\n",
       "YmwAAACzc3RzZAAAAAAAAAABAAAAo2F2YzEAAAAAAAAAAQAAAAAAAAAAAAAAAAAAAAABsAEgAEgA\n",
       "AABIAAAAAAAAAAEAAAAAAAAAAAAAAAAAAAAAAAAAAAAAAAAAAAAAAAAAAAAY//8AAAAxYXZjQwFk\n",
       "ABX/4QAYZ2QAFazZQbCWhAAAAwAEAAADACg8WLZYAQAGaOvjyyLAAAAAHHV1aWRraEDyXyRPxbo5\n",
       "pRvPAyPzAAAAAAAAABhzdHRzAAAAAAAAAAEAAAAUAAAIAAAAABRzdHNzAAAAAAAAAAEAAAABAAAA\n",
       "qGN0dHMAAAAAAAAAEwAAAAEAABAAAAAAAQAAKAAAAAABAAAQAAAAAAEAAAAAAAAAAQAACAAAAAAB\n",
       "AAAoAAAAAAEAABAAAAAAAQAAAAAAAAABAAAIAAAAAAEAACgAAAAAAQAAEAAAAAABAAAAAAAAAAEA\n",
       "AAgAAAAAAQAAKAAAAAABAAAQAAAAAAEAAAAAAAAAAQAACAAAAAABAAAgAAAAAAIAAAgAAAAAHHN0\n",
       "c2MAAAAAAAAAAQAAAAEAAAAUAAAAAQAAAGRzdHN6AAAAAAAAAAAAAAAUAAAPCwAAAqgAAAA3AAAA\n",
       "LgAAABsAAAE6AAAAIQAAABsAAAAYAAABPwAAACIAAAAZAAAAGwAAAUQAAAAnAAAAGwAAACIAAADM\n",
       "AAAAJgAAACEAAAAUc3RjbwAAAAAAAAABAAAALAAAAGJ1ZHRhAAAAWm1ldGEAAAAAAAAAIWhkbHIA\n",
       "AAAAAAAAAG1kaXJhcHBsAAAAAAAAAAAAAAAALWlsc3QAAAAlqXRvbwAAAB1kYXRhAAAAAQAAAABM\n",
       "YXZmNTguMjkuMTAw\n",
       "\">\n",
       "  Your browser does not support the video tag.\n",
       "</video>"
      ],
      "text/plain": [
       "<IPython.core.display.HTML object>"
      ]
     },
     "execution_count": 7,
     "metadata": {},
     "output_type": "execute_result"
    }
   ],
   "source": [
    "from IPython.display import HTML\n",
    "HTML(anim.to_html5_video())"
   ]
  },
  {
   "cell_type": "code",
   "execution_count": null,
   "metadata": {},
   "outputs": [],
   "source": []
  }
 ],
 "metadata": {
  "kernelspec": {
   "display_name": "Python 3 (ipykernel)",
   "language": "python",
   "name": "python3"
  },
  "language_info": {
   "codemirror_mode": {
    "name": "ipython",
    "version": 3
   },
   "file_extension": ".py",
   "mimetype": "text/x-python",
   "name": "python",
   "nbconvert_exporter": "python",
   "pygments_lexer": "ipython3",
   "version": "3.9.7"
  }
 },
 "nbformat": 4,
 "nbformat_minor": 4
}
