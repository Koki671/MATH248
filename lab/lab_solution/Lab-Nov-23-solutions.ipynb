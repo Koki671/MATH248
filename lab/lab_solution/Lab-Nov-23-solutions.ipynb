{
 "cells": [
  {
   "cell_type": "markdown",
   "metadata": {},
   "source": [
    "# Review\n",
    "\n",
    "## Numerical integration \n",
    "\n",
    "* `I, e = quad(f, a, b)` evaluates $$\\int_a^bf(x)dx$$\n",
    "  * $f(x)$ is the integrand\n",
    "  * $a$ and $b$ are the lower and upper limits, respectively. They must be constants, or functions of $x$\n",
    " \n",
    "\n",
    "\n",
    "# Example\n",
    "\n",
    "Find the area bounded between $y=\\cos x$, $y=x$, and the $x$-axis for $0\\leq x\\leq \\pi/2$\n",
    "\n",
    "First, let us plot the area"
   ]
  },
  {
   "cell_type": "code",
   "execution_count": 10,
   "metadata": {},
   "outputs": [
    {
     "data": {
      "text/plain": [
       "[<matplotlib.lines.Line2D at 0x7f897ecc46a0>,\n",
       " <matplotlib.lines.Line2D at 0x7f897ecc4670>,\n",
       " <matplotlib.lines.Line2D at 0x7f897ecc48b0>]"
      ]
     },
     "execution_count": 10,
     "metadata": {},
     "output_type": "execute_result"
    },
    {
     "data": {
      "image/png": "[encoded data removed]",
      "text/plain": [
       "<Figure size 432x288 with 1 Axes>"
      ]
     },
     "metadata": {
      "needs_background": "light"
     },
     "output_type": "display_data"
    }
   ],
   "source": [
    "from numpy import linspace, pi, cos\n",
    "\n",
    "from matplotlib.pyplot import plot\n",
    "\n",
    "x = linspace(0, pi/2, 100)\n",
    "plot(x, cos(x), \"-r\", x, x, \"-r\", x, x*0, \"-r\")"
   ]
  },
  {
   "cell_type": "markdown",
   "metadata": {},
   "source": [
    "## Method 1\n",
    "We can see that this coorresponds to \n",
    "$$\\int_0^{\\pi/2}\\min\\{x,\\cos x\\}dx$$"
   ]
  },
  {
   "cell_type": "code",
   "execution_count": 19,
   "metadata": {},
   "outputs": [
    {
     "name": "stdout",
     "output_type": "stream",
     "text": [
      "area= 0.5995113875495296\n"
     ]
    }
   ],
   "source": [
    "from scipy.integrate import quad\n",
    "from numpy import min\n",
    "f = lambda x: min([x, cos(x)])\n",
    "A, e = quad(f, 0, pi/2)\n",
    "print(\"area=\", A)"
   ]
  },
  {
   "cell_type": "markdown",
   "metadata": {},
   "source": [
    "## Method 2\n",
    "Alternatively, the area is\n",
    "$$\\int_0^axdx +\\int_a^{\\pi/2} \\cos x dx$$\n",
    "where $a$ is the intersection fo $x$ and $\\cos x$"
   ]
  },
  {
   "cell_type": "code",
   "execution_count": 23,
   "metadata": {},
   "outputs": [
    {
     "name": "stdout",
     "output_type": "stream",
     "text": [
      "a= 0.7390851332151607\n",
      "A= 0.599511387886621\n"
     ]
    }
   ],
   "source": [
    "# solve the intersection a\n",
    "from scipy.optimize import fsolve\n",
    "# note that fsolve returns a vector, depending on the dimension of the function to solve.\n",
    "# here cos(x)-x is 1-dimensional. So we only need the first element.\n",
    "a = fsolve(lambda x:cos(x)-x, 1)[0]\n",
    "print(\"a=\", a)\n",
    "\n",
    "A1, e1 = quad(lambda x: x, 0, a)\n",
    "A2, e2 = quad(cos, a, pi/2)\n",
    "print(\"A=\", A1+A2)"
   ]
  },
  {
   "cell_type": "markdown",
   "metadata": {},
   "source": [
    "Note that we cannot solve this problem using sympy, because we cannot solve the intersection $a$ using sympy."
   ]
  },
  {
   "cell_type": "markdown",
   "metadata": {},
   "source": [
    "# Group assignment\n",
    "\n",
    "Compute the area bounded by the curve $$y^2+y+x^4=1$$\n",
    "\n",
    "* Hint: \n",
    "  * First, solve $y$ as a function of x symbolically\n",
    "  * use lambdify to convert the two solutions as lambda functions\n",
    "  * Figure out which one is larger, \n",
    "  * compute the area using the quad function.\n",
    "  * Note that $-\\sqrt[4]{5/4}\\leq x\\leq \\sqrt[4]{5/4}$"
   ]
  },
  {
   "cell_type": "code",
   "execution_count": 25,
   "metadata": {},
   "outputs": [
    {
     "data": {
      "text/latex": [
       "$\\displaystyle - \\frac{\\sqrt{5 - 4 x^{4}}}{2} - \\frac{1}{2}$"
      ],
      "text/plain": [
       "-sqrt(5 - 4*x**4)/2 - 1/2"
      ]
     },
     "metadata": {},
     "output_type": "display_data"
    },
    {
     "data": {
      "text/latex": [
       "$\\displaystyle \\frac{\\sqrt{5 - 4 x^{4}}}{2} - \\frac{1}{2}$"
      ],
      "text/plain": [
       "sqrt(5 - 4*x**4)/2 - 1/2"
      ]
     },
     "metadata": {},
     "output_type": "display_data"
    }
   ],
   "source": [
    "from sympy import *\n",
    "\n",
    "x, y = symbols(\"x, y\", real=True)\n",
    "eq = y**2+y+x**4-1\n",
    "sol = solve(eq, y)\n",
    "display(sol[0], sol[1])\n",
    "\n"
   ]
  },
  {
   "cell_type": "code",
   "execution_count": 27,
   "metadata": {},
   "outputs": [
    {
     "data": {
      "text/plain": [
       "(4.132981550491895, 9.95610438536687e-09)"
      ]
     },
     "execution_count": 27,
     "metadata": {},
     "output_type": "execute_result"
    }
   ],
   "source": [
    "# sol[0] < sol[1]\n",
    "f = lambdify(x, sol[0])\n",
    "g = lambdify(x, sol[1])\n",
    "\n",
    "quad(lambda x: g(x)-f(x), -sqrt(sqrt(5/4)), sqrt(sqrt(5/4)))"
   ]
  },
  {
   "cell_type": "code",
   "execution_count": null,
   "metadata": {},
   "outputs": [],
   "source": []
  }
 ],
 "metadata": {
  "kernelspec": {
   "display_name": "Python 3 (ipykernel)",
   "language": "python",
   "name": "python3"
  },
  "language_info": {
   "codemirror_mode": {
    "name": "ipython",
    "version": 3
   },
   "file_extension": ".py",
   "mimetype": "text/x-python",
   "name": "python",
   "nbconvert_exporter": "python",
   "pygments_lexer": "ipython3",
   "version": "3.9.7"
  }
 },
 "nbformat": 4,
 "nbformat_minor": 4
}
