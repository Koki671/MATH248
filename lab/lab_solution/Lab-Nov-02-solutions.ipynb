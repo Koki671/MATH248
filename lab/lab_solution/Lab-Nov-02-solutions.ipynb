{
 "cells": [
  {
   "cell_type": "markdown",
   "metadata": {},
   "source": [
    "# Review the `sympy` module\n",
    "\n",
    "The `sympy` module provides facilities for symbolic calculations\n",
    "\n",
    "## Symbol declaration\n",
    "* `symbols` function\n",
    "  * it takes a a string of space or comma separated symbol names\n",
    "  * It returns a list of symbol objects\n",
    "* `Symbol` function declares a single symbol\n",
    "* `sympy.abc` module defines all single letter and greek letter symbols\n",
    "\n",
    "## pretty-display symbols in Jupyter notebooks\n",
    "The `display` function in `IPython.display`\n"
   ]
  },
  {
   "cell_type": "code",
   "execution_count": 1,
   "metadata": {},
   "outputs": [
    {
     "data": {
      "text/latex": [
       "$\\displaystyle x_{1}$"
      ],
      "text/plain": [
       "x1"
      ]
     },
     "metadata": {},
     "output_type": "display_data"
    },
    {
     "data": {
      "text/latex": [
       "$\\displaystyle x_{2}$"
      ],
      "text/plain": [
       "x2"
      ]
     },
     "metadata": {},
     "output_type": "display_data"
    },
    {
     "data": {
      "text/latex": [
       "$\\displaystyle w_{1}$"
      ],
      "text/plain": [
       "w1"
      ]
     },
     "metadata": {},
     "output_type": "display_data"
    },
    {
     "data": {
      "text/latex": [
       "$\\displaystyle \\alpha x + \\beta y + \\gamma z$"
      ],
      "text/plain": [
       "alpha*x + beta*y + gamma*z"
      ]
     },
     "metadata": {},
     "output_type": "display_data"
    }
   ],
   "source": [
    "from sympy import *\n",
    "from sympy.abc import x, y, z, alpha, beta, gamma\n",
    "from IPython.display import display\n",
    "\n",
    "# you should name the variables with the symbol names\n",
    "x1, x2 = symbols(\"x1, x2\")\n",
    "w1 = Symbol(\"w1\")\n",
    "\n",
    "\n",
    "# this is a mathematical expression\n",
    "f = alpha*x+beta*y+gamma*z\n",
    "\n",
    "display(x1, x2, w1, f)\n"
   ]
  },
  {
   "cell_type": "markdown",
   "metadata": {},
   "source": [
    "# Solve an algebraic equation\n",
    "`solve(equation, variable)` solved the equation assuming a specific variable\n",
    "* Equation\n",
    "  * `Eq(a, b)` represents that `a` is equal to `b`\n",
    "  * an expression itself represents that the expressionis equal to 0\n",
    "* Returns a list of solutions\n",
    "\n",
    "# Solve a system of equations\n",
    "* `linsolve(a, b)` solves a system of linear equations\n",
    "* `nonlinsolve(a, b)` solves a system of nonlinear equations\n",
    "* Here **a** is a list of equations, and **b** is a list of variables to solve.\n",
    "* These functions return a set of solutions"
   ]
  },
  {
   "cell_type": "markdown",
   "metadata": {},
   "source": [
    "# Example 1\n",
    "Solve $x$ in $\\alpha x +\\beta y + \\gamma z=0$."
   ]
  },
  {
   "cell_type": "code",
   "execution_count": 2,
   "metadata": {},
   "outputs": [
    {
     "name": "stdout",
     "output_type": "stream",
     "text": [
      "[-(beta*y + gamma*z)/alpha]\n"
     ]
    },
    {
     "data": {
      "text/latex": [
       "$\\displaystyle - \\frac{\\beta y + \\gamma z}{\\alpha}$"
      ],
      "text/plain": [
       "-(beta*y + gamma*z)/alpha"
      ]
     },
     "metadata": {},
     "output_type": "display_data"
    }
   ],
   "source": [
    "# y, z, alpha, beta, gamma are treated as parameters (constants)\n",
    "# this is a mathematical expression\n",
    "f = alpha*x+beta*y+gamma*z\n",
    "\n",
    "X = solve(f, x)\n",
    "print(X) # Here X is a list, containing a single solution.\n",
    "display(X[0])\n"
   ]
  },
  {
   "cell_type": "markdown",
   "metadata": {},
   "source": [
    "# Example 2\n",
    "Solve the linear system\n",
    "\n",
    "\\begin{align*}\n",
    "\\alpha x +\\beta y + \\gamma z &=1\\\\\n",
    "x+y+z & = 0\\\\\n",
    "x - 2y & = 0\n",
    "\\end{align*}"
   ]
  },
  {
   "cell_type": "code",
   "execution_count": 21,
   "metadata": {},
   "outputs": [
    {
     "data": {
      "text/latex": [
       "$\\displaystyle \\left\\{\\left( \\frac{2}{2 \\alpha + \\beta - 3 \\gamma}, \\  \\frac{1}{2 \\alpha + \\beta - 3 \\gamma}, \\  - \\frac{3}{2 \\alpha + \\beta - 3 \\gamma}\\right)\\right\\}$"
      ],
      "text/plain": [
       "{(2/(2*alpha + beta - 3*gamma), 1/(2*alpha + beta - 3*gamma), -3/(2*alpha + beta - 3*gamma))}"
      ]
     },
     "metadata": {},
     "output_type": "display_data"
    },
    {
     "data": {
      "text/latex": [
       "$\\displaystyle \\left( \\frac{2}{2 \\alpha + \\beta - 3 \\gamma}, \\  \\frac{1}{2 \\alpha + \\beta - 3 \\gamma}, \\  - \\frac{3}{2 \\alpha + \\beta - 3 \\gamma}\\right)$"
      ],
      "text/plain": [
       "(2/(2*alpha + beta - 3*gamma), 1/(2*alpha + beta - 3*gamma), -3/(2*alpha + beta - 3*gamma))"
      ]
     },
     "metadata": {},
     "output_type": "display_data"
    },
    {
     "data": {
      "text/latex": [
       "$\\displaystyle \\frac{2}{2 \\alpha + \\beta - 3 \\gamma}$"
      ],
      "text/plain": [
       "2/(2*alpha + beta - 3*gamma)"
      ]
     },
     "metadata": {},
     "output_type": "display_data"
    },
    {
     "data": {
      "text/latex": [
       "$\\displaystyle \\frac{1}{2 \\alpha + \\beta - 3 \\gamma}$"
      ],
      "text/plain": [
       "1/(2*alpha + beta - 3*gamma)"
      ]
     },
     "metadata": {},
     "output_type": "display_data"
    },
    {
     "data": {
      "text/latex": [
       "$\\displaystyle - \\frac{3}{2 \\alpha + \\beta - 3 \\gamma}$"
      ],
      "text/plain": [
       "-3/(2*alpha + beta - 3*gamma)"
      ]
     },
     "metadata": {},
     "output_type": "display_data"
    },
    {
     "data": {
      "text/latex": [
       "$\\displaystyle 1$"
      ],
      "text/plain": [
       "1"
      ]
     },
     "execution_count": 21,
     "metadata": {},
     "output_type": "execute_result"
    }
   ],
   "source": [
    "# solve f = 1, x+y+z=0 and x-2y=0\n",
    "Y = linsolve([Eq(f, 1), x+y+z, x-2*y], (x,y,z))\n",
    "\n",
    "display(Y)\n",
    "# Y is a set of roots, specifically, a FiniteSet object\n",
    "# use its args instance variable to access its elements\n",
    "Y0 = Y.args[0]\n",
    "display(Y0)\n",
    "\n",
    "# Y0 is a tuple, containing values for x, y, and z\n",
    "xx, yy, zz = Y0\n",
    "display(xx, yy, zz)\n",
    "\n",
    "# let us verify the solution\n",
    "# as an illustration, we substitute the olution into the first equation\n",
    "simplify(alpha*xx+beta*yy+gamma*zz)"
   ]
  },
  {
   "cell_type": "markdown",
   "metadata": {},
   "source": [
    "# Group assignment\n",
    "\n",
    "## Question 1\n",
    "\n",
    "In Example 1, there are three equations and three variables, it turns out that we have a unique solution.\n",
    "What is we only have the first two equations, without the last one? Solve the following system for $(x,y,z)$, and examine how the **linsolve** function gives a family of solutions.\n",
    "\n",
    "\\begin{align*}\n",
    "\\alpha x +\\beta y + \\gamma z &=1\\\\\n",
    "x+y+z & = 0\\\\\n",
    "\\end{align*}\n"
   ]
  },
  {
   "cell_type": "code",
   "execution_count": 19,
   "metadata": {},
   "outputs": [
    {
     "data": {
      "text/latex": [
       "$\\displaystyle \\left\\{\\left( \\frac{z \\left(\\beta - \\gamma\\right)}{\\alpha - \\beta} + \\frac{1}{\\alpha - \\beta}, \\  \\frac{z \\left(- \\alpha + \\gamma\\right)}{\\alpha - \\beta} - \\frac{1}{\\alpha - \\beta}, \\  z\\right)\\right\\}$"
      ],
      "text/plain": [
       "{(z*(beta - gamma)/(alpha - beta) + 1/(alpha - beta), z*(-alpha + gamma)/(alpha - beta) - 1/(alpha - beta), z)}"
      ]
     },
     "metadata": {},
     "output_type": "display_data"
    }
   ],
   "source": [
    "Y = linsolve([Eq(alpha*x + beta*y + gamma*z, 1), x+y+z], (x,y,z))\n",
    "\n",
    "display(Y)\n",
    "# Y is a set of roots, specifically, a FiniteSet object\n",
    "# use its args instance variable to access its elements\n",
    "Y0 = Y.args[0]\n"
   ]
  },
  {
   "cell_type": "markdown",
   "metadata": {},
   "source": [
    "## Question 2\n",
    "\n",
    "Solve the nonlinear system for $(x,y)$\n",
    "\n",
    "\\begin{align*}\n",
    "\\alpha x +\\beta y - 1 &= 0\\\\\n",
    "x^2 + y^2 - 1 &= 0\\\\\n",
    "\\end{align*}\n",
    "\n",
    "Note that a straight line intersects with the unit circle at either two points or no point. Can you examine the returned solution and identify the condition that there is no intersection?\n",
    "\n",
    "* Hint: Use the **nonlinsolve** function in sympy, the first argument should be a list of expressions. Surprisingly, using `Eq(alpha*x+beta*y, 1)` may not give the same result as `alpha*x+beta*y-1`\n"
   ]
  },
  {
   "cell_type": "code",
   "execution_count": 27,
   "metadata": {},
   "outputs": [
    {
     "name": "stdout",
     "output_type": "stream",
     "text": [
      "((-(beta*(alpha*sqrt(alpha**2 + beta**2 - 1)/(alpha**2 + beta**2) + beta/(alpha**2 + beta**2)) - 1)/alpha, alpha*sqrt(alpha**2 + beta**2 - 1)/(alpha**2 + beta**2) + beta/(alpha**2 + beta**2)), (-(beta*(-alpha*sqrt(alpha**2 + beta**2 - 1)/(alpha**2 + beta**2) + beta/(alpha**2 + beta**2)) - 1)/alpha, -alpha*sqrt(alpha**2 + beta**2 - 1)/(alpha**2 + beta**2) + beta/(alpha**2 + beta**2)))\n"
     ]
    },
    {
     "data": {
      "text/latex": [
       "$\\displaystyle \\left( - \\frac{\\beta \\left(\\frac{\\alpha \\sqrt{\\alpha^{2} + \\beta^{2} - 1}}{\\alpha^{2} + \\beta^{2}} + \\frac{\\beta}{\\alpha^{2} + \\beta^{2}}\\right) - 1}{\\alpha}, \\  \\frac{\\alpha \\sqrt{\\alpha^{2} + \\beta^{2} - 1}}{\\alpha^{2} + \\beta^{2}} + \\frac{\\beta}{\\alpha^{2} + \\beta^{2}}\\right)$"
      ],
      "text/plain": [
       "(-(beta*(alpha*sqrt(alpha**2 + beta**2 - 1)/(alpha**2 + beta**2) + beta/(alpha**2 + beta**2)) - 1)/alpha, alpha*sqrt(alpha**2 + beta**2 - 1)/(alpha**2 + beta**2) + beta/(alpha**2 + beta**2))"
      ]
     },
     "metadata": {},
     "output_type": "display_data"
    },
    {
     "data": {
      "text/latex": [
       "$\\displaystyle \\left( - \\frac{\\beta \\left(- \\frac{\\alpha \\sqrt{\\alpha^{2} + \\beta^{2} - 1}}{\\alpha^{2} + \\beta^{2}} + \\frac{\\beta}{\\alpha^{2} + \\beta^{2}}\\right) - 1}{\\alpha}, \\  - \\frac{\\alpha \\sqrt{\\alpha^{2} + \\beta^{2} - 1}}{\\alpha^{2} + \\beta^{2}} + \\frac{\\beta}{\\alpha^{2} + \\beta^{2}}\\right)$"
      ],
      "text/plain": [
       "(-(beta*(-alpha*sqrt(alpha**2 + beta**2 - 1)/(alpha**2 + beta**2) + beta/(alpha**2 + beta**2)) - 1)/alpha, -alpha*sqrt(alpha**2 + beta**2 - 1)/(alpha**2 + beta**2) + beta/(alpha**2 + beta**2))"
      ]
     },
     "metadata": {},
     "output_type": "display_data"
    }
   ],
   "source": [
    "sol = nonlinsolve([alpha*x + beta*y-1, x**2+y**2-1], [x, y])\n",
    "print(sol.args)\n",
    "\n",
    "for xy in sol.args:\n",
    "    display(xy)\n"
   ]
  },
  {
   "cell_type": "markdown",
   "metadata": {},
   "source": [
    "The condition for no intersection is that $\\alpha^2+\\beta^2-1<0$"
   ]
  },
  {
   "cell_type": "code",
   "execution_count": null,
   "metadata": {},
   "outputs": [],
   "source": []
  }
 ],
 "metadata": {
  "kernelspec": {
   "display_name": "Python 3 (ipykernel)",
   "language": "python",
   "name": "python3"
  },
  "language_info": {
   "codemirror_mode": {
    "name": "ipython",
    "version": 3
   },
   "file_extension": ".py",
   "mimetype": "text/x-python",
   "name": "python",
   "nbconvert_exporter": "python",
   "pygments_lexer": "ipython3",
   "version": "3.9.7"
  }
 },
 "nbformat": 4,
 "nbformat_minor": 4
}
