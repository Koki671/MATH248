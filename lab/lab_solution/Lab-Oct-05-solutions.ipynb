{
 "cells": [
  {
   "cell_type": "markdown",
   "metadata": {},
   "source": [
    "# Review\n",
    "\n",
    "## Solving linear system $Ax=b$\n",
    "* The `solve` function in `numpy.linalg` package\n",
    "  * `solve(A, b)`\n",
    "  \n",
    "### Example\n",
    "Solve\n",
    "\\begin{align}\n",
    "x+2y-z &=2\\\\\n",
    "2x+y-z & = 2\\\\\n",
    "x+y+z & =3\n",
    "\\end{align}\n",
    "\n",
    "### Define a matrix\n",
    "* We use the **numpy.array** function to define a matrix\n",
    "  * it takes a list of lists of the same length\n",
    "  * each list is a row"
   ]
  },
  {
   "cell_type": "code",
   "execution_count": 3,
   "metadata": {},
   "outputs": [
    {
     "name": "stdout",
     "output_type": "stream",
     "text": [
      "A= [[ 1  2 -1]\n",
      " [ 2  1 -1]\n",
      " [ 1  1  1]]\n",
      "b= [2 2 3]\n"
     ]
    }
   ],
   "source": [
    "from numpy.linalg import solve\n",
    "from numpy import array\n",
    "\n",
    "A =array([[1, 2, -1], [2, 1, -1], [1, 1, 1]])\n",
    "print(\"A=\", A)\n",
    "\n",
    "b = array([2, 2, 3])\n",
    "print(\"b=\", b)"
   ]
  },
  {
   "cell_type": "code",
   "execution_count": 5,
   "metadata": {},
   "outputs": [
    {
     "name": "stdout",
     "output_type": "stream",
     "text": [
      "[1. 1. 1.]\n"
     ]
    }
   ],
   "source": [
    "x = solve(A, b)\n",
    "print(x)"
   ]
  },
  {
   "cell_type": "markdown",
   "metadata": {},
   "source": [
    " ## Polynomial interpolation\n",
    "\n",
    "* find the unique degree-$n$ polynomial\n",
    "$$ y = a_0 + a_1 x + a_2 x^2 +\\dots a_nx^n $$\n",
    "that passes through $n+1$ points $\\{(x_i,y_i)\\}_{i=0}^n$\n",
    "$$\n",
    "\\left[\n",
    "\\begin{array}{ccccc}\n",
    "1 & x_0 & x_0^2 & \\cdots & x_0^n \\\\\n",
    "1 & x_1 & x_1^2 & \\cdots & x_1^n \\\\\n",
    "\\vdots & \\vdots & \\vdots & \\ddots & \\vdots \\\\\n",
    "1 & x_n & x_n^2 & \\dots & x_n^n\n",
    "\\end{array}\n",
    "\\right]\n",
    "\\left[\n",
    "\\begin{array}{c}\n",
    "a_0\\\\\n",
    "a_1\\\\\n",
    "\\vdots\\\\\n",
    "a_n\n",
    "\\end{array}\n",
    "\\right]\n",
    "=\n",
    "\\left[\n",
    "\\begin{array}{c}\n",
    "y_0\\\\\n",
    "y_1\\\\\n",
    "\\vdots\\\\\n",
    "y_n\n",
    "\\end{array}\n",
    "\\right]\n",
    "$$\n",
    "\n",
    "# Group Assignment Questions\n",
    "\n",
    "## Question 1\n",
    "\n",
    "The matrix\n",
    "$$\n",
    "\\left[\\begin{array}{cc}\n",
    "0.5 & 0.3 & 0\\\\\n",
    "0.3 & 0.3 & 0.4\\\\\n",
    "0.2 & 0.4 & 0.6 \\\\\n",
    "\\end{array}\\right]\n",
    "$$\n",
    "has an eigenvalue $\\lambda=1$, find the associated eigenvector which components sum to $1$. Specificaqlly, solve\n",
    "\\begin{align}\n",
    "0.5x+0.3y & =x\\\\\n",
    "0.3x+0.3y +0.4z & =y\\\\\n",
    "0.2x + 0.4y + 0.6z &=z\\\\\n",
    "x+y+z & =1\n",
    "\\end{align}\n",
    " * Hints: \n",
    "   * this system is not in the $Ax=b$ form. First rewrite it into the form\n",
    "   * The solve function requires a square matrix. We have 4 equations. But they are not independent. For example, the sum of the first 3 gives $0=0$. Pick 3 equations out of the 4."
   ]
  },
  {
   "cell_type": "code",
   "execution_count": 9,
   "metadata": {},
   "outputs": [
    {
     "data": {
      "text/plain": [
       "array([0.20689655, 0.34482759, 0.44827586])"
      ]
     },
     "execution_count": 9,
     "metadata": {},
     "output_type": "execute_result"
    }
   ],
   "source": [
    "# We pick the second and third equations to solve it.\n",
    "\n",
    "A = array([[0.3, -0.7, 0.4], [0.2, 0.4, -0.4], [1, 1, 1]])\n",
    "b = array([0, 0, 1])\n",
    "solve(A, b)"
   ]
  },
  {
   "cell_type": "markdown",
   "metadata": {},
   "source": [
    "## Question 2\n",
    "Find the cubic polynomial that passes though $(0, 0)$, $(1, 2)$, $(2, -1)$ and $(3, 1)$, and find an intersection of the polynomial with with $y=1-x$"
   ]
  },
  {
   "cell_type": "code",
   "execution_count": null,
   "metadata": {},
   "outputs": [],
   "source": []
  }
 ],
 "metadata": {
  "kernelspec": {
   "display_name": "Python 3 (ipykernel)",
   "language": "python",
   "name": "python3"
  },
  "language_info": {
   "codemirror_mode": {
    "name": "ipython",
    "version": 3
   },
   "file_extension": ".py",
   "mimetype": "text/x-python",
   "name": "python",
   "nbconvert_exporter": "python",
   "pygments_lexer": "ipython3",
   "version": "3.9.6"
  }
 },
 "nbformat": 4,
 "nbformat_minor": 4
}
