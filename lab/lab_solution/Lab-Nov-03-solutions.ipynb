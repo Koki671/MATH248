{
 "cells": [
  {
   "cell_type": "markdown",
   "metadata": {},
   "source": [
    "# Symbolic differentiation\n",
    "\n",
    "* `diff(e, x)` gives $\\displaystyle \\frac{\\partial e}{\\partial x}$\n",
    "* `diff(e, x, y)` gives $\\displaystyle \\frac{\\partial^2e}{\\partial x\\partial y}$\n",
    "* `diff(e, x, 2)` gives $\\displaystyle \\frac{\\partial^2e}{\\partial x^2}$\n",
    "\n",
    "## Example\n",
    "1. Find the critical points of $y=x\\ln x$"
   ]
  },
  {
   "cell_type": "code",
   "execution_count": 1,
   "metadata": {},
   "outputs": [
    {
     "data": {
      "text/latex": [
       "$\\displaystyle \\log{\\left(x \\right)} + 1$"
      ],
      "text/plain": [
       "log(x) + 1"
      ]
     },
     "metadata": {},
     "output_type": "display_data"
    },
    {
     "name": "stdout",
     "output_type": "stream",
     "text": [
      "found 1 critical points\n"
     ]
    },
    {
     "data": {
      "text/latex": [
       "$\\displaystyle e^{-1}$"
      ],
      "text/plain": [
       "exp(-1)"
      ]
     },
     "metadata": {},
     "output_type": "display_data"
    }
   ],
   "source": [
    "from sympy import *\n",
    "\n",
    "x = Symbol(\"x\")\n",
    "\n",
    "# y is an expression, not a symbol\n",
    "y = x*log(x)\n",
    "\n",
    "# dy is an expression, not a symbol\n",
    "dy = diff(y, x)\n",
    "display(dy)\n",
    "\n",
    "# critical point is where dy=0\n",
    "cp = solve(dy)\n",
    "print(\"found\", len(cp), \"critical points\")\n",
    "for p in cp:\n",
    "    display(p)\n"
   ]
  },
  {
   "cell_type": "markdown",
   "metadata": {},
   "source": [
    "2. Is the critical point a local maximum or minimum?\n",
    "\n",
    "We use the second derivative test:"
   ]
  },
  {
   "cell_type": "code",
   "execution_count": 120,
   "metadata": {},
   "outputs": [
    {
     "name": "stdout",
     "output_type": "stream",
     "text": [
      "minimum\n"
     ]
    }
   ],
   "source": [
    "# ddy is y\"\n",
    "ddy = diff(y, x, 2)\n",
    "# we evaluate ddy at the critical point\n",
    "if ddy.subs({x:cp[0]}) > 0:\n",
    "    print(\"minimum\")\n",
    "else:\n",
    "    print(\"maximum\")\n"
   ]
  },
  {
   "cell_type": "markdown",
   "metadata": {},
   "source": [
    "# Integration\n",
    "\n",
    "* `integrate(e, x)` gives the indefinite integral $\\displaystyle\\int edx$\n",
    "* `integrate(e, (x,a,b))` gives the definite integral $\\displaystyle\\int_a^b edx$\n",
    "\n",
    "# Example\n",
    "Let $$y=\\int_0^{\\cos^{-1}x} \\sin^2(t)dt$$\n",
    "\n",
    "Compute $y'(x)$"
   ]
  },
  {
   "cell_type": "code",
   "execution_count": 125,
   "metadata": {
    "scrolled": true
   },
   "outputs": [
    {
     "data": {
      "text/latex": [
       "$\\displaystyle - \\frac{x \\sqrt{1 - x^{2}}}{2} + \\frac{\\operatorname{acos}{\\left(x \\right)}}{2}$"
      ],
      "text/plain": [
       "-x*sqrt(1 - x**2)/2 + acos(x)/2"
      ]
     },
     "metadata": {},
     "output_type": "display_data"
    },
    {
     "data": {
      "text/latex": [
       "$\\displaystyle \\frac{x^{2}}{2 \\sqrt{1 - x^{2}}} - \\frac{\\sqrt{1 - x^{2}}}{2} - \\frac{1}{2 \\sqrt{1 - x^{2}}}$"
      ],
      "text/plain": [
       "x**2/(2*sqrt(1 - x**2)) - sqrt(1 - x**2)/2 - 1/(2*sqrt(1 - x**2))"
      ]
     },
     "metadata": {},
     "output_type": "display_data"
    },
    {
     "data": {
      "text/latex": [
       "$\\displaystyle - \\sqrt{1 - x^{2}}$"
      ],
      "text/plain": [
       "-sqrt(1 - x**2)"
      ]
     },
     "execution_count": 125,
     "metadata": {},
     "output_type": "execute_result"
    }
   ],
   "source": [
    "t = Symbol(\"t\")\n",
    "y = integrate(sin(t)**2, (t, 0, acos(x)))\n",
    "display(y)\n",
    "dy = diff(y)\n",
    "display(dy)\n",
    "simplify(dy)\n"
   ]
  },
  {
   "cell_type": "markdown",
   "metadata": {},
   "source": [
    "# Group assignment\n",
    "\n",
    "Consider the density function of the normal distribution\n",
    "$$\n",
    "f = \\frac{1}{\\sqrt{2\\pi}\\sigma}e^{-\\frac{(x-\\mu)^2}{2\\sigma^2}}\n",
    "$$\n",
    "\n",
    "## Question 1\n",
    "Compute the first and second moments\n",
    "$$\n",
    "E=\\int_{-\\infty}^{\\infty}xfdx, \n",
    "M=\\int_{-\\infty}^{\\infty}x^2fdx, \n",
    "$$\n",
    "and compute the variance $V=M-E^2$\n",
    "* Hints\n",
    "  * in `sympy`, `oo` is $\\infty$ (`-oo` is $-\\infty$)\n",
    "  * You may need to specify that $x$, $\\mu$ are real numbers, and $\\sigma$ is positive"
   ]
  },
  {
   "cell_type": "code",
   "execution_count": 10,
   "metadata": {},
   "outputs": [
    {
     "data": {
      "text/latex": [
       "$\\displaystyle \\frac{\\sqrt{2} e^{- \\frac{\\left(- \\mu + x\\right)^{2}}{2 \\sigma^{2}}}}{2 \\sqrt{\\pi} \\sigma}$"
      ],
      "text/plain": [
       "sqrt(2)*exp(-(-mu + x)**2/(2*sigma**2))/(2*sqrt(pi)*sigma)"
      ]
     },
     "metadata": {},
     "output_type": "display_data"
    },
    {
     "data": {
      "text/latex": [
       "$\\displaystyle \\mu$"
      ],
      "text/plain": [
       "mu"
      ]
     },
     "metadata": {},
     "output_type": "display_data"
    },
    {
     "data": {
      "text/latex": [
       "$\\displaystyle \\mu^{2} + \\sigma^{2}$"
      ],
      "text/plain": [
       "mu**2 + sigma**2"
      ]
     },
     "metadata": {},
     "output_type": "display_data"
    },
    {
     "data": {
      "text/latex": [
       "$\\displaystyle \\sigma^{2}$"
      ],
      "text/plain": [
       "sigma**2"
      ]
     },
     "metadata": {},
     "output_type": "display_data"
    }
   ],
   "source": [
    "x = Symbol(\"x\", real=True)\n",
    "sigma = Symbol(\"sigma\", positive=True)\n",
    "mu = Symbol(\"mu\", real=True)\n",
    "\n",
    "f = exp(-(x-mu)**2/2/sigma**2)/sqrt(2*pi)/sigma\n",
    "display(f)\n",
    "\n",
    "E = integrate(f*x, (x, -oo, oo))\n",
    "display(E)\n",
    "\n",
    "M = integrate(f*x**2, (x, -oo, oo))\n",
    "display(M)\n",
    "\n",
    "V = M-E**2\n",
    "display(V)"
   ]
  },
  {
   "cell_type": "markdown",
   "metadata": {},
   "source": [
    "## Question 2\n",
    "\n",
    "Find the critical points and inflection points of $P$."
   ]
  },
  {
   "cell_type": "code",
   "execution_count": 159,
   "metadata": {},
   "outputs": [
    {
     "data": {
      "text/latex": [
       "$\\displaystyle \\frac{\\sqrt{2} \\left(\\mu - x\\right) e^{- \\frac{\\left(\\mu - x\\right)^{2}}{2 \\sigma^{2}}}}{2 \\sqrt{\\pi} \\sigma^{3}}$"
      ],
      "text/plain": [
       "sqrt(2)*(mu - x)*exp(-(mu - x)**2/(2*sigma**2))/(2*sqrt(pi)*sigma**3)"
      ]
     },
     "metadata": {},
     "output_type": "display_data"
    },
    {
     "data": {
      "text/latex": [
       "$\\displaystyle \\mu$"
      ],
      "text/plain": [
       "mu"
      ]
     },
     "metadata": {},
     "output_type": "display_data"
    },
    {
     "data": {
      "text/latex": [
       "$\\displaystyle \\mu - \\sigma$"
      ],
      "text/plain": [
       "mu - sigma"
      ]
     },
     "metadata": {},
     "output_type": "display_data"
    },
    {
     "data": {
      "text/latex": [
       "$\\displaystyle \\mu + \\sigma$"
      ],
      "text/plain": [
       "mu + sigma"
      ]
     },
     "metadata": {},
     "output_type": "display_data"
    }
   ],
   "source": [
    "df = diff(f, x)\n",
    "display(simplify(df))\n",
    "cp = solve(df, x)[0]\n",
    "display(cp)\n",
    "ddf = diff(f, x, 2)\n",
    "poi = solve(ddf, x)\n",
    "display(poi[0], poi[1])\n"
   ]
  },
  {
   "cell_type": "code",
   "execution_count": null,
   "metadata": {},
   "outputs": [],
   "source": []
  }
 ],
 "metadata": {
  "kernelspec": {
   "display_name": "Python 3 (ipykernel)",
   "language": "python",
   "name": "python3"
  },
  "language_info": {
   "codemirror_mode": {
    "name": "ipython",
    "version": 3
   },
   "file_extension": ".py",
   "mimetype": "text/x-python",
   "name": "python",
   "nbconvert_exporter": "python",
   "pygments_lexer": "ipython3",
   "version": "3.9.7"
  }
 },
 "nbformat": 4,
 "nbformat_minor": 4
}
