{
 "cells": [
  {
   "cell_type": "markdown",
   "metadata": {},
   "source": [
    "# Lab Wednesday November 30\n",
    "\n",
    "Please put the name and student ID of each group member here:\n"
   ]
  },
  {
   "cell_type": "markdown",
   "metadata": {},
   "source": [
    "# Review\n",
    "\n",
    "## Linear Programming\n",
    "**Linear programming**\n",
    "* the objective function is linear\n",
    "* the feasible set is defined by linear equations or inequalities, \n",
    "\n",
    "The general form:\n",
    "\n",
    "\\begin{align}\n",
    "  \\min_x & &  c^Tx \\\\\t\n",
    "\\text{subject to} & & A_{ub}x\\leq b_{ub}\\\\\n",
    "  & & A_{eq}x = b_{eq}\\\\\n",
    "  & & l\\leq x\\leq u\n",
    "\\end{align}\n",
    "\n",
    "\n",
    "\n",
    "## The linprog function in scipy.optimize\n",
    "\n",
    "* Usage: `linprog(c, A_ub, b_ub, A_eq, b_eq, bounds)`:\n",
    "  * If a corresponding constraint does not exist, pass `None` to the corresponding argument\n",
    "  * bounds: A sequence of (min, max) pairs for each element in x, defining the minimum and maximum values of that decision variable. Use None to indicate that there is no bound. By default, bounds are (0, None) (all decision variables are non-negative). If a single tuple (min, max) is provided, then min and max will serve as bounds for all decision variables. \n",
    "* Return value: an object containing at least the following instance varibles\n",
    "* `x`: The values of the decision variables that minimizes the objective function while satisfying the constraints.\n",
    "* `fun`: The optimal value of the objective function $c\\dot x$.\n",
    "* `success`: True when the algorithm succeeds in finding an optimal solution.\n",
    "* `status`: An integer representing the exit status of the algorithm.\n",
    "  * 0 : Optimization terminated successfully.\n",
    "  * 1 : Iteration limit reached.\n",
    "  * 2 : Problem appears to be infeasible.\n",
    "  * 3 : Problem appears to be unbounded.\n",
    "  * 4 : Numerical difficulties encountered.\n",
    "* `message`: A string descriptor of the exit status of the algorithm.\n",
    "\n",
    "\n",
    "# Example\n",
    "\n",
    "Suppose that a machine can produce 100 cases of six-ounce glasses in 6 hours, or 100 cases of ten-ounce cocktail glasses in 5 hours. The scheduled production time is 60 hours per week. The available storage is 15,000 cubic feet. A case of six-ounce glasses requires 10 cubic feet of storage space, while a case of ten-ounce glasses requires 20 cubic feet. The profit of the six-ounce glasses is CAD5.00 per case; however, there is a market capacity of 800 cases per week. The profit of the ten-ounce glasses is CAD4.50 per case and there is no market capacity. How many cases of each type of glass should be produced each week in order to maximize the total prodit?\n",
    "\n",
    "**Soluation** Let $x$ and $y$ be the number of six- and ten-ounce glasses to be produced per week.\n",
    "\n",
    "* **Maximizing the profit**\n",
    "$$ \\max_{x,y} 5x+4.5y $$\n",
    "\n",
    "* **Constrains**\n",
    "  * Total production time:\n",
    "  $$ 6x/100 + 5y/100 \\leq 60 $$\n",
    "  * Total storage:\n",
    "  $$ 10x+20y\\leq 15000 $$\n",
    "  * Bounds:\n",
    "  $$ 0\\leq x\\leq 800,\\;\\text{ and }0\\leq y $$\n",
    "\n",
    "## The arguments of the linprog function\n",
    "* the objective function's coefficients: This is a maximization problem, we need to convert it to a minimization problem\n",
    "   * maximizing $f(x)$ is equivalent to minimizing $-f(x)$\n",
    "   * $c=[-5, -4.5]$\n",
    "* the constrains:\n",
    "  * The upper bounds:\n",
    "    * Note that all inequalities must be written as $A_u x\\leq b_u$\n",
    "    * Here\n",
    "    $$ A_{ub} = \\left[\\begin{array}{cc} 0.06 & 0.05 \\\\ 10 & 20\\end{array}\\right], \\;\n",
    "       b_{ub} = \\left[\\begin{array}{cc} 60\\\\ 15000\\end{array}\\right]$$\n",
    "       \n",
    "  * The equation constraints: None\n",
    "    * `A_eq=None`\n",
    "    * `b_eq=None`\n",
    "  * The bounds:\n",
    "    * For $x$: `[0, 800]`\n",
    "    * For $y$: `[0, None]`\n"
   ]
  },
  {
   "cell_type": "code",
   "execution_count": 20,
   "metadata": {
    "scrolled": true
   },
   "outputs": [
    {
     "data": {
      "text/plain": [
       "     con: array([], dtype=float64)\n",
       "     fun: -5142.857141392633\n",
       " message: 'Optimization terminated successfully.'\n",
       "     nit: 6\n",
       "   slack: array([1.70755143e-08, 4.30018554e-06])\n",
       "  status: 0\n",
       " success: True\n",
       "       x: array([642.85714268, 428.57142845])"
      ]
     },
     "execution_count": 20,
     "metadata": {},
     "output_type": "execute_result"
    }
   ],
   "source": [
    "from scipy.optimize import linprog\n",
    "from numpy import array\n",
    "c = array([-5, -4.5])\n",
    "A_ub = array([[0.06, 0.05], [10, 20]])\n",
    "b_ub = array([60, 15000])\n",
    "\n",
    "linprog(c, A_ub = A_ub, b_ub = b_ub, A_eq = None, b_eq = None, bounds = [[0, 800], [0, None]])"
   ]
  },
  {
   "cell_type": "markdown",
   "metadata": {},
   "source": [
    "The maximum profit is CAD -(-5142.86)=5142.86, by producting 642.86 6-ounce boxed and 428.57 10-ounce boxes.\n",
    "\n",
    "## Integer solutions\n",
    "However, we cannot produce a fraction of a case. So we need to choose from 3 possible answers:\n",
    "* $x=642$, $y=428$\n",
    "  * This solution must be in the feasible region\n",
    "* $x=643$, $y=428$\n",
    "  * We need to check if this is in the feasible region\n",
    "* $x=642$, $y=429$\n",
    "  * We need to check if this is in the feasible region\n",
    "Note that $x=643$ and $y=429$ must be out of the feasible region (why?)"
   ]
  },
  {
   "cell_type": "code",
   "execution_count": 10,
   "metadata": {},
   "outputs": [
    {
     "data": {
      "text/plain": [
       "5136.0"
      ]
     },
     "execution_count": 10,
     "metadata": {},
     "output_type": "execute_result"
    }
   ],
   "source": [
    "from numpy import matmul\n",
    "sol1 = array([642, 428])\n",
    "-sum(c*sol1)\n"
   ]
  },
  {
   "cell_type": "code",
   "execution_count": 12,
   "metadata": {},
   "outputs": [
    {
     "name": "stdout",
     "output_type": "stream",
     "text": [
      "profit= 5141.0\n"
     ]
    },
    {
     "data": {
      "text/plain": [
       "array([ True,  True])"
      ]
     },
     "execution_count": 12,
     "metadata": {},
     "output_type": "execute_result"
    }
   ],
   "source": [
    "sol2 = array([643, 428])\n",
    "print(\"profit=\", -sum(c*sol2))\n",
    "matmul(A_ub, sol2) < b_ub"
   ]
  },
  {
   "cell_type": "code",
   "execution_count": 13,
   "metadata": {},
   "outputs": [
    {
     "name": "stdout",
     "output_type": "stream",
     "text": [
      "profit= 5140.5\n"
     ]
    },
    {
     "data": {
      "text/plain": [
       "array([ True, False])"
      ]
     },
     "execution_count": 13,
     "metadata": {},
     "output_type": "execute_result"
    }
   ],
   "source": [
    "sol2 = array([642, 429])\n",
    "print(\"profit=\", -sum(c*sol2))\n",
    "matmul(A_ub, sol2) < b_ub"
   ]
  },
  {
   "cell_type": "markdown",
   "metadata": {},
   "source": [
    "Thus, $x=643$, $y=428$ is still in the feasible region, the maximum profit is CAD 5141.\n",
    " "
   ]
  },
  {
   "cell_type": "markdown",
   "metadata": {},
   "source": [
    "# Group assignment\n",
    "\n",
    "A company manufactures three lines of products: the basic, the pro and the premium, with respective profits $3, $9, and $25. respectively. The distribution center requires that at least 250 basic, 375 pro, and 150 premium products be produced each week. Each product requires a certain amount of time in order to: (1) manufacture the body; (2) assemble the parts; and (3) inspect, test, and package. The basic takes 0.1 hours to manufacture, 0.2 hours to assemble, and 0.1 hours to inspect, test, and package. The pro needs 0.2, 0.35, and 0.2 hours respectively, and the premium requires 0.7, 0.1, and 0.3 hours, respectively. In addition, there are 250 hours per week of manufacturing time available, 350 hours of assembly, and 150 hours total to inspect, test, and package.\n",
    "\n",
    "How many products of each type should be produced to maximize the profit? Your answer may contain fractions, there is no need to find an integer answer."
   ]
  },
  {
   "cell_type": "markdown",
   "metadata": {},
   "source": [
    "## Solution\n",
    "\n",
    "Let $x$, $y$ and $z$ be the number of products in each line be produced.\n",
    "\n",
    "We want maximize the profit: \n",
    "$$\\max_{x,y,z} 3x+9y+25z $$\n",
    "This is equivalent to\n",
    "$$\\min_{x,y,z} -3x-9y-25z $$\n",
    "\n",
    "Constraints:\n",
    "* Distribution center (these are bounds)\n",
    "  * Basic: $x\\geq 250$\n",
    "  * Pro: $y\\geq375$\n",
    "  * Premium: $z\\geq 150 $\n",
    "* Manufacture time (these are upper bounds)\n",
    "  * Basic: $0.1x+0.2y+0.7z\\leq 250$\n",
    "  * Pro: $0.2x + 0.35 y + 0.1z\\leq 350$\n",
    "  * Premium: $0.1x + 0.2y+0.3z\\leq 150$\n"
   ]
  },
  {
   "cell_type": "code",
   "execution_count": 22,
   "metadata": {},
   "outputs": [
    {
     "name": "stdout",
     "output_type": "stream",
     "text": [
      "[[0.1  0.2  0.7 ]\n",
      " [0.2  0.35 0.1 ]\n",
      " [0.1  0.2  0.3 ]]\n"
     ]
    },
    {
     "data": {
      "text/plain": [
       "     con: array([], dtype=float64)\n",
       "     fun: -8291.666666663641\n",
       " message: 'Optimization terminated successfully.'\n",
       "     nit: 6\n",
       "   slack: array([3.33333333e+01, 1.52083333e+02, 3.58397756e-11])\n",
       "  status: 0\n",
       " success: True\n",
       "       x: array([250.        , 375.        , 166.66666667])"
      ]
     },
     "execution_count": 22,
     "metadata": {},
     "output_type": "execute_result"
    }
   ],
   "source": [
    "from scipy.optimize import linprog\n",
    "from numpy import array\n",
    "c = array([-3, -9, -25])\n",
    "A_ub = array([[0.1, 0.2, 0.7], [0.2, 0.35, 0.1], [0.1, 0.2, 0.3]])\n",
    "print(A_ub)\n",
    "b_ub = array([250, 350, 150])\n",
    "bounds = [[250, None], [375, None], [150, None]]\n",
    "linprog(c, A_ub = A_ub, b_ub = b_ub, A_eq = None, b_eq = None, bounds = bounds)"
   ]
  },
  {
   "cell_type": "markdown",
   "metadata": {},
   "source": [
    "Thus, the optimal answer is to produce 250 basics, 375 pros and 166 premiums. "
   ]
  },
  {
   "cell_type": "code",
   "execution_count": null,
   "metadata": {},
   "outputs": [],
   "source": []
  }
 ],
 "metadata": {
  "kernelspec": {
   "display_name": "Python 3 (ipykernel)",
   "language": "python",
   "name": "python3"
  },
  "language_info": {
   "codemirror_mode": {
    "name": "ipython",
    "version": 3
   },
   "file_extension": ".py",
   "mimetype": "text/x-python",
   "name": "python",
   "nbconvert_exporter": "python",
   "pygments_lexer": "ipython3",
   "version": "3.9.7"
  }
 },
 "nbformat": 4,
 "nbformat_minor": 4
}
